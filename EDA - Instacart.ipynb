{
 "cells": [
  {
   "cell_type": "markdown",
   "id": "48139c94",
   "metadata": {},
   "source": [
    "# PROJECT - Instacart Data Dive\n",
    "\n",
    "## Situation\n",
    "Instacart, a popular grocery delivery platform, allows customers to place grocery orders online and have them delivered to their doorstep. Similar to services like Uber Eats and DoorDash, Instacart aims to make grocery shopping convenient and efficient for its users.\n",
    "\n",
    "## Project Goal\n",
    "The goal of this project is to analyze Instacart’s customer shopping habits using a modified dataset. By cleaning and exploring the data, we’ll gain insights into how customers shop, what products they prefer, and any patterns that emerge.\n",
    "\n",
    "## Data Description\n",
    "We’ll be working with a modified version of the original Instacart dataset. This dataset has been downsized for faster calculations and includes introduced missing and duplicate values. Despite these modifications, we’ve ensured that the distributions of the original data remain intact. The dataset contains information about customer orders, products, and their interactions.\n"
   ]
  },
  {
   "cell_type": "code",
   "execution_count": 1,
   "id": "796ea603",
   "metadata": {},
   "outputs": [],
   "source": [
    "import pandas as pd\n",
    "import numpy as np\n",
    "import matplotlib.pyplot as plt"
   ]
  },
  {
   "cell_type": "code",
   "execution_count": 3,
   "id": "5130e05e",
   "metadata": {},
   "outputs": [],
   "source": [
    "order_p = pd.read_csv('datasets/order_products.csv',sep=';')\n"
   ]
  },
  {
   "cell_type": "code",
   "execution_count": 4,
   "id": "102ddd39",
   "metadata": {},
   "outputs": [
    {
     "data": {
      "text/html": [
       "<div>\n",
       "<style scoped>\n",
       "    .dataframe tbody tr th:only-of-type {\n",
       "        vertical-align: middle;\n",
       "    }\n",
       "\n",
       "    .dataframe tbody tr th {\n",
       "        vertical-align: top;\n",
       "    }\n",
       "\n",
       "    .dataframe thead th {\n",
       "        text-align: right;\n",
       "    }\n",
       "</style>\n",
       "<table border=\"1\" class=\"dataframe\">\n",
       "  <thead>\n",
       "    <tr style=\"text-align: right;\">\n",
       "      <th></th>\n",
       "      <th>order_id</th>\n",
       "      <th>product_id</th>\n",
       "      <th>add_to_cart_order</th>\n",
       "      <th>reordered</th>\n",
       "    </tr>\n",
       "  </thead>\n",
       "  <tbody>\n",
       "    <tr>\n",
       "      <th>0</th>\n",
       "      <td>2141543</td>\n",
       "      <td>11440</td>\n",
       "      <td>17.0</td>\n",
       "      <td>0</td>\n",
       "    </tr>\n",
       "    <tr>\n",
       "      <th>1</th>\n",
       "      <td>567889</td>\n",
       "      <td>1560</td>\n",
       "      <td>1.0</td>\n",
       "      <td>1</td>\n",
       "    </tr>\n",
       "    <tr>\n",
       "      <th>2</th>\n",
       "      <td>2261212</td>\n",
       "      <td>26683</td>\n",
       "      <td>1.0</td>\n",
       "      <td>1</td>\n",
       "    </tr>\n",
       "    <tr>\n",
       "      <th>3</th>\n",
       "      <td>491251</td>\n",
       "      <td>8670</td>\n",
       "      <td>35.0</td>\n",
       "      <td>1</td>\n",
       "    </tr>\n",
       "    <tr>\n",
       "      <th>4</th>\n",
       "      <td>2571142</td>\n",
       "      <td>1940</td>\n",
       "      <td>5.0</td>\n",
       "      <td>1</td>\n",
       "    </tr>\n",
       "  </tbody>\n",
       "</table>\n",
       "</div>"
      ],
      "text/plain": [
       "   order_id  product_id  add_to_cart_order  reordered\n",
       "0   2141543       11440               17.0          0\n",
       "1    567889        1560                1.0          1\n",
       "2   2261212       26683                1.0          1\n",
       "3    491251        8670               35.0          1\n",
       "4   2571142        1940                5.0          1"
      ]
     },
     "execution_count": 4,
     "metadata": {},
     "output_type": "execute_result"
    }
   ],
   "source": [
    "order_p.head()"
   ]
  },
  {
   "cell_type": "code",
   "execution_count": 5,
   "id": "6fc81694",
   "metadata": {},
   "outputs": [],
   "source": [
    "orders = pd.read_csv('datasets/instacart_orders.csv',sep=';')"
   ]
  },
  {
   "cell_type": "code",
   "execution_count": 6,
   "id": "602ed117",
   "metadata": {},
   "outputs": [
    {
     "data": {
      "text/html": [
       "<div>\n",
       "<style scoped>\n",
       "    .dataframe tbody tr th:only-of-type {\n",
       "        vertical-align: middle;\n",
       "    }\n",
       "\n",
       "    .dataframe tbody tr th {\n",
       "        vertical-align: top;\n",
       "    }\n",
       "\n",
       "    .dataframe thead th {\n",
       "        text-align: right;\n",
       "    }\n",
       "</style>\n",
       "<table border=\"1\" class=\"dataframe\">\n",
       "  <thead>\n",
       "    <tr style=\"text-align: right;\">\n",
       "      <th></th>\n",
       "      <th>order_id</th>\n",
       "      <th>user_id</th>\n",
       "      <th>order_number</th>\n",
       "      <th>order_dow</th>\n",
       "      <th>order_hour_of_day</th>\n",
       "      <th>days_since_prior_order</th>\n",
       "    </tr>\n",
       "  </thead>\n",
       "  <tbody>\n",
       "    <tr>\n",
       "      <th>0</th>\n",
       "      <td>1515936</td>\n",
       "      <td>183418</td>\n",
       "      <td>11</td>\n",
       "      <td>6</td>\n",
       "      <td>13</td>\n",
       "      <td>30.0</td>\n",
       "    </tr>\n",
       "    <tr>\n",
       "      <th>1</th>\n",
       "      <td>1690866</td>\n",
       "      <td>163593</td>\n",
       "      <td>5</td>\n",
       "      <td>5</td>\n",
       "      <td>12</td>\n",
       "      <td>9.0</td>\n",
       "    </tr>\n",
       "    <tr>\n",
       "      <th>2</th>\n",
       "      <td>1454967</td>\n",
       "      <td>39980</td>\n",
       "      <td>4</td>\n",
       "      <td>5</td>\n",
       "      <td>19</td>\n",
       "      <td>2.0</td>\n",
       "    </tr>\n",
       "    <tr>\n",
       "      <th>3</th>\n",
       "      <td>1768857</td>\n",
       "      <td>82516</td>\n",
       "      <td>56</td>\n",
       "      <td>0</td>\n",
       "      <td>20</td>\n",
       "      <td>10.0</td>\n",
       "    </tr>\n",
       "    <tr>\n",
       "      <th>4</th>\n",
       "      <td>3007858</td>\n",
       "      <td>196724</td>\n",
       "      <td>2</td>\n",
       "      <td>4</td>\n",
       "      <td>12</td>\n",
       "      <td>17.0</td>\n",
       "    </tr>\n",
       "  </tbody>\n",
       "</table>\n",
       "</div>"
      ],
      "text/plain": [
       "   order_id  user_id  order_number  order_dow  order_hour_of_day  \\\n",
       "0   1515936   183418            11          6                 13   \n",
       "1   1690866   163593             5          5                 12   \n",
       "2   1454967    39980             4          5                 19   \n",
       "3   1768857    82516            56          0                 20   \n",
       "4   3007858   196724             2          4                 12   \n",
       "\n",
       "   days_since_prior_order  \n",
       "0                    30.0  \n",
       "1                     9.0  \n",
       "2                     2.0  \n",
       "3                    10.0  \n",
       "4                    17.0  "
      ]
     },
     "execution_count": 6,
     "metadata": {},
     "output_type": "execute_result"
    }
   ],
   "source": [
    "orders.head()"
   ]
  },
  {
   "cell_type": "code",
   "execution_count": 9,
   "id": "59e2090f",
   "metadata": {},
   "outputs": [],
   "source": [
    "products = pd.read_csv('datasets/products.csv',sep=';')\n"
   ]
  },
  {
   "cell_type": "code",
   "execution_count": 10,
   "id": "db4ad030",
   "metadata": {},
   "outputs": [
    {
     "data": {
      "text/html": [
       "<div>\n",
       "<style scoped>\n",
       "    .dataframe tbody tr th:only-of-type {\n",
       "        vertical-align: middle;\n",
       "    }\n",
       "\n",
       "    .dataframe tbody tr th {\n",
       "        vertical-align: top;\n",
       "    }\n",
       "\n",
       "    .dataframe thead th {\n",
       "        text-align: right;\n",
       "    }\n",
       "</style>\n",
       "<table border=\"1\" class=\"dataframe\">\n",
       "  <thead>\n",
       "    <tr style=\"text-align: right;\">\n",
       "      <th></th>\n",
       "      <th>product_id</th>\n",
       "      <th>product_name</th>\n",
       "      <th>aisle_id</th>\n",
       "      <th>department_id</th>\n",
       "    </tr>\n",
       "  </thead>\n",
       "  <tbody>\n",
       "    <tr>\n",
       "      <th>0</th>\n",
       "      <td>1</td>\n",
       "      <td>Chocolate Sandwich Cookies</td>\n",
       "      <td>61</td>\n",
       "      <td>19</td>\n",
       "    </tr>\n",
       "    <tr>\n",
       "      <th>1</th>\n",
       "      <td>2</td>\n",
       "      <td>All-Seasons Salt</td>\n",
       "      <td>104</td>\n",
       "      <td>13</td>\n",
       "    </tr>\n",
       "    <tr>\n",
       "      <th>2</th>\n",
       "      <td>3</td>\n",
       "      <td>Robust Golden Unsweetened Oolong Tea</td>\n",
       "      <td>94</td>\n",
       "      <td>7</td>\n",
       "    </tr>\n",
       "    <tr>\n",
       "      <th>3</th>\n",
       "      <td>4</td>\n",
       "      <td>Smart Ones Classic Favorites Mini Rigatoni Wit...</td>\n",
       "      <td>38</td>\n",
       "      <td>1</td>\n",
       "    </tr>\n",
       "    <tr>\n",
       "      <th>4</th>\n",
       "      <td>5</td>\n",
       "      <td>Green Chile Anytime Sauce</td>\n",
       "      <td>5</td>\n",
       "      <td>13</td>\n",
       "    </tr>\n",
       "  </tbody>\n",
       "</table>\n",
       "</div>"
      ],
      "text/plain": [
       "   product_id                                       product_name  aisle_id  \\\n",
       "0           1                         Chocolate Sandwich Cookies        61   \n",
       "1           2                                   All-Seasons Salt       104   \n",
       "2           3               Robust Golden Unsweetened Oolong Tea        94   \n",
       "3           4  Smart Ones Classic Favorites Mini Rigatoni Wit...        38   \n",
       "4           5                          Green Chile Anytime Sauce         5   \n",
       "\n",
       "   department_id  \n",
       "0             19  \n",
       "1             13  \n",
       "2              7  \n",
       "3              1  \n",
       "4             13  "
      ]
     },
     "execution_count": 10,
     "metadata": {},
     "output_type": "execute_result"
    }
   ],
   "source": [
    "products.head()"
   ]
  },
  {
   "cell_type": "code",
   "execution_count": 12,
   "id": "1e52054e",
   "metadata": {},
   "outputs": [],
   "source": [
    "aisles = pd.read_csv('datasets/aisles.csv',sep=';')"
   ]
  },
  {
   "cell_type": "code",
   "execution_count": 15,
   "id": "a68ad56e",
   "metadata": {},
   "outputs": [
    {
     "data": {
      "text/html": [
       "<div>\n",
       "<style scoped>\n",
       "    .dataframe tbody tr th:only-of-type {\n",
       "        vertical-align: middle;\n",
       "    }\n",
       "\n",
       "    .dataframe tbody tr th {\n",
       "        vertical-align: top;\n",
       "    }\n",
       "\n",
       "    .dataframe thead th {\n",
       "        text-align: right;\n",
       "    }\n",
       "</style>\n",
       "<table border=\"1\" class=\"dataframe\">\n",
       "  <thead>\n",
       "    <tr style=\"text-align: right;\">\n",
       "      <th></th>\n",
       "      <th>aisle_id</th>\n",
       "      <th>aisle</th>\n",
       "    </tr>\n",
       "  </thead>\n",
       "  <tbody>\n",
       "    <tr>\n",
       "      <th>0</th>\n",
       "      <td>1</td>\n",
       "      <td>prepared soups salads</td>\n",
       "    </tr>\n",
       "    <tr>\n",
       "      <th>1</th>\n",
       "      <td>2</td>\n",
       "      <td>specialty cheeses</td>\n",
       "    </tr>\n",
       "    <tr>\n",
       "      <th>2</th>\n",
       "      <td>3</td>\n",
       "      <td>energy granola bars</td>\n",
       "    </tr>\n",
       "    <tr>\n",
       "      <th>3</th>\n",
       "      <td>4</td>\n",
       "      <td>instant foods</td>\n",
       "    </tr>\n",
       "    <tr>\n",
       "      <th>4</th>\n",
       "      <td>5</td>\n",
       "      <td>marinades meat preparation</td>\n",
       "    </tr>\n",
       "  </tbody>\n",
       "</table>\n",
       "</div>"
      ],
      "text/plain": [
       "   aisle_id                       aisle\n",
       "0         1       prepared soups salads\n",
       "1         2           specialty cheeses\n",
       "2         3         energy granola bars\n",
       "3         4               instant foods\n",
       "4         5  marinades meat preparation"
      ]
     },
     "execution_count": 15,
     "metadata": {},
     "output_type": "execute_result"
    }
   ],
   "source": [
    "aisles.head()"
   ]
  },
  {
   "cell_type": "code",
   "execution_count": 14,
   "id": "3767ca7e",
   "metadata": {},
   "outputs": [],
   "source": [
    "depts = pd.read_csv('datasets/departments.csv',sep=';')"
   ]
  },
  {
   "cell_type": "code",
   "execution_count": 16,
   "id": "aba7195f",
   "metadata": {},
   "outputs": [
    {
     "data": {
      "text/html": [
       "<div>\n",
       "<style scoped>\n",
       "    .dataframe tbody tr th:only-of-type {\n",
       "        vertical-align: middle;\n",
       "    }\n",
       "\n",
       "    .dataframe tbody tr th {\n",
       "        vertical-align: top;\n",
       "    }\n",
       "\n",
       "    .dataframe thead th {\n",
       "        text-align: right;\n",
       "    }\n",
       "</style>\n",
       "<table border=\"1\" class=\"dataframe\">\n",
       "  <thead>\n",
       "    <tr style=\"text-align: right;\">\n",
       "      <th></th>\n",
       "      <th>department_id</th>\n",
       "      <th>department</th>\n",
       "    </tr>\n",
       "  </thead>\n",
       "  <tbody>\n",
       "    <tr>\n",
       "      <th>0</th>\n",
       "      <td>1</td>\n",
       "      <td>frozen</td>\n",
       "    </tr>\n",
       "    <tr>\n",
       "      <th>1</th>\n",
       "      <td>2</td>\n",
       "      <td>other</td>\n",
       "    </tr>\n",
       "    <tr>\n",
       "      <th>2</th>\n",
       "      <td>3</td>\n",
       "      <td>bakery</td>\n",
       "    </tr>\n",
       "    <tr>\n",
       "      <th>3</th>\n",
       "      <td>4</td>\n",
       "      <td>produce</td>\n",
       "    </tr>\n",
       "    <tr>\n",
       "      <th>4</th>\n",
       "      <td>5</td>\n",
       "      <td>alcohol</td>\n",
       "    </tr>\n",
       "  </tbody>\n",
       "</table>\n",
       "</div>"
      ],
      "text/plain": [
       "   department_id department\n",
       "0              1     frozen\n",
       "1              2      other\n",
       "2              3     bakery\n",
       "3              4    produce\n",
       "4              5    alcohol"
      ]
     },
     "execution_count": 16,
     "metadata": {},
     "output_type": "execute_result"
    }
   ],
   "source": [
    "depts.head()"
   ]
  },
  {
   "cell_type": "markdown",
   "id": "b3e03af0",
   "metadata": {},
   "source": [
    "Certainly! Here’s your provided information formatted in Markdown:\n",
    "\n",
    "# Summary and Observations\n",
    "\n",
    "## Order Data:\n",
    "- The order data contains information about orders made by users.\n",
    "- Columns include `order_id`, `user_id`, `order_number`, `order_dow` (day of the week), `order_hour_of_day`, and `days_since_prior_order`.\n",
    "- There are 478,967 entries in this dataset.\n",
    "- The `days_since_prior_order` column has some missing values (non-null count: 450,148).\n",
    "\n",
    "## Product Data:\n",
    "- The product data includes details about various products available.\n",
    "- Columns include `product_id`, `product_name`, `aisle_id`, and `department_id`.\n",
    "- There are 49,694 unique products.\n",
    "- Some product names are missing (non-null count: 48,436).\n",
    "\n",
    "## Aisle Data:\n",
    "- The aisle data provides information about different product aisles.\n",
    "- Columns include `aisle_id` and `aisle`.\n",
    "- There are 21 unique aisles.\n",
    "\n",
    "## Department Data:\n",
    "- The department data categorizes products into different departments.\n",
    "- Columns include `department_id` and `department`.\n",
    "- There are 21 unique departments.\n",
    "\n",
    "### Observations:\n",
    "- Users tend to place orders at different times of the day and week.\n",
    "- Some products have missing names, which might need further investigation.\n",
    "- The variety of aisles and departments indicates a diverse product range.\n"
   ]
  },
  {
   "cell_type": "markdown",
   "id": "07357848-dc64-4156-9cc3-01ff4365226d",
   "metadata": {},
   "source": [
    "## Find and remove duplicate values (and describe why you make your choices)"
   ]
  },
  {
   "cell_type": "markdown",
   "id": "f179f0a9",
   "metadata": {},
   "source": [
    "### `orders` data frame"
   ]
  },
  {
   "cell_type": "code",
   "execution_count": 26,
   "id": "b99297a5-405a-463d-8535-9adc3da4ad74",
   "metadata": {},
   "outputs": [
    {
     "data": {
      "text/html": [
       "<div>\n",
       "<style scoped>\n",
       "    .dataframe tbody tr th:only-of-type {\n",
       "        vertical-align: middle;\n",
       "    }\n",
       "\n",
       "    .dataframe tbody tr th {\n",
       "        vertical-align: top;\n",
       "    }\n",
       "\n",
       "    .dataframe thead th {\n",
       "        text-align: right;\n",
       "    }\n",
       "</style>\n",
       "<table border=\"1\" class=\"dataframe\">\n",
       "  <thead>\n",
       "    <tr style=\"text-align: right;\">\n",
       "      <th></th>\n",
       "      <th>order_id</th>\n",
       "      <th>user_id</th>\n",
       "      <th>order_number</th>\n",
       "      <th>order_dow</th>\n",
       "      <th>order_hour_of_day</th>\n",
       "      <th>days_since_prior_order</th>\n",
       "    </tr>\n",
       "  </thead>\n",
       "  <tbody>\n",
       "    <tr>\n",
       "      <th>145574</th>\n",
       "      <td>794638</td>\n",
       "      <td>50898</td>\n",
       "      <td>24</td>\n",
       "      <td>3</td>\n",
       "      <td>2</td>\n",
       "      <td>2.0</td>\n",
       "    </tr>\n",
       "    <tr>\n",
       "      <th>223105</th>\n",
       "      <td>2160484</td>\n",
       "      <td>107525</td>\n",
       "      <td>16</td>\n",
       "      <td>3</td>\n",
       "      <td>2</td>\n",
       "      <td>30.0</td>\n",
       "    </tr>\n",
       "    <tr>\n",
       "      <th>230807</th>\n",
       "      <td>1918001</td>\n",
       "      <td>188546</td>\n",
       "      <td>14</td>\n",
       "      <td>3</td>\n",
       "      <td>2</td>\n",
       "      <td>16.0</td>\n",
       "    </tr>\n",
       "    <tr>\n",
       "      <th>266232</th>\n",
       "      <td>1782114</td>\n",
       "      <td>106752</td>\n",
       "      <td>1</td>\n",
       "      <td>3</td>\n",
       "      <td>2</td>\n",
       "      <td>NaN</td>\n",
       "    </tr>\n",
       "    <tr>\n",
       "      <th>273805</th>\n",
       "      <td>1112182</td>\n",
       "      <td>202304</td>\n",
       "      <td>84</td>\n",
       "      <td>3</td>\n",
       "      <td>2</td>\n",
       "      <td>6.0</td>\n",
       "    </tr>\n",
       "    <tr>\n",
       "      <th>284038</th>\n",
       "      <td>2845099</td>\n",
       "      <td>31189</td>\n",
       "      <td>11</td>\n",
       "      <td>3</td>\n",
       "      <td>2</td>\n",
       "      <td>7.0</td>\n",
       "    </tr>\n",
       "    <tr>\n",
       "      <th>311713</th>\n",
       "      <td>1021560</td>\n",
       "      <td>53767</td>\n",
       "      <td>3</td>\n",
       "      <td>3</td>\n",
       "      <td>2</td>\n",
       "      <td>9.0</td>\n",
       "    </tr>\n",
       "    <tr>\n",
       "      <th>321100</th>\n",
       "      <td>408114</td>\n",
       "      <td>68324</td>\n",
       "      <td>4</td>\n",
       "      <td>3</td>\n",
       "      <td>2</td>\n",
       "      <td>18.0</td>\n",
       "    </tr>\n",
       "    <tr>\n",
       "      <th>323900</th>\n",
       "      <td>1919531</td>\n",
       "      <td>191501</td>\n",
       "      <td>32</td>\n",
       "      <td>3</td>\n",
       "      <td>2</td>\n",
       "      <td>7.0</td>\n",
       "    </tr>\n",
       "    <tr>\n",
       "      <th>345917</th>\n",
       "      <td>2232988</td>\n",
       "      <td>82565</td>\n",
       "      <td>1</td>\n",
       "      <td>3</td>\n",
       "      <td>2</td>\n",
       "      <td>NaN</td>\n",
       "    </tr>\n",
       "    <tr>\n",
       "      <th>371905</th>\n",
       "      <td>391768</td>\n",
       "      <td>57671</td>\n",
       "      <td>19</td>\n",
       "      <td>3</td>\n",
       "      <td>2</td>\n",
       "      <td>10.0</td>\n",
       "    </tr>\n",
       "    <tr>\n",
       "      <th>394347</th>\n",
       "      <td>467134</td>\n",
       "      <td>63189</td>\n",
       "      <td>21</td>\n",
       "      <td>3</td>\n",
       "      <td>2</td>\n",
       "      <td>2.0</td>\n",
       "    </tr>\n",
       "    <tr>\n",
       "      <th>411408</th>\n",
       "      <td>1286742</td>\n",
       "      <td>183220</td>\n",
       "      <td>48</td>\n",
       "      <td>3</td>\n",
       "      <td>2</td>\n",
       "      <td>4.0</td>\n",
       "    </tr>\n",
       "    <tr>\n",
       "      <th>415163</th>\n",
       "      <td>2282673</td>\n",
       "      <td>86751</td>\n",
       "      <td>49</td>\n",
       "      <td>3</td>\n",
       "      <td>2</td>\n",
       "      <td>2.0</td>\n",
       "    </tr>\n",
       "    <tr>\n",
       "      <th>441599</th>\n",
       "      <td>2125197</td>\n",
       "      <td>14050</td>\n",
       "      <td>48</td>\n",
       "      <td>3</td>\n",
       "      <td>2</td>\n",
       "      <td>3.0</td>\n",
       "    </tr>\n",
       "  </tbody>\n",
       "</table>\n",
       "</div>"
      ],
      "text/plain": [
       "        order_id  user_id  order_number  order_dow  order_hour_of_day  \\\n",
       "145574    794638    50898            24          3                  2   \n",
       "223105   2160484   107525            16          3                  2   \n",
       "230807   1918001   188546            14          3                  2   \n",
       "266232   1782114   106752             1          3                  2   \n",
       "273805   1112182   202304            84          3                  2   \n",
       "284038   2845099    31189            11          3                  2   \n",
       "311713   1021560    53767             3          3                  2   \n",
       "321100    408114    68324             4          3                  2   \n",
       "323900   1919531   191501            32          3                  2   \n",
       "345917   2232988    82565             1          3                  2   \n",
       "371905    391768    57671            19          3                  2   \n",
       "394347    467134    63189            21          3                  2   \n",
       "411408   1286742   183220            48          3                  2   \n",
       "415163   2282673    86751            49          3                  2   \n",
       "441599   2125197    14050            48          3                  2   \n",
       "\n",
       "        days_since_prior_order  \n",
       "145574                     2.0  \n",
       "223105                    30.0  \n",
       "230807                    16.0  \n",
       "266232                     NaN  \n",
       "273805                     6.0  \n",
       "284038                     7.0  \n",
       "311713                     9.0  \n",
       "321100                    18.0  \n",
       "323900                     7.0  \n",
       "345917                     NaN  \n",
       "371905                    10.0  \n",
       "394347                     2.0  \n",
       "411408                     4.0  \n",
       "415163                     2.0  \n",
       "441599                     3.0  "
      ]
     },
     "metadata": {},
     "output_type": "display_data"
    }
   ],
   "source": [
    "display(orders[orders.duplicated()])"
   ]
  },
  {
   "cell_type": "code",
   "execution_count": 29,
   "id": "fd1a8be5",
   "metadata": {},
   "outputs": [],
   "source": [
    "orders = orders.drop_duplicates()"
   ]
  },
  {
   "cell_type": "code",
   "execution_count": 30,
   "id": "9a5bc2b6",
   "metadata": {},
   "outputs": [
    {
     "data": {
      "text/plain": [
       "np.int64(0)"
      ]
     },
     "execution_count": 30,
     "metadata": {},
     "output_type": "execute_result"
    }
   ],
   "source": [
    "orders.duplicated().sum()"
   ]
  },
  {
   "cell_type": "markdown",
   "id": "58dfc0ba",
   "metadata": {},
   "source": [
    "When looking at the table, it seems as though the time is formatted in military time. \n",
    "When examining the 'order_dow' column, it appears that the days of the week are numbered from 0 to 6. There are 7 indices for the 7 days of the week, starting with Sunday as 0.\n"
   ]
  },
  {
   "cell_type": "code",
   "execution_count": 31,
   "id": "0d44de5d",
   "metadata": {},
   "outputs": [
    {
     "data": {
      "text/html": [
       "<div>\n",
       "<style scoped>\n",
       "    .dataframe tbody tr th:only-of-type {\n",
       "        vertical-align: middle;\n",
       "    }\n",
       "\n",
       "    .dataframe tbody tr th {\n",
       "        vertical-align: top;\n",
       "    }\n",
       "\n",
       "    .dataframe thead th {\n",
       "        text-align: right;\n",
       "    }\n",
       "</style>\n",
       "<table border=\"1\" class=\"dataframe\">\n",
       "  <thead>\n",
       "    <tr style=\"text-align: right;\">\n",
       "      <th></th>\n",
       "      <th>order_id</th>\n",
       "      <th>user_id</th>\n",
       "      <th>order_number</th>\n",
       "      <th>order_dow</th>\n",
       "      <th>order_hour_of_day</th>\n",
       "      <th>days_since_prior_order</th>\n",
       "    </tr>\n",
       "  </thead>\n",
       "  <tbody>\n",
       "    <tr>\n",
       "      <th>4838</th>\n",
       "      <td>2766110</td>\n",
       "      <td>162084</td>\n",
       "      <td>41</td>\n",
       "      <td>3</td>\n",
       "      <td>2</td>\n",
       "      <td>16.0</td>\n",
       "    </tr>\n",
       "    <tr>\n",
       "      <th>5156</th>\n",
       "      <td>2190225</td>\n",
       "      <td>138285</td>\n",
       "      <td>18</td>\n",
       "      <td>3</td>\n",
       "      <td>2</td>\n",
       "      <td>11.0</td>\n",
       "    </tr>\n",
       "    <tr>\n",
       "      <th>15506</th>\n",
       "      <td>553049</td>\n",
       "      <td>58599</td>\n",
       "      <td>13</td>\n",
       "      <td>3</td>\n",
       "      <td>2</td>\n",
       "      <td>7.0</td>\n",
       "    </tr>\n",
       "    <tr>\n",
       "      <th>18420</th>\n",
       "      <td>382357</td>\n",
       "      <td>120200</td>\n",
       "      <td>19</td>\n",
       "      <td>3</td>\n",
       "      <td>2</td>\n",
       "      <td>11.0</td>\n",
       "    </tr>\n",
       "    <tr>\n",
       "      <th>24691</th>\n",
       "      <td>690242</td>\n",
       "      <td>77357</td>\n",
       "      <td>2</td>\n",
       "      <td>3</td>\n",
       "      <td>2</td>\n",
       "      <td>9.0</td>\n",
       "    </tr>\n",
       "    <tr>\n",
       "      <th>...</th>\n",
       "      <td>...</td>\n",
       "      <td>...</td>\n",
       "      <td>...</td>\n",
       "      <td>...</td>\n",
       "      <td>...</td>\n",
       "      <td>...</td>\n",
       "    </tr>\n",
       "    <tr>\n",
       "      <th>457013</th>\n",
       "      <td>3384021</td>\n",
       "      <td>14881</td>\n",
       "      <td>6</td>\n",
       "      <td>3</td>\n",
       "      <td>2</td>\n",
       "      <td>30.0</td>\n",
       "    </tr>\n",
       "    <tr>\n",
       "      <th>458816</th>\n",
       "      <td>910166</td>\n",
       "      <td>164782</td>\n",
       "      <td>18</td>\n",
       "      <td>3</td>\n",
       "      <td>2</td>\n",
       "      <td>4.0</td>\n",
       "    </tr>\n",
       "    <tr>\n",
       "      <th>459635</th>\n",
       "      <td>1680532</td>\n",
       "      <td>106435</td>\n",
       "      <td>6</td>\n",
       "      <td>3</td>\n",
       "      <td>2</td>\n",
       "      <td>21.0</td>\n",
       "    </tr>\n",
       "    <tr>\n",
       "      <th>468324</th>\n",
       "      <td>222962</td>\n",
       "      <td>54979</td>\n",
       "      <td>59</td>\n",
       "      <td>3</td>\n",
       "      <td>2</td>\n",
       "      <td>3.0</td>\n",
       "    </tr>\n",
       "    <tr>\n",
       "      <th>477526</th>\n",
       "      <td>2592344</td>\n",
       "      <td>46860</td>\n",
       "      <td>38</td>\n",
       "      <td>3</td>\n",
       "      <td>2</td>\n",
       "      <td>3.0</td>\n",
       "    </tr>\n",
       "  </tbody>\n",
       "</table>\n",
       "<p>106 rows × 6 columns</p>\n",
       "</div>"
      ],
      "text/plain": [
       "        order_id  user_id  order_number  order_dow  order_hour_of_day  \\\n",
       "4838     2766110   162084            41          3                  2   \n",
       "5156     2190225   138285            18          3                  2   \n",
       "15506     553049    58599            13          3                  2   \n",
       "18420     382357   120200            19          3                  2   \n",
       "24691     690242    77357             2          3                  2   \n",
       "...          ...      ...           ...        ...                ...   \n",
       "457013   3384021    14881             6          3                  2   \n",
       "458816    910166   164782            18          3                  2   \n",
       "459635   1680532   106435             6          3                  2   \n",
       "468324    222962    54979            59          3                  2   \n",
       "477526   2592344    46860            38          3                  2   \n",
       "\n",
       "        days_since_prior_order  \n",
       "4838                      16.0  \n",
       "5156                      11.0  \n",
       "15506                      7.0  \n",
       "18420                     11.0  \n",
       "24691                      9.0  \n",
       "...                        ...  \n",
       "457013                    30.0  \n",
       "458816                     4.0  \n",
       "459635                    21.0  \n",
       "468324                     3.0  \n",
       "477526                     3.0  \n",
       "\n",
       "[106 rows x 6 columns]"
      ]
     },
     "metadata": {},
     "output_type": "display_data"
    }
   ],
   "source": [
    "# Check for all orders placed Wednesday at 2:00 AM\n",
    "\n",
    "wed_orders = orders[(orders['order_dow'] == 3) & (orders['order_hour_of_day'] == 2)]\n",
    "display(wed_orders)"
   ]
  },
  {
   "cell_type": "code",
   "execution_count": 32,
   "id": "f6113ef1",
   "metadata": {},
   "outputs": [],
   "source": [
    "# Double check for duplicate order IDs only\n",
    "dupe_ids = orders[orders['order_id'].duplicated()]"
   ]
  },
  {
   "cell_type": "code",
   "execution_count": 34,
   "id": "8ae3b2ff",
   "metadata": {},
   "outputs": [
    {
     "data": {
      "text/html": [
       "<div>\n",
       "<style scoped>\n",
       "    .dataframe tbody tr th:only-of-type {\n",
       "        vertical-align: middle;\n",
       "    }\n",
       "\n",
       "    .dataframe tbody tr th {\n",
       "        vertical-align: top;\n",
       "    }\n",
       "\n",
       "    .dataframe thead th {\n",
       "        text-align: right;\n",
       "    }\n",
       "</style>\n",
       "<table border=\"1\" class=\"dataframe\">\n",
       "  <thead>\n",
       "    <tr style=\"text-align: right;\">\n",
       "      <th></th>\n",
       "      <th>order_id</th>\n",
       "      <th>user_id</th>\n",
       "      <th>order_number</th>\n",
       "      <th>order_dow</th>\n",
       "      <th>order_hour_of_day</th>\n",
       "      <th>days_since_prior_order</th>\n",
       "    </tr>\n",
       "  </thead>\n",
       "  <tbody>\n",
       "  </tbody>\n",
       "</table>\n",
       "</div>"
      ],
      "text/plain": [
       "Empty DataFrame\n",
       "Columns: [order_id, user_id, order_number, order_dow, order_hour_of_day, days_since_prior_order]\n",
       "Index: []"
      ]
     },
     "metadata": {},
     "output_type": "display_data"
    }
   ],
   "source": [
    "display(dupe_ids)"
   ]
  },
  {
   "cell_type": "markdown",
   "id": "5e8905ae",
   "metadata": {},
   "source": [
    "# Summary: Finding and Removing Duplicate Orders\n",
    "\n",
    "## Identifying Duplicate Rows:\n",
    "We first checked for duplicate rows in the entire dataset using the drop_duplicates() method. This method identifies and removes rows that have identical values across all columns.\n",
    "The resulting DataFrame contains only unique rows, ensuring that no duplicate orders are present.\n",
    "Checking for Duplicate Orders Placed on Wednesdays at 2:00 AM:\n",
    "We filtered the dataset to include only orders placed on Wednesdays (order_dow == 3) at 2:00 AM (order_hour_of_day == 2).\n",
    "The resulting DataFrame (wed_2) contains orders meeting this specific condition.\n",
    "\n",
    "## Removing Duplicate Orders:\n",
    "We applied the drop_duplicates() method again to the entire dataset (df_orders) to ensure that any remaining duplicate orders are removed. This step ensures that each order appears only once in the dataset, preventing any unintentional duplication.\n",
    "\n",
    "## Double-Checking for Duplicate Rows and Order IDs:\n",
    "To verify the removal of duplicates, we checked for duplicate rows using the duplicated() method. If any duplicate rows exist, they would be displayed.\n",
    "Additionally, we specifically checked for duplicate order IDs using the duplicated() method on the ‘order_id’ column. This helps ensure that each order ID is unique."
   ]
  },
  {
   "cell_type": "markdown",
   "id": "45e6bc46",
   "metadata": {},
   "source": [
    "### `products` data frame"
   ]
  },
  {
   "cell_type": "code",
   "execution_count": 35,
   "id": "5f526b5b-8175-46fa-a0fd-441767d50e64",
   "metadata": {},
   "outputs": [
    {
     "data": {
      "text/plain": [
       "np.int64(0)"
      ]
     },
     "execution_count": 35,
     "metadata": {},
     "output_type": "execute_result"
    }
   ],
   "source": [
    "# Check for fully duplicate rows\n",
    "products.duplicated().sum()"
   ]
  },
  {
   "cell_type": "code",
   "execution_count": 36,
   "id": "88daa4f4",
   "metadata": {},
   "outputs": [
    {
     "data": {
      "text/plain": [
       "np.int64(0)"
      ]
     },
     "execution_count": 36,
     "metadata": {},
     "output_type": "execute_result"
    }
   ],
   "source": [
    "# Check for just duplicate product IDs\n",
    "\n",
    "products['product_id'].duplicated().sum()"
   ]
  },
  {
   "cell_type": "code",
   "execution_count": 37,
   "id": "c773f0bf",
   "metadata": {},
   "outputs": [],
   "source": [
    "# Check for just duplicate product names (convert names to lowercase to compare better)\n",
    "#Changing column names to lowercase\n",
    "products['product_name'] = products['product_name'].str.lower()"
   ]
  },
  {
   "cell_type": "code",
   "execution_count": 38,
   "id": "34b67a10",
   "metadata": {},
   "outputs": [
    {
     "data": {
      "text/plain": [
       "np.int64(1361)"
      ]
     },
     "execution_count": 38,
     "metadata": {},
     "output_type": "execute_result"
    }
   ],
   "source": [
    "products['product_name'].duplicated().sum()"
   ]
  },
  {
   "cell_type": "code",
   "execution_count": 39,
   "id": "61170e21",
   "metadata": {},
   "outputs": [
    {
     "data": {
      "text/html": [
       "<div>\n",
       "<style scoped>\n",
       "    .dataframe tbody tr th:only-of-type {\n",
       "        vertical-align: middle;\n",
       "    }\n",
       "\n",
       "    .dataframe tbody tr th {\n",
       "        vertical-align: top;\n",
       "    }\n",
       "\n",
       "    .dataframe thead th {\n",
       "        text-align: right;\n",
       "    }\n",
       "</style>\n",
       "<table border=\"1\" class=\"dataframe\">\n",
       "  <thead>\n",
       "    <tr style=\"text-align: right;\">\n",
       "      <th></th>\n",
       "      <th>product_id</th>\n",
       "      <th>product_name</th>\n",
       "      <th>aisle_id</th>\n",
       "      <th>department_id</th>\n",
       "    </tr>\n",
       "  </thead>\n",
       "  <tbody>\n",
       "    <tr>\n",
       "      <th>2058</th>\n",
       "      <td>2059</td>\n",
       "      <td>biotin 1000 mcg</td>\n",
       "      <td>47</td>\n",
       "      <td>11</td>\n",
       "    </tr>\n",
       "    <tr>\n",
       "      <th>5455</th>\n",
       "      <td>5456</td>\n",
       "      <td>green tea with ginseng and honey</td>\n",
       "      <td>96</td>\n",
       "      <td>20</td>\n",
       "    </tr>\n",
       "    <tr>\n",
       "      <th>5558</th>\n",
       "      <td>5559</td>\n",
       "      <td>cream of mushroom soup</td>\n",
       "      <td>69</td>\n",
       "      <td>15</td>\n",
       "    </tr>\n",
       "    <tr>\n",
       "      <th>7558</th>\n",
       "      <td>7559</td>\n",
       "      <td>cinnamon rolls with icing</td>\n",
       "      <td>105</td>\n",
       "      <td>13</td>\n",
       "    </tr>\n",
       "    <tr>\n",
       "      <th>9037</th>\n",
       "      <td>9038</td>\n",
       "      <td>american cheese slices</td>\n",
       "      <td>21</td>\n",
       "      <td>16</td>\n",
       "    </tr>\n",
       "    <tr>\n",
       "      <th>...</th>\n",
       "      <td>...</td>\n",
       "      <td>...</td>\n",
       "      <td>...</td>\n",
       "      <td>...</td>\n",
       "    </tr>\n",
       "    <tr>\n",
       "      <th>49689</th>\n",
       "      <td>49690</td>\n",
       "      <td>high performance energy drink</td>\n",
       "      <td>64</td>\n",
       "      <td>7</td>\n",
       "    </tr>\n",
       "    <tr>\n",
       "      <th>49690</th>\n",
       "      <td>49691</td>\n",
       "      <td>original pancake &amp; waffle mix</td>\n",
       "      <td>130</td>\n",
       "      <td>14</td>\n",
       "    </tr>\n",
       "    <tr>\n",
       "      <th>49691</th>\n",
       "      <td>49692</td>\n",
       "      <td>organic instant oatmeal light maple brown sugar</td>\n",
       "      <td>130</td>\n",
       "      <td>14</td>\n",
       "    </tr>\n",
       "    <tr>\n",
       "      <th>49692</th>\n",
       "      <td>49693</td>\n",
       "      <td>spring water body wash</td>\n",
       "      <td>127</td>\n",
       "      <td>11</td>\n",
       "    </tr>\n",
       "    <tr>\n",
       "      <th>49693</th>\n",
       "      <td>49694</td>\n",
       "      <td>burrito- steak &amp; cheese</td>\n",
       "      <td>38</td>\n",
       "      <td>1</td>\n",
       "    </tr>\n",
       "  </tbody>\n",
       "</table>\n",
       "<p>104 rows × 4 columns</p>\n",
       "</div>"
      ],
      "text/plain": [
       "       product_id                                     product_name  aisle_id  \\\n",
       "2058         2059                                  biotin 1000 mcg        47   \n",
       "5455         5456                 green tea with ginseng and honey        96   \n",
       "5558         5559                           cream of mushroom soup        69   \n",
       "7558         7559                        cinnamon rolls with icing       105   \n",
       "9037         9038                           american cheese slices        21   \n",
       "...           ...                                              ...       ...   \n",
       "49689       49690                    high performance energy drink        64   \n",
       "49690       49691                    original pancake & waffle mix       130   \n",
       "49691       49692  organic instant oatmeal light maple brown sugar       130   \n",
       "49692       49693                           spring water body wash       127   \n",
       "49693       49694                          burrito- steak & cheese        38   \n",
       "\n",
       "       department_id  \n",
       "2058              11  \n",
       "5455              20  \n",
       "5558              15  \n",
       "7558              13  \n",
       "9037              16  \n",
       "...              ...  \n",
       "49689              7  \n",
       "49690             14  \n",
       "49691             14  \n",
       "49692             11  \n",
       "49693              1  \n",
       "\n",
       "[104 rows x 4 columns]"
      ]
     },
     "execution_count": 39,
     "metadata": {},
     "output_type": "execute_result"
    }
   ],
   "source": [
    "products[products['product_name'].notna() & products['product_name'].duplicated()]"
   ]
  },
  {
   "cell_type": "markdown",
   "id": "9da8d293",
   "metadata": {},
   "source": [
    "## Checking for Fully Duplicate Rows:\n",
    "We used the duplicated() function without specifying any columns to identify fully duplicate rows in the df_products DataFrame.\n",
    "The result indicates the total count of fully duplicated rows.\n",
    "\n",
    "## Checking for Duplicate Product IDs:\n",
    "We specifically checked for duplicate product IDs using the duplicated() function on the ‘product_id’ column.\n",
    "This step ensures that each product ID is unique.\n",
    "\n",
    "## Checking for Duplicate Product Names (Case-Insensitive):\n",
    "To identify duplicate product names, we converted all names to lowercase using the str.lower() method.\n",
    "Then, we used the duplicated() function on the modified ‘product_name’ column to find case-insensitive duplicates.\n",
    "The result represents the count of duplicate product names.\n",
    "\n",
    "## Handling Duplicate Product Names That Aren’t Missing:\n",
    "We combined two conditions: checking if the product name is not missing (notna()) and identifying duplicate product names.\n",
    "The resulting boolean series (duped_prod_names) indicates which product names are duplicated and not missing.\n",
    "The sum of True values in this series gives the count of duplicate product names that aren’t missing."
   ]
  },
  {
   "cell_type": "markdown",
   "id": "60f30db1",
   "metadata": {},
   "source": [
    "### `departments` data frame"
   ]
  },
  {
   "cell_type": "code",
   "execution_count": 40,
   "id": "332b12bb",
   "metadata": {},
   "outputs": [
    {
     "data": {
      "text/html": [
       "<div>\n",
       "<style scoped>\n",
       "    .dataframe tbody tr th:only-of-type {\n",
       "        vertical-align: middle;\n",
       "    }\n",
       "\n",
       "    .dataframe tbody tr th {\n",
       "        vertical-align: top;\n",
       "    }\n",
       "\n",
       "    .dataframe thead th {\n",
       "        text-align: right;\n",
       "    }\n",
       "</style>\n",
       "<table border=\"1\" class=\"dataframe\">\n",
       "  <thead>\n",
       "    <tr style=\"text-align: right;\">\n",
       "      <th></th>\n",
       "      <th>department_id</th>\n",
       "      <th>department</th>\n",
       "    </tr>\n",
       "  </thead>\n",
       "  <tbody>\n",
       "    <tr>\n",
       "      <th>0</th>\n",
       "      <td>1</td>\n",
       "      <td>frozen</td>\n",
       "    </tr>\n",
       "    <tr>\n",
       "      <th>1</th>\n",
       "      <td>2</td>\n",
       "      <td>other</td>\n",
       "    </tr>\n",
       "    <tr>\n",
       "      <th>2</th>\n",
       "      <td>3</td>\n",
       "      <td>bakery</td>\n",
       "    </tr>\n",
       "    <tr>\n",
       "      <th>3</th>\n",
       "      <td>4</td>\n",
       "      <td>produce</td>\n",
       "    </tr>\n",
       "    <tr>\n",
       "      <th>4</th>\n",
       "      <td>5</td>\n",
       "      <td>alcohol</td>\n",
       "    </tr>\n",
       "  </tbody>\n",
       "</table>\n",
       "</div>"
      ],
      "text/plain": [
       "   department_id department\n",
       "0              1     frozen\n",
       "1              2      other\n",
       "2              3     bakery\n",
       "3              4    produce\n",
       "4              5    alcohol"
      ]
     },
     "execution_count": 40,
     "metadata": {},
     "output_type": "execute_result"
    }
   ],
   "source": [
    "depts.head()"
   ]
  },
  {
   "cell_type": "code",
   "execution_count": 41,
   "id": "3729749d",
   "metadata": {},
   "outputs": [
    {
     "data": {
      "text/plain": [
       "np.int64(0)"
      ]
     },
     "execution_count": 41,
     "metadata": {},
     "output_type": "execute_result"
    }
   ],
   "source": [
    "depts.duplicated().sum()"
   ]
  },
  {
   "cell_type": "code",
   "execution_count": 42,
   "id": "57aac23f",
   "metadata": {},
   "outputs": [
    {
     "data": {
      "text/plain": [
       "0     False\n",
       "1     False\n",
       "2     False\n",
       "3     False\n",
       "4     False\n",
       "5     False\n",
       "6     False\n",
       "7     False\n",
       "8     False\n",
       "9     False\n",
       "10    False\n",
       "11    False\n",
       "12    False\n",
       "13    False\n",
       "14    False\n",
       "15    False\n",
       "16    False\n",
       "17    False\n",
       "18    False\n",
       "19    False\n",
       "20    False\n",
       "Name: department_id, dtype: bool"
      ]
     },
     "execution_count": 42,
     "metadata": {},
     "output_type": "execute_result"
    }
   ],
   "source": [
    "depts['department_id'].duplicated()"
   ]
  },
  {
   "cell_type": "markdown",
   "id": "bd30d78e",
   "metadata": {},
   "source": [
    "## DataFrame Overview:\n",
    "The df_depts DataFrame contains information about different departments.\n",
    "It has two columns: ‘department_id’ and ‘department’.\n",
    "\n",
    "## Duplicate Rows:\n",
    "We checked for duplicate rows using the duplicated() function.\n",
    "The result indicates that there are no fully duplicated rows in the DataFrame (i.e., all rows are unique).\n",
    "\n",
    "## Duplicate Department IDs:\n",
    "Specifically, we checked for duplicate department IDs using the duplicated() function on the ‘department_id’ column.\n",
    "The count of duplicate department IDs is 0, which means each department ID is unique.\n",
    "\n",
    "## Conclusion:\n",
    "The DataFrame appears to be clean, with no duplicate rows or department IDs.\n",
    "Each department is uniquely represented in the dataset."
   ]
  },
  {
   "cell_type": "markdown",
   "id": "889349c1",
   "metadata": {},
   "source": [
    "### `aisles` data frame"
   ]
  },
  {
   "cell_type": "code",
   "execution_count": 43,
   "id": "da7c2822",
   "metadata": {},
   "outputs": [
    {
     "data": {
      "text/html": [
       "<div>\n",
       "<style scoped>\n",
       "    .dataframe tbody tr th:only-of-type {\n",
       "        vertical-align: middle;\n",
       "    }\n",
       "\n",
       "    .dataframe tbody tr th {\n",
       "        vertical-align: top;\n",
       "    }\n",
       "\n",
       "    .dataframe thead th {\n",
       "        text-align: right;\n",
       "    }\n",
       "</style>\n",
       "<table border=\"1\" class=\"dataframe\">\n",
       "  <thead>\n",
       "    <tr style=\"text-align: right;\">\n",
       "      <th></th>\n",
       "      <th>aisle_id</th>\n",
       "      <th>aisle</th>\n",
       "    </tr>\n",
       "  </thead>\n",
       "  <tbody>\n",
       "    <tr>\n",
       "      <th>0</th>\n",
       "      <td>1</td>\n",
       "      <td>prepared soups salads</td>\n",
       "    </tr>\n",
       "    <tr>\n",
       "      <th>1</th>\n",
       "      <td>2</td>\n",
       "      <td>specialty cheeses</td>\n",
       "    </tr>\n",
       "    <tr>\n",
       "      <th>2</th>\n",
       "      <td>3</td>\n",
       "      <td>energy granola bars</td>\n",
       "    </tr>\n",
       "    <tr>\n",
       "      <th>3</th>\n",
       "      <td>4</td>\n",
       "      <td>instant foods</td>\n",
       "    </tr>\n",
       "    <tr>\n",
       "      <th>4</th>\n",
       "      <td>5</td>\n",
       "      <td>marinades meat preparation</td>\n",
       "    </tr>\n",
       "  </tbody>\n",
       "</table>\n",
       "</div>"
      ],
      "text/plain": [
       "   aisle_id                       aisle\n",
       "0         1       prepared soups salads\n",
       "1         2           specialty cheeses\n",
       "2         3         energy granola bars\n",
       "3         4               instant foods\n",
       "4         5  marinades meat preparation"
      ]
     },
     "execution_count": 43,
     "metadata": {},
     "output_type": "execute_result"
    }
   ],
   "source": [
    "aisles.head()"
   ]
  },
  {
   "cell_type": "code",
   "execution_count": 46,
   "id": "c8edd08a",
   "metadata": {},
   "outputs": [
    {
     "data": {
      "text/plain": [
       "np.int64(0)"
      ]
     },
     "execution_count": 46,
     "metadata": {},
     "output_type": "execute_result"
    }
   ],
   "source": [
    "aisles.duplicated().sum()"
   ]
  },
  {
   "cell_type": "code",
   "execution_count": 47,
   "id": "a4727e1c",
   "metadata": {},
   "outputs": [
    {
     "data": {
      "text/plain": [
       "np.int64(0)"
      ]
     },
     "execution_count": 47,
     "metadata": {},
     "output_type": "execute_result"
    }
   ],
   "source": [
    "aisles['aisle_id'].duplicated().sum()"
   ]
  },
  {
   "cell_type": "markdown",
   "id": "ac63826f",
   "metadata": {},
   "source": [
    "## DataFrame Overview:\n",
    "The df_aisles DataFrame contains information about different departments.\n",
    "It has two columns: ‘aisle_id’ and ‘aisle’.\n",
    "\n",
    "## Duplicate Rows:\n",
    "We checked for duplicate rows using the duplicated() function.\n",
    "The result indicates that there are no fully duplicated rows in the DataFrame (i.e., all rows are unique).\n",
    "\n",
    "## Duplicate Department IDs:\n",
    "Specifically, we checked for duplicate aisle IDs using the duplicated() function on the ‘aisle_id’ column.\n",
    "The count of duplicate aisle IDs is 0, which means each department ID is unique.\n",
    "\n",
    "## Conclusion:\n",
    "The DataFrame appears to be clean, with no duplicate rows or aisle IDs.\n",
    "Each department is uniquely represented in the dataset."
   ]
  },
  {
   "cell_type": "markdown",
   "id": "274cd06a",
   "metadata": {},
   "source": [
    "### `order_products` data frame"
   ]
  },
  {
   "cell_type": "code",
   "execution_count": 48,
   "id": "52326689-84a8-4b8f-a881-7c68780f62c9",
   "metadata": {},
   "outputs": [
    {
     "data": {
      "text/plain": [
       "np.int64(0)"
      ]
     },
     "metadata": {},
     "output_type": "display_data"
    }
   ],
   "source": [
    "# Check for fullly duplicate rows\n",
    "\n",
    "display(order_p.duplicated().sum())"
   ]
  },
  {
   "cell_type": "code",
   "execution_count": 49,
   "id": "7b861391",
   "metadata": {},
   "outputs": [
    {
     "data": {
      "text/plain": [
       "np.int64(0)"
      ]
     },
     "metadata": {},
     "output_type": "display_data"
    },
    {
     "data": {
      "text/plain": [
       "np.int64(4014212)"
      ]
     },
     "metadata": {},
     "output_type": "display_data"
    },
    {
     "data": {
      "text/plain": [
       "np.int64(766)"
      ]
     },
     "metadata": {},
     "output_type": "display_data"
    }
   ],
   "source": [
    "# Double check for any other tricky duplicates\n",
    "display(order_p.duplicated(subset=['order_id', 'product_id']).sum())\n",
    "display(order_p.duplicated(subset=['product_id', 'add_to_cart_order']).sum())\n",
    "display(order_p.duplicated(subset=['order_id', 'add_to_cart_order']).sum())"
   ]
  },
  {
   "cell_type": "markdown",
   "id": "0b890492",
   "metadata": {},
   "source": [
    "The data consists of several columns: order_id, product_id, add_to_cart_order, and reordered. The order_id represents the unique identifier for each order, product_id is the unique identifier for each product, add_to_cart_order indicates the sequence in which the product was added to the cart, and reordered indicates whether the product has been ordered before by the same user (1 means yes, 0 means no).\n",
    "\n",
    "Three checks were performed to identify any potential duplicate entries in the data:\n",
    "\n",
    "Check for duplicates in ‘order_id’ and ‘product_id’: This check was performed to see if there are any instances where the same product was added more than once in the same order. The result was 0, indicating that there are no such duplicates.\n",
    "Check for duplicates in ‘product_id’ and ‘add_to_cart_order’: This check was performed to see if there are any instances where the same product was added to the cart in the same sequence in different orders. The result was 4,014,212, indicating that there are numerous such duplicates. This is not necessarily an issue, as it’s common for the same product to be added first, second, third, etc., in different orders.\n",
    "\n",
    "Check for duplicates in ‘order_id’ and ‘add_to_cart_order’: This check was performed to see if there are any instances where in the same order, products were added to the cart in the same sequence. The result was 766, indicating that there are a few such duplicates. This could be a data entry error or a system glitch, as in the same order, each product should have a unique add_to_cart_order.\n",
    "\n",
    "In conclusion, the data seems to have some duplicates when considering ‘product_id’ and ‘add_to_cart_order’, and ‘order_id’ and ‘add_to_cart_order’. Further investigation might be needed to understand the cause of these duplicates. However, there are no duplicates when considering ‘order_id’ and ‘product_id’, which is a good sign of data integrity for the order and product information."
   ]
  },
  {
   "cell_type": "markdown",
   "id": "1e46de76",
   "metadata": {},
   "source": [
    "## Find and remove missing values\n"
   ]
  },
  {
   "cell_type": "markdown",
   "id": "c0aebd78",
   "metadata": {},
   "source": [
    "### `products` data frame"
   ]
  },
  {
   "cell_type": "code",
   "execution_count": 50,
   "id": "fe4a8b0f",
   "metadata": {},
   "outputs": [
    {
     "data": {
      "text/plain": [
       "product_id          0\n",
       "product_name     1258\n",
       "aisle_id            0\n",
       "department_id       0\n",
       "dtype: int64"
      ]
     },
     "execution_count": 50,
     "metadata": {},
     "output_type": "execute_result"
    }
   ],
   "source": [
    "products.isna().sum()"
   ]
  },
  {
   "cell_type": "code",
   "execution_count": 53,
   "id": "e96167bc",
   "metadata": {},
   "outputs": [
    {
     "data": {
      "text/plain": [
       "np.True_"
      ]
     },
     "metadata": {},
     "output_type": "display_data"
    }
   ],
   "source": [
    "# Are all of the missing product names associated with aisle ID 100?\n",
    "\n",
    "#finding the missing values in the 'product name column'\n",
    "missing_names = products[products['product_name'].isna()]\n",
    "#finding whether or not all the missing values in product name are related to aisle 100 and returning a bool\n",
    "aisle_missing = np.all(missing_names['aisle_id'] == 100)\n",
    "#print(missing_names)\n",
    "display(aisle_missing)\n"
   ]
  },
  {
   "cell_type": "code",
   "execution_count": 54,
   "id": "8fd0a541",
   "metadata": {},
   "outputs": [
    {
     "name": "stdout",
     "output_type": "stream",
     "text": [
      "True\n"
     ]
    }
   ],
   "source": [
    "# Are all of the missing product names associated with department ID 21?\n",
    "#finding whether or not all the missing values in product name are related to aisle 100 and returning a bool\n",
    "dept_missing = np.all(missing_names['department_id'] == 21)\n",
    "print(dept_missing)"
   ]
  },
  {
   "cell_type": "code",
   "execution_count": 56,
   "id": "325c3464",
   "metadata": {},
   "outputs": [],
   "source": [
    "# What is this ailse and department?\n",
    "aisle = aisles.loc[aisles['aisle_id'] == 100, 'aisle'].values[0]\n",
    "dept = depts.loc[depts['department_id'] == 21, 'department'].values[0]\n",
    "display([aisle,dept])"
   ]
  },
  {
   "cell_type": "markdown",
   "id": "684c7a8e",
   "metadata": {},
   "source": [
    "---"
   ]
  },
  {
   "cell_type": "code",
   "execution_count": 58,
   "id": "2dddecd7",
   "metadata": {},
   "outputs": [
    {
     "data": {
      "text/plain": [
       "product_id          0\n",
       "product_name     1258\n",
       "aisle_id            0\n",
       "department_id       0\n",
       "dtype: int64"
      ]
     },
     "execution_count": 58,
     "metadata": {},
     "output_type": "execute_result"
    }
   ],
   "source": [
    "products.isna().sum()"
   ]
  },
  {
   "cell_type": "code",
   "execution_count": 59,
   "id": "6b295120",
   "metadata": {},
   "outputs": [],
   "source": [
    "# Fill missing product names with 'Unknown'\n",
    "products = products.fillna('Unknown')"
   ]
  },
  {
   "cell_type": "code",
   "execution_count": 61,
   "id": "62b506b4",
   "metadata": {},
   "outputs": [
    {
     "data": {
      "text/plain": [
       "np.int64(1258)"
      ]
     },
     "metadata": {},
     "output_type": "display_data"
    }
   ],
   "source": [
    "display((products['product_name'] == 'Unknown').sum())"
   ]
  },
  {
   "cell_type": "markdown",
   "id": "fc70e5ad",
   "metadata": {},
   "source": [
    "The DataFrame df_products contains four columns: product_id, product_name, aisle_id, and department_id.\n",
    "\n",
    "A check was performed to identify any missing values in the DataFrame. The isna().sum() function was used to calculate the total number of missing values in each column. The results showed that there were 1258 missing values in the product_name column, while there were no missing values in the other columns.\n",
    "\n",
    "An investigation was then carried out to determine whether all of the missing product_name values were associated with aisle_id 100. The isnull() function was used to create a new DataFrame missing_names that only contained the rows from df_products where product_name was missing. The np.all() function was then used to check if all the aisle_id values in missing_names were 100. The result was printed and it showed that all the missing product names are indeed associated with aisle ID 100.\n",
    "\n",
    "Finally, the missing product_name values in df_products were filled with the string ‘Unknown’ using the fillna() function. This operation replaced all the NaN values in the DataFrame with ‘Unknown’, ensuring there are no more missing values in the product_name column."
   ]
  },
  {
   "cell_type": "markdown",
   "id": "7eb45c86",
   "metadata": {},
   "source": [
    "### `orders` data frame"
   ]
  },
  {
   "cell_type": "code",
   "execution_count": 63,
   "id": "93e41d96",
   "metadata": {},
   "outputs": [
    {
     "data": {
      "text/plain": [
       "order_id                      0\n",
       "user_id                       0\n",
       "order_number                  0\n",
       "order_dow                     0\n",
       "order_hour_of_day             0\n",
       "days_since_prior_order    28817\n",
       "dtype: int64"
      ]
     },
     "execution_count": 63,
     "metadata": {},
     "output_type": "execute_result"
    }
   ],
   "source": [
    "orders.isna().sum()"
   ]
  },
  {
   "cell_type": "code",
   "execution_count": 64,
   "id": "166e5a86",
   "metadata": {},
   "outputs": [
    {
     "data": {
      "text/plain": [
       "order_id                  0\n",
       "user_id                   0\n",
       "order_number              0\n",
       "order_dow                 0\n",
       "order_hour_of_day         0\n",
       "days_since_prior_order    0\n",
       "dtype: int64"
      ]
     },
     "metadata": {},
     "output_type": "display_data"
    },
    {
     "data": {
      "text/html": [
       "<div>\n",
       "<style scoped>\n",
       "    .dataframe tbody tr th:only-of-type {\n",
       "        vertical-align: middle;\n",
       "    }\n",
       "\n",
       "    .dataframe tbody tr th {\n",
       "        vertical-align: top;\n",
       "    }\n",
       "\n",
       "    .dataframe thead th {\n",
       "        text-align: right;\n",
       "    }\n",
       "</style>\n",
       "<table border=\"1\" class=\"dataframe\">\n",
       "  <thead>\n",
       "    <tr style=\"text-align: right;\">\n",
       "      <th></th>\n",
       "      <th>order_id</th>\n",
       "      <th>user_id</th>\n",
       "      <th>order_number</th>\n",
       "      <th>order_dow</th>\n",
       "      <th>order_hour_of_day</th>\n",
       "      <th>days_since_prior_order</th>\n",
       "    </tr>\n",
       "  </thead>\n",
       "  <tbody>\n",
       "  </tbody>\n",
       "</table>\n",
       "</div>"
      ],
      "text/plain": [
       "Empty DataFrame\n",
       "Columns: [order_id, user_id, order_number, order_dow, order_hour_of_day, days_since_prior_order]\n",
       "Index: []"
      ]
     },
     "metadata": {},
     "output_type": "display_data"
    }
   ],
   "source": [
    "# Are there any missing values where it's not a customer's first order?\n",
    "display(orders[(orders['order_number'] > 1)].isnull().sum())\n",
    "#Rows where order number > 1 and days_prior_order is missing\n",
    "display(orders[(orders['order_number'] == 1) & (orders['days_since_prior_order'] == 'NaN')])"
   ]
  },
  {
   "cell_type": "code",
   "execution_count": 65,
   "id": "5da366aa",
   "metadata": {},
   "outputs": [
    {
     "name": "stdout",
     "output_type": "stream",
     "text": [
      "Display the number of the missing values in the selection where order number > 1:\n"
     ]
    },
    {
     "data": {
      "text/plain": [
       "order_id                  0\n",
       "user_id                   0\n",
       "order_number              0\n",
       "order_dow                 0\n",
       "order_hour_of_day         0\n",
       "days_since_prior_order    0\n",
       "dtype: int64"
      ]
     },
     "metadata": {},
     "output_type": "display_data"
    },
    {
     "name": "stdout",
     "output_type": "stream",
     "text": [
      "Display the rows where order number > 1 and the days_since_prior_order is missing:\n"
     ]
    },
    {
     "data": {
      "text/html": [
       "<div>\n",
       "<style scoped>\n",
       "    .dataframe tbody tr th:only-of-type {\n",
       "        vertical-align: middle;\n",
       "    }\n",
       "\n",
       "    .dataframe tbody tr th {\n",
       "        vertical-align: top;\n",
       "    }\n",
       "\n",
       "    .dataframe thead th {\n",
       "        text-align: right;\n",
       "    }\n",
       "</style>\n",
       "<table border=\"1\" class=\"dataframe\">\n",
       "  <thead>\n",
       "    <tr style=\"text-align: right;\">\n",
       "      <th></th>\n",
       "      <th>order_id</th>\n",
       "      <th>user_id</th>\n",
       "      <th>order_number</th>\n",
       "      <th>order_dow</th>\n",
       "      <th>order_hour_of_day</th>\n",
       "      <th>days_since_prior_order</th>\n",
       "    </tr>\n",
       "  </thead>\n",
       "  <tbody>\n",
       "  </tbody>\n",
       "</table>\n",
       "</div>"
      ],
      "text/plain": [
       "Empty DataFrame\n",
       "Columns: [order_id, user_id, order_number, order_dow, order_hour_of_day, days_since_prior_order]\n",
       "Index: []"
      ]
     },
     "metadata": {},
     "output_type": "display_data"
    }
   ],
   "source": [
    "print(\"Display the number of the missing values in the selection where order number > 1:\")\n",
    "\n",
    "display(orders[(orders['order_number'] > 1)].isnull().sum())\n",
    "\n",
    "print(\"Display the rows where order number > 1 and the days_since_prior_order is missing:\")\n",
    "\n",
    "display(orders[(orders['order_number'] == 1) & (orders['days_since_prior_order'] == np.nan)])"
   ]
  },
  {
   "cell_type": "markdown",
   "id": "4e23d089",
   "metadata": {},
   "source": [
    "Based on the provided Python code and its output, here is a summary:\n",
    "\n",
    "The initial check for missing values in the df_orders DataFrame shows that there are no missing values in most of the columns. However, the days_since_prior_order column has 28,817 missing values.\n",
    "\n",
    "To investigate further, a subset of the DataFrame was created where order_number is greater than 1, indicating it’s not the customer’s first order. In this subset, there are no missing values in any of the columns, including days_since_prior_order.\n",
    "\n",
    "Finally, an attempt was made to display rows where order_number equals 1 (indicating it’s the customer’s first order) and days_since_prior_order is missing (NaN). The result is an empty DataFrame, indicating there are no such rows.\n",
    "\n",
    "In conclusion, the missing values in the days_since_prior_order column are likely associated with the customers’ first orders, as it would make sense for this value to be undefined or NaN in such cases. This assumption is supported by the fact that when we exclude first orders (order_number > 1), there are no missing values in the days_since_prior_order column. Therefore, the missing values do not necessarily indicate a problem with the data, but rather a characteristic of first-time orders."
   ]
  },
  {
   "cell_type": "markdown",
   "id": "69dc9ca4",
   "metadata": {},
   "source": [
    "### `order_products` data frame"
   ]
  },
  {
   "cell_type": "code",
   "execution_count": 67,
   "id": "b8240253",
   "metadata": {},
   "outputs": [
    {
     "data": {
      "text/html": [
       "<div>\n",
       "<style scoped>\n",
       "    .dataframe tbody tr th:only-of-type {\n",
       "        vertical-align: middle;\n",
       "    }\n",
       "\n",
       "    .dataframe tbody tr th {\n",
       "        vertical-align: top;\n",
       "    }\n",
       "\n",
       "    .dataframe thead th {\n",
       "        text-align: right;\n",
       "    }\n",
       "</style>\n",
       "<table border=\"1\" class=\"dataframe\">\n",
       "  <thead>\n",
       "    <tr style=\"text-align: right;\">\n",
       "      <th></th>\n",
       "      <th>order_id</th>\n",
       "      <th>product_id</th>\n",
       "      <th>add_to_cart_order</th>\n",
       "      <th>reordered</th>\n",
       "    </tr>\n",
       "  </thead>\n",
       "  <tbody>\n",
       "    <tr>\n",
       "      <th>0</th>\n",
       "      <td>2141543</td>\n",
       "      <td>11440</td>\n",
       "      <td>17.0</td>\n",
       "      <td>0</td>\n",
       "    </tr>\n",
       "    <tr>\n",
       "      <th>1</th>\n",
       "      <td>567889</td>\n",
       "      <td>1560</td>\n",
       "      <td>1.0</td>\n",
       "      <td>1</td>\n",
       "    </tr>\n",
       "    <tr>\n",
       "      <th>2</th>\n",
       "      <td>2261212</td>\n",
       "      <td>26683</td>\n",
       "      <td>1.0</td>\n",
       "      <td>1</td>\n",
       "    </tr>\n",
       "    <tr>\n",
       "      <th>3</th>\n",
       "      <td>491251</td>\n",
       "      <td>8670</td>\n",
       "      <td>35.0</td>\n",
       "      <td>1</td>\n",
       "    </tr>\n",
       "    <tr>\n",
       "      <th>4</th>\n",
       "      <td>2571142</td>\n",
       "      <td>1940</td>\n",
       "      <td>5.0</td>\n",
       "      <td>1</td>\n",
       "    </tr>\n",
       "  </tbody>\n",
       "</table>\n",
       "</div>"
      ],
      "text/plain": [
       "   order_id  product_id  add_to_cart_order  reordered\n",
       "0   2141543       11440               17.0          0\n",
       "1    567889        1560                1.0          1\n",
       "2   2261212       26683                1.0          1\n",
       "3    491251        8670               35.0          1\n",
       "4   2571142        1940                5.0          1"
      ]
     },
     "execution_count": 67,
     "metadata": {},
     "output_type": "execute_result"
    }
   ],
   "source": [
    "order_p.head()"
   ]
  },
  {
   "cell_type": "code",
   "execution_count": 68,
   "id": "351f4cdb",
   "metadata": {},
   "outputs": [
    {
     "data": {
      "text/plain": [
       "order_id               0\n",
       "product_id             0\n",
       "add_to_cart_order    836\n",
       "reordered              0\n",
       "dtype: int64"
      ]
     },
     "execution_count": 68,
     "metadata": {},
     "output_type": "execute_result"
    }
   ],
   "source": [
    "order_p.isna().sum()"
   ]
  },
  {
   "cell_type": "code",
   "execution_count": 40,
   "id": "9a78e5ee",
   "metadata": {},
   "outputs": [
    {
     "name": "stdout",
     "output_type": "stream",
     "text": [
      "1\n",
      "64\n"
     ]
    }
   ],
   "source": [
    "# What are the min and max values in this column?\n",
    "\n",
    "min_values = order_p['add_to_cart_order'].min()\n",
    "max_values = order_p['add_to_cart_order'].max()\n",
    "print(int(min_values))\n",
    "\n",
    "print(int(max_values))\n"
   ]
  },
  {
   "cell_type": "code",
   "execution_count": 69,
   "id": "ab9d0c2b",
   "metadata": {},
   "outputs": [
    {
     "data": {
      "text/plain": [
       "np.int64(65)"
      ]
     },
     "metadata": {},
     "output_type": "display_data"
    }
   ],
   "source": [
    "# Save all order IDs with at least one missing value in 'add_to_cart_order'\n",
    "missing_atco_ids = order_p[order_p['add_to_cart_order'].isnull()]['order_id'].tolist()\n",
    "\n",
    "#Select all entries attributed to those order IDs into a separate DataFrame\n",
    "order_p_miss = order_p[order_p['order_id'].isin(missing_atco_ids)]\n",
    "\n",
    "#Group this new DataFrame by order ID and check sizes of those groups\n",
    "group_sizes = order_p_miss.groupby('order_id').size()\n",
    "\n",
    "\n",
    "#Find the minimum size\n",
    "min_group_size = np.min(group_sizes)\n",
    "\n",
    "display(min_group_size)"
   ]
  },
  {
   "cell_type": "code",
   "execution_count": 70,
   "id": "54c31695",
   "metadata": {},
   "outputs": [
    {
     "data": {
      "text/plain": [
       "np.False_"
      ]
     },
     "metadata": {},
     "output_type": "display_data"
    }
   ],
   "source": [
    "# Do all orders with missing values have more than 64 products?\n",
    "display(np.all(group_sizes) > 64)"
   ]
  },
  {
   "cell_type": "code",
   "execution_count": 71,
   "id": "7a987d08",
   "metadata": {},
   "outputs": [],
   "source": [
    "# Replace missing values with 999 and convert column to integer type\n",
    "order_p = order_p.fillna(999).astype(int)\n"
   ]
  },
  {
   "cell_type": "markdown",
   "id": "fea4bcc7",
   "metadata": {},
   "source": [
    "The above code is performing a series of operations on the df_o_products DataFrame, which contains information about product orders. Here’s a summary of the operations and their results:\n",
    "\n",
    "## Displaying the DataFrame: \n",
    "The first few rows of the DataFrame are displayed, showing columns for order_id, product_id, add_to_cart_order, and reordered.\n",
    "Checking for Null Values: The code checks for null values in the DataFrame. The output shows that there are no null values in any of the columns.\n",
    "\n",
    "## Minimum and Maximum Values: \n",
    "The minimum and maximum values in the add_to_cart_order column are calculated and printed. However, the actual values are not shown in the provided context.\n",
    "\n",
    "## Identifying Missing Values:\n",
    "The code attempts to identify all order IDs with at least one missing value in the add_to_cart_order column. However, as we’ve already established, there are no missing values in this column.\n",
    "\n",
    "## Grouping and Size Calculation:\n",
    "The code groups the DataFrame by order_id and calculates the size of these groups. The minimum group size is then displayed. However, the actual value is not shown in the provided context.\n",
    "\n",
    "## Checking for Orders with More Than 64 Products:\n",
    "The code checks if all orders with missing values have more than 64 products. However, since there are no missing values, this check might not be necessary.\n",
    "\n",
    "## Replacing Missing Values and Type Conversion:\n",
    "Finally, the code replaces any missing values with 999 and converts the DataFrame to integer type. However, since there are no missing values, the replacement operation doesn’t change the DataFrame.\n",
    "In conclusion, the DataFrame df_o_products appears to be clean with no missing values. The operations performed provide some insights into the data, such as the range of values in the add_to_cart_order column and the distribution of order sizes. However, some operations, particularly those involving missing values, may not be necessary given the current state of the DataFrame."
   ]
  },
  {
   "cell_type": "markdown",
   "id": "turkish-kidney",
   "metadata": {},
   "source": [
    "# [A] Easy (must complete all to pass)"
   ]
  },
  {
   "cell_type": "markdown",
   "id": "short-capability",
   "metadata": {},
   "source": [
    "### [A1] Verify that the `'order_hour_of_day'` and `'order_dow'` values in the `orders` tables are sensible (i.e. `'order_hour_of_day'` ranges from 0 to 23 and `'order_dow'` ranges from 0 to 6)"
   ]
  },
  {
   "cell_type": "code",
   "execution_count": 72,
   "id": "growing-fruit",
   "metadata": {},
   "outputs": [
    {
     "name": "stdout",
     "output_type": "stream",
     "text": [
      "The range of values goes from 0 to 23\n"
     ]
    }
   ],
   "source": [
    "\n",
    "#Checking the value ranges by using min/max\n",
    "min_hour = orders['order_hour_of_day'].min()\n",
    "max_hour = orders['order_hour_of_day'].max()\n",
    "print(f\"The range of values goes from {min_hour} to {max_hour}\")"
   ]
  },
  {
   "cell_type": "code",
   "execution_count": 45,
   "id": "accessory-malaysia",
   "metadata": {},
   "outputs": [
    {
     "name": "stdout",
     "output_type": "stream",
     "text": [
      "The range of values goes from 0 to 6\n"
     ]
    }
   ],
   "source": [
    "\n",
    "#Checking the value ranges by using min/max\n",
    "min_day = orders['order_dow'].min()\n",
    "max_day = orders['order_dow'].max()\n",
    "print(f\"The range of values goes from {min_day} to {max_day}\")"
   ]
  },
  {
   "cell_type": "markdown",
   "id": "dadd2f70",
   "metadata": {},
   "source": [
    "<div class=\"alert alert-success\"; style=\"border-left: 7px solid green\">\n",
    "<b>✅ Reviewer's comment, v. 1</b> \n",
    "    \n",
    "Well done."
   ]
  },
  {
   "cell_type": "markdown",
   "id": "a6743a70",
   "metadata": {},
   "source": [
    "### [A2] What time of day do people shop for groceries?"
   ]
  },
  {
   "cell_type": "code",
   "execution_count": 73,
   "id": "a36cca27",
   "metadata": {},
   "outputs": [
    {
     "data": {
      "image/png": "[encoded data removed]",
      "text/plain": [
       "<Figure size 1000x600 with 1 Axes>"
      ]
     },
     "metadata": {},
     "output_type": "display_data"
    }
   ],
   "source": [
    "#I'll determine this by using getting the value counts from order hour of the day and printing which id shows up the most often\n",
    "shopping_hour = orders['order_hour_of_day'].value_counts().idxmax()\n",
    "order_counts = orders['order_hour_of_day'].value_counts().sort_index()\n",
    "\n",
    "#Create a bar plot\n",
    "plt.figure(figsize=(10,6))\n",
    "plt.bar(order_counts.index, order_counts.values, color='blue')\n",
    "\n",
    "#Highlight the hour with the most order\n",
    "plt.bar(shopping_hour, order_counts[shopping_hour], color='orange')\n",
    "\n",
    "plt.xlabel('Hour of Day')\n",
    "plt.ylabel('Number of Orders')\n",
    "plt.title('Number of Orders by Hour of Day')\n",
    "plt.xticks(range(0, 24))\n",
    "plt.grid(axis='y')\n",
    "\n",
    "plt.show()"
   ]
  },
  {
   "cell_type": "markdown",
   "id": "11270eed",
   "metadata": {},
   "source": [
    "People mostly shop at 10 am "
   ]
  },
  {
   "cell_type": "markdown",
   "id": "documented-command",
   "metadata": {},
   "source": [
    "### [A3] What day of the week do people shop for groceries?"
   ]
  },
  {
   "cell_type": "code",
   "execution_count": 74,
   "id": "chief-digit",
   "metadata": {},
   "outputs": [
    {
     "data": {
      "image/png": "[encoded data removed]",
      "text/plain": [
       "<Figure size 1000x600 with 1 Axes>"
      ]
     },
     "metadata": {},
     "output_type": "display_data"
    }
   ],
   "source": [
    "#I'll determine this by using getting the average from the hour_of_day column\n",
    "shopping_day = orders['order_dow'].value_counts().idxmax()\n",
    "order_counts = orders['order_dow'].value_counts().sort_index()\n",
    "\n",
    "#Create a bar plot\n",
    "plt.figure(figsize=(10,6))\n",
    "plt.bar(order_counts.index, order_counts.values, color='blue')\n",
    "\n",
    "#Highlight the hour with the most order\n",
    "plt.bar(shopping_day, order_counts[shopping_day], color='orange')\n",
    "\n",
    "plt.xlabel('Day of Week')\n",
    "plt.ylabel('Number of Orders')\n",
    "plt.title('Number of Orders by Day of Week')\n",
    "plt.xticks(range(0, 7))\n",
    "plt.grid(axis='y')\n",
    "\n",
    "plt.show()"
   ]
  },
  {
   "cell_type": "markdown",
   "id": "dominant-lightning",
   "metadata": {},
   "source": [
    "Most people shop on sunday"
   ]
  },
  {
   "cell_type": "markdown",
   "id": "cutting-concert",
   "metadata": {},
   "source": [
    "### [A4] How long do people wait until placing another order?"
   ]
  },
  {
   "cell_type": "code",
   "execution_count": 75,
   "id": "c231f523",
   "metadata": {},
   "outputs": [
    {
     "name": "stdout",
     "output_type": "stream",
     "text": [
      "The minimum people will wait to place another order is 0 days and the longest is 30 days\n"
     ]
    }
   ],
   "source": [
    "min_days = orders['days_since_prior_order'].min()\n",
    "max_days = orders['days_since_prior_order'].max()\n",
    "print(f\"The minimum people will wait to place another order is {int(min_days)} days and the longest is {int(max_days)} days\")"
   ]
  },
  {
   "cell_type": "code",
   "execution_count": 76,
   "id": "exciting-fantasy",
   "metadata": {},
   "outputs": [
    {
     "data": {
      "image/png": "[encoded data removed]",
      "text/plain": [
       "<Figure size 1000x600 with 1 Axes>"
      ]
     },
     "metadata": {},
     "output_type": "display_data"
    }
   ],
   "source": [
    "plt.figure(figsize=(10,6))\n",
    "plt.hist(orders['days_since_prior_order'], bins=30, edgecolor='black')\n",
    "\n",
    "plt.title('Days Until Next Order')\n",
    "plt.xlabel('Days')\n",
    "plt.ylabel('Number of Orders')\n",
    "\n",
    "plt.show()"
   ]
  },
  {
   "cell_type": "markdown",
   "id": "discrete-vertex",
   "metadata": {},
   "source": []
  },
  {
   "cell_type": "markdown",
   "id": "8d926614",
   "metadata": {},
   "source": [
    "Based on the chart, it seems as like most people wait 30 days to make another order, followed closely by those who wait about a week to do so"
   ]
  },
  {
   "cell_type": "markdown",
   "id": "tight-staff",
   "metadata": {},
   "source": [
    "# [B] Medium (must complete all to pass)"
   ]
  },
  {
   "cell_type": "markdown",
   "id": "packed-classic",
   "metadata": {},
   "source": [
    "### [B1] Is there a difference in `'order_hour_of_day'` distributions on Wednesdays and Saturdays? Plot the histograms for both days and describe the differences that you see."
   ]
  },
  {
   "cell_type": "code",
   "execution_count": 77,
   "id": "94e54e8a",
   "metadata": {},
   "outputs": [
    {
     "data": {
      "image/png": "[encoded data removed]",
      "text/plain": [
       "<Figure size 640x480 with 1 Axes>"
      ]
     },
     "metadata": {},
     "output_type": "display_data"
    }
   ],
   "source": [
    "#based on the previously discovered relation between the indicies and the days of the week \n",
    "weds = 3\n",
    "#filter the dataframe based on things happening only on Weds\n",
    "weds_shopping = orders[orders['order_dow'] == weds]\n",
    "\n",
    "#plotting the histogram\n",
    "plt.hist(weds_shopping['order_hour_of_day'], bins=24, edgecolor='black')\n",
    "plt.title('Wednesday Dsitribution'.format(weds))\n",
    "plt.xlabel('testing')\n",
    "plt.show()"
   ]
  },
  {
   "cell_type": "code",
   "execution_count": 79,
   "id": "797c90a8",
   "metadata": {},
   "outputs": [
    {
     "data": {
      "image/png": "[encoded data removed]",
      "text/plain": [
       "<Figure size 640x480 with 1 Axes>"
      ]
     },
     "metadata": {},
     "output_type": "display_data"
    }
   ],
   "source": [
    "#based on the previously discovered relation between the indicies and the days of the week \n",
    "sat = 6\n",
    "#filter the dataframe based on things happening only on Weds\n",
    "sat_shopping = orders[orders['order_dow'] == sat]\n",
    "\n",
    "#plotting the histogram\n",
    "plt.hist(sat_shopping['order_hour_of_day'], bins=24, edgecolor='black')\n",
    "plt.title('Saturday Dsitribution'.format(sat))\n",
    "plt.show()"
   ]
  },
  {
   "cell_type": "code",
   "execution_count": 80,
   "id": "35bcea30",
   "metadata": {},
   "outputs": [
    {
     "data": {
      "image/png": "[encoded data removed]",
      "text/plain": [
       "<Figure size 640x480 with 1 Axes>"
      ]
     },
     "metadata": {},
     "output_type": "display_data"
    }
   ],
   "source": [
    "weds_shopping['order_hour_of_day'].plot(kind='hist',bins=24)\n",
    "sat_shopping['order_hour_of_day'].plot(kind='hist',bins=24,alpha=0.5)\n",
    "plt.legend([\"Wednesday\",\"Saturday\"])\n",
    "\n",
    "plt.xlabel('Hour of Day')\n",
    "plt.ylabel('Number of Orders')\n",
    "plt.xticks(range(0,24))\n",
    "plt.title('Order Distribution by Hour for Weds & Sat')\n",
    "plt.show()"
   ]
  },
  {
   "cell_type": "markdown",
   "id": "charitable-congo",
   "metadata": {},
   "source": [
    "Based on the chart, it looks like the shopping habits are almost similiar, with the exception of the hours between 11 am and 2pm. It seems that more orders happen between these hours on Saturday than on Wednesday"
   ]
  },
  {
   "cell_type": "markdown",
   "id": "e3891143",
   "metadata": {},
   "source": [
    "### [B2] What's the distribution for the number of orders per customer?"
   ]
  },
  {
   "cell_type": "code",
   "execution_count": 53,
   "id": "00e69a66",
   "metadata": {},
   "outputs": [
    {
     "data": {
      "image/png": "[encoded data removed]",
      "text/plain": [
       "<Figure size 1000x600 with 1 Axes>"
      ]
     },
     "metadata": {},
     "output_type": "display_data"
    }
   ],
   "source": [
    "orders_per_user = orders.groupby('user_id')['order_id'].count()\n",
    "\n",
    "plt.figure(figsize=(10,6))\n",
    "plt.hist(orders_per_user, bins=25, edgecolor='black')\n",
    "\n",
    "plt.title('Distribution of Number of Orders per Customer')\n",
    "plt.xlabel('Number of Orders')\n",
    "plt.xticks(range(0,21))\n",
    "plt.ylabel('Number of Users')\n",
    "\n",
    "plt.show()"
   ]
  },
  {
   "cell_type": "markdown",
   "id": "d2eff7d5",
   "metadata": {},
   "source": [
    "Based on this graph, it looks as thos most users are within the 1 to 2 order range with a significant drop-off after that"
   ]
  },
  {
   "cell_type": "markdown",
   "id": "54a0319c",
   "metadata": {},
   "source": [
    "### [B3] What are the top 20 popular products (display their id and name)?"
   ]
  },
  {
   "cell_type": "code",
   "execution_count": 81,
   "id": "c3217ca3",
   "metadata": {},
   "outputs": [
    {
     "data": {
      "text/html": [
       "<div>\n",
       "<style scoped>\n",
       "    .dataframe tbody tr th:only-of-type {\n",
       "        vertical-align: middle;\n",
       "    }\n",
       "\n",
       "    .dataframe tbody tr th {\n",
       "        vertical-align: top;\n",
       "    }\n",
       "\n",
       "    .dataframe thead th {\n",
       "        text-align: right;\n",
       "    }\n",
       "</style>\n",
       "<table border=\"1\" class=\"dataframe\">\n",
       "  <thead>\n",
       "    <tr style=\"text-align: right;\">\n",
       "      <th></th>\n",
       "      <th>product_id</th>\n",
       "      <th>product_name</th>\n",
       "      <th>aisle_id</th>\n",
       "      <th>department_id</th>\n",
       "      <th>order_id</th>\n",
       "      <th>add_to_cart_order</th>\n",
       "      <th>reordered</th>\n",
       "    </tr>\n",
       "  </thead>\n",
       "  <tbody>\n",
       "    <tr>\n",
       "      <th>0</th>\n",
       "      <td>1</td>\n",
       "      <td>chocolate sandwich cookies</td>\n",
       "      <td>61</td>\n",
       "      <td>19</td>\n",
       "      <td>1104373</td>\n",
       "      <td>11</td>\n",
       "      <td>1</td>\n",
       "    </tr>\n",
       "    <tr>\n",
       "      <th>1</th>\n",
       "      <td>1</td>\n",
       "      <td>chocolate sandwich cookies</td>\n",
       "      <td>61</td>\n",
       "      <td>19</td>\n",
       "      <td>1774977</td>\n",
       "      <td>4</td>\n",
       "      <td>1</td>\n",
       "    </tr>\n",
       "    <tr>\n",
       "      <th>2</th>\n",
       "      <td>1</td>\n",
       "      <td>chocolate sandwich cookies</td>\n",
       "      <td>61</td>\n",
       "      <td>19</td>\n",
       "      <td>652770</td>\n",
       "      <td>10</td>\n",
       "      <td>0</td>\n",
       "    </tr>\n",
       "    <tr>\n",
       "      <th>3</th>\n",
       "      <td>1</td>\n",
       "      <td>chocolate sandwich cookies</td>\n",
       "      <td>61</td>\n",
       "      <td>19</td>\n",
       "      <td>1000035</td>\n",
       "      <td>6</td>\n",
       "      <td>1</td>\n",
       "    </tr>\n",
       "    <tr>\n",
       "      <th>4</th>\n",
       "      <td>1</td>\n",
       "      <td>chocolate sandwich cookies</td>\n",
       "      <td>61</td>\n",
       "      <td>19</td>\n",
       "      <td>1679949</td>\n",
       "      <td>9</td>\n",
       "      <td>0</td>\n",
       "    </tr>\n",
       "    <tr>\n",
       "      <th>...</th>\n",
       "      <td>...</td>\n",
       "      <td>...</td>\n",
       "      <td>...</td>\n",
       "      <td>...</td>\n",
       "      <td>...</td>\n",
       "      <td>...</td>\n",
       "      <td>...</td>\n",
       "    </tr>\n",
       "    <tr>\n",
       "      <th>4545002</th>\n",
       "      <td>49694</td>\n",
       "      <td>burrito- steak &amp; cheese</td>\n",
       "      <td>38</td>\n",
       "      <td>1</td>\n",
       "      <td>3034802</td>\n",
       "      <td>10</td>\n",
       "      <td>0</td>\n",
       "    </tr>\n",
       "    <tr>\n",
       "      <th>4545003</th>\n",
       "      <td>49694</td>\n",
       "      <td>burrito- steak &amp; cheese</td>\n",
       "      <td>38</td>\n",
       "      <td>1</td>\n",
       "      <td>3175081</td>\n",
       "      <td>3</td>\n",
       "      <td>0</td>\n",
       "    </tr>\n",
       "    <tr>\n",
       "      <th>4545004</th>\n",
       "      <td>49694</td>\n",
       "      <td>burrito- steak &amp; cheese</td>\n",
       "      <td>38</td>\n",
       "      <td>1</td>\n",
       "      <td>694132</td>\n",
       "      <td>2</td>\n",
       "      <td>0</td>\n",
       "    </tr>\n",
       "    <tr>\n",
       "      <th>4545005</th>\n",
       "      <td>49694</td>\n",
       "      <td>burrito- steak &amp; cheese</td>\n",
       "      <td>38</td>\n",
       "      <td>1</td>\n",
       "      <td>2843165</td>\n",
       "      <td>5</td>\n",
       "      <td>0</td>\n",
       "    </tr>\n",
       "    <tr>\n",
       "      <th>4545006</th>\n",
       "      <td>49694</td>\n",
       "      <td>burrito- steak &amp; cheese</td>\n",
       "      <td>38</td>\n",
       "      <td>1</td>\n",
       "      <td>2077154</td>\n",
       "      <td>12</td>\n",
       "      <td>0</td>\n",
       "    </tr>\n",
       "  </tbody>\n",
       "</table>\n",
       "<p>4545007 rows × 7 columns</p>\n",
       "</div>"
      ],
      "text/plain": [
       "         product_id                product_name  aisle_id  department_id  \\\n",
       "0                 1  chocolate sandwich cookies        61             19   \n",
       "1                 1  chocolate sandwich cookies        61             19   \n",
       "2                 1  chocolate sandwich cookies        61             19   \n",
       "3                 1  chocolate sandwich cookies        61             19   \n",
       "4                 1  chocolate sandwich cookies        61             19   \n",
       "...             ...                         ...       ...            ...   \n",
       "4545002       49694     burrito- steak & cheese        38              1   \n",
       "4545003       49694     burrito- steak & cheese        38              1   \n",
       "4545004       49694     burrito- steak & cheese        38              1   \n",
       "4545005       49694     burrito- steak & cheese        38              1   \n",
       "4545006       49694     burrito- steak & cheese        38              1   \n",
       "\n",
       "         order_id  add_to_cart_order  reordered  \n",
       "0         1104373                 11          1  \n",
       "1         1774977                  4          1  \n",
       "2          652770                 10          0  \n",
       "3         1000035                  6          1  \n",
       "4         1679949                  9          0  \n",
       "...           ...                ...        ...  \n",
       "4545002   3034802                 10          0  \n",
       "4545003   3175081                  3          0  \n",
       "4545004    694132                  2          0  \n",
       "4545005   2843165                  5          0  \n",
       "4545006   2077154                 12          0  \n",
       "\n",
       "[4545007 rows x 7 columns]"
      ]
     },
     "metadata": {},
     "output_type": "display_data"
    }
   ],
   "source": [
    "#Merge the two dataframes on product id column\n",
    "order_data = products.merge(order_p,on='product_id')\n",
    "display(order_data)"
   ]
  },
  {
   "cell_type": "code",
   "execution_count": 82,
   "id": "b5f62081",
   "metadata": {},
   "outputs": [
    {
     "data": {
      "text/html": [
       "<div>\n",
       "<style scoped>\n",
       "    .dataframe tbody tr th:only-of-type {\n",
       "        vertical-align: middle;\n",
       "    }\n",
       "\n",
       "    .dataframe tbody tr th {\n",
       "        vertical-align: top;\n",
       "    }\n",
       "\n",
       "    .dataframe thead th {\n",
       "        text-align: right;\n",
       "    }\n",
       "</style>\n",
       "<table border=\"1\" class=\"dataframe\">\n",
       "  <thead>\n",
       "    <tr style=\"text-align: right;\">\n",
       "      <th></th>\n",
       "      <th>product_id</th>\n",
       "      <th>product_name</th>\n",
       "      <th>aisle_id</th>\n",
       "      <th>department_id</th>\n",
       "      <th>order_id</th>\n",
       "      <th>add_to_cart_order</th>\n",
       "      <th>reordered</th>\n",
       "      <th>id_and_name</th>\n",
       "    </tr>\n",
       "  </thead>\n",
       "  <tbody>\n",
       "    <tr>\n",
       "      <th>0</th>\n",
       "      <td>1</td>\n",
       "      <td>chocolate sandwich cookies</td>\n",
       "      <td>61</td>\n",
       "      <td>19</td>\n",
       "      <td>1104373</td>\n",
       "      <td>11</td>\n",
       "      <td>1</td>\n",
       "      <td>1 - chocolate sandwich cookies</td>\n",
       "    </tr>\n",
       "    <tr>\n",
       "      <th>1</th>\n",
       "      <td>1</td>\n",
       "      <td>chocolate sandwich cookies</td>\n",
       "      <td>61</td>\n",
       "      <td>19</td>\n",
       "      <td>1774977</td>\n",
       "      <td>4</td>\n",
       "      <td>1</td>\n",
       "      <td>1 - chocolate sandwich cookies</td>\n",
       "    </tr>\n",
       "    <tr>\n",
       "      <th>2</th>\n",
       "      <td>1</td>\n",
       "      <td>chocolate sandwich cookies</td>\n",
       "      <td>61</td>\n",
       "      <td>19</td>\n",
       "      <td>652770</td>\n",
       "      <td>10</td>\n",
       "      <td>0</td>\n",
       "      <td>1 - chocolate sandwich cookies</td>\n",
       "    </tr>\n",
       "    <tr>\n",
       "      <th>3</th>\n",
       "      <td>1</td>\n",
       "      <td>chocolate sandwich cookies</td>\n",
       "      <td>61</td>\n",
       "      <td>19</td>\n",
       "      <td>1000035</td>\n",
       "      <td>6</td>\n",
       "      <td>1</td>\n",
       "      <td>1 - chocolate sandwich cookies</td>\n",
       "    </tr>\n",
       "    <tr>\n",
       "      <th>4</th>\n",
       "      <td>1</td>\n",
       "      <td>chocolate sandwich cookies</td>\n",
       "      <td>61</td>\n",
       "      <td>19</td>\n",
       "      <td>1679949</td>\n",
       "      <td>9</td>\n",
       "      <td>0</td>\n",
       "      <td>1 - chocolate sandwich cookies</td>\n",
       "    </tr>\n",
       "    <tr>\n",
       "      <th>...</th>\n",
       "      <td>...</td>\n",
       "      <td>...</td>\n",
       "      <td>...</td>\n",
       "      <td>...</td>\n",
       "      <td>...</td>\n",
       "      <td>...</td>\n",
       "      <td>...</td>\n",
       "      <td>...</td>\n",
       "    </tr>\n",
       "    <tr>\n",
       "      <th>4545002</th>\n",
       "      <td>49694</td>\n",
       "      <td>burrito- steak &amp; cheese</td>\n",
       "      <td>38</td>\n",
       "      <td>1</td>\n",
       "      <td>3034802</td>\n",
       "      <td>10</td>\n",
       "      <td>0</td>\n",
       "      <td>49694 - burrito- steak &amp; cheese</td>\n",
       "    </tr>\n",
       "    <tr>\n",
       "      <th>4545003</th>\n",
       "      <td>49694</td>\n",
       "      <td>burrito- steak &amp; cheese</td>\n",
       "      <td>38</td>\n",
       "      <td>1</td>\n",
       "      <td>3175081</td>\n",
       "      <td>3</td>\n",
       "      <td>0</td>\n",
       "      <td>49694 - burrito- steak &amp; cheese</td>\n",
       "    </tr>\n",
       "    <tr>\n",
       "      <th>4545004</th>\n",
       "      <td>49694</td>\n",
       "      <td>burrito- steak &amp; cheese</td>\n",
       "      <td>38</td>\n",
       "      <td>1</td>\n",
       "      <td>694132</td>\n",
       "      <td>2</td>\n",
       "      <td>0</td>\n",
       "      <td>49694 - burrito- steak &amp; cheese</td>\n",
       "    </tr>\n",
       "    <tr>\n",
       "      <th>4545005</th>\n",
       "      <td>49694</td>\n",
       "      <td>burrito- steak &amp; cheese</td>\n",
       "      <td>38</td>\n",
       "      <td>1</td>\n",
       "      <td>2843165</td>\n",
       "      <td>5</td>\n",
       "      <td>0</td>\n",
       "      <td>49694 - burrito- steak &amp; cheese</td>\n",
       "    </tr>\n",
       "    <tr>\n",
       "      <th>4545006</th>\n",
       "      <td>49694</td>\n",
       "      <td>burrito- steak &amp; cheese</td>\n",
       "      <td>38</td>\n",
       "      <td>1</td>\n",
       "      <td>2077154</td>\n",
       "      <td>12</td>\n",
       "      <td>0</td>\n",
       "      <td>49694 - burrito- steak &amp; cheese</td>\n",
       "    </tr>\n",
       "  </tbody>\n",
       "</table>\n",
       "<p>4545007 rows × 8 columns</p>\n",
       "</div>"
      ],
      "text/plain": [
       "         product_id                product_name  aisle_id  department_id  \\\n",
       "0                 1  chocolate sandwich cookies        61             19   \n",
       "1                 1  chocolate sandwich cookies        61             19   \n",
       "2                 1  chocolate sandwich cookies        61             19   \n",
       "3                 1  chocolate sandwich cookies        61             19   \n",
       "4                 1  chocolate sandwich cookies        61             19   \n",
       "...             ...                         ...       ...            ...   \n",
       "4545002       49694     burrito- steak & cheese        38              1   \n",
       "4545003       49694     burrito- steak & cheese        38              1   \n",
       "4545004       49694     burrito- steak & cheese        38              1   \n",
       "4545005       49694     burrito- steak & cheese        38              1   \n",
       "4545006       49694     burrito- steak & cheese        38              1   \n",
       "\n",
       "         order_id  add_to_cart_order  reordered  \\\n",
       "0         1104373                 11          1   \n",
       "1         1774977                  4          1   \n",
       "2          652770                 10          0   \n",
       "3         1000035                  6          1   \n",
       "4         1679949                  9          0   \n",
       "...           ...                ...        ...   \n",
       "4545002   3034802                 10          0   \n",
       "4545003   3175081                  3          0   \n",
       "4545004    694132                  2          0   \n",
       "4545005   2843165                  5          0   \n",
       "4545006   2077154                 12          0   \n",
       "\n",
       "                             id_and_name  \n",
       "0         1 - chocolate sandwich cookies  \n",
       "1         1 - chocolate sandwich cookies  \n",
       "2         1 - chocolate sandwich cookies  \n",
       "3         1 - chocolate sandwich cookies  \n",
       "4         1 - chocolate sandwich cookies  \n",
       "...                                  ...  \n",
       "4545002  49694 - burrito- steak & cheese  \n",
       "4545003  49694 - burrito- steak & cheese  \n",
       "4545004  49694 - burrito- steak & cheese  \n",
       "4545005  49694 - burrito- steak & cheese  \n",
       "4545006  49694 - burrito- steak & cheese  \n",
       "\n",
       "[4545007 rows x 8 columns]"
      ]
     },
     "metadata": {},
     "output_type": "display_data"
    }
   ],
   "source": [
    "order_data['id_and_name'] = order_data['product_id'].astype(str) + \" - \" + order_data['product_name']\n",
    "display(order_data)"
   ]
  },
  {
   "cell_type": "code",
   "execution_count": 83,
   "id": "universal-facial",
   "metadata": {},
   "outputs": [
    {
     "data": {
      "image/png": "[encoded data removed]",
      "text/plain": [
       "<Figure size 1000x600 with 1 Axes>"
      ]
     },
     "metadata": {},
     "output_type": "display_data"
    }
   ],
   "source": [
    "counts = order_data['id_and_name'].value_counts()\n",
    "top_20 = counts[:20]\n",
    "plt.figure(figsize=(10, 6))\n",
    "top_20.plot(kind='bar')\n",
    "plt.title('20 Popular Products')\n",
    "plt.xlabel('Product Names')\n",
    "plt.ylabel('Number Purchased')\n",
    "plt.show()"
   ]
  },
  {
   "cell_type": "markdown",
   "id": "gross-theme",
   "metadata": {},
   "source": [
    "# [C] Hard (must complete at least two to pass)"
   ]
  },
  {
   "cell_type": "markdown",
   "id": "romantic-deposit",
   "metadata": {},
   "source": [
    "### [C1] How many items do people typically buy in one order? What does the distribution look like?"
   ]
  },
  {
   "cell_type": "code",
   "execution_count": 84,
   "id": "virtual-punch",
   "metadata": {},
   "outputs": [],
   "source": [
    "#Group by order id and find the max add_to_card_order per group\n",
    "items_per_order = order_p.groupby('order_id')['add_to_cart_order'].max()"
   ]
  },
  {
   "cell_type": "code",
   "execution_count": 85,
   "id": "sensitive-breathing",
   "metadata": {},
   "outputs": [
    {
     "data": {
      "image/png": "[encoded data removed]",
      "text/plain": [
       "<Figure size 640x480 with 1 Axes>"
      ]
     },
     "metadata": {},
     "output_type": "display_data"
    }
   ],
   "source": [
    "#plot the data\n",
    "plt.hist(items_per_order, bins=range(1, 65),edgecolor='black')\n",
    "plt.title('Distribution of Items per Order')\n",
    "plt.xlabel('Number of Items')\n",
    "plt.xticks(np.arange(0,65,step=5))\n",
    "plt.ylabel('Number of Orders')\n",
    "plt.show()"
   ]
  },
  {
   "cell_type": "markdown",
   "id": "designed-mortality",
   "metadata": {},
   "source": [
    "From the looks of this plot, it seems as that people typically buy between 4-8 items per order."
   ]
  },
  {
   "cell_type": "markdown",
   "id": "5e6b5537",
   "metadata": {},
   "source": [
    "### [C2] What are the top 20 items that are reordered most frequently (display their names and product IDs)?"
   ]
  },
  {
   "cell_type": "code",
   "execution_count": 86,
   "id": "9374e55a",
   "metadata": {},
   "outputs": [
    {
     "data": {
      "text/html": [
       "<div>\n",
       "<style scoped>\n",
       "    .dataframe tbody tr th:only-of-type {\n",
       "        vertical-align: middle;\n",
       "    }\n",
       "\n",
       "    .dataframe tbody tr th {\n",
       "        vertical-align: top;\n",
       "    }\n",
       "\n",
       "    .dataframe thead th {\n",
       "        text-align: right;\n",
       "    }\n",
       "</style>\n",
       "<table border=\"1\" class=\"dataframe\">\n",
       "  <thead>\n",
       "    <tr style=\"text-align: right;\">\n",
       "      <th></th>\n",
       "      <th>product_id</th>\n",
       "      <th>product_name</th>\n",
       "      <th>aisle_id</th>\n",
       "      <th>department_id</th>\n",
       "      <th>order_id</th>\n",
       "      <th>add_to_cart_order</th>\n",
       "      <th>reordered</th>\n",
       "      <th>id_and_name</th>\n",
       "    </tr>\n",
       "  </thead>\n",
       "  <tbody>\n",
       "    <tr>\n",
       "      <th>0</th>\n",
       "      <td>1</td>\n",
       "      <td>chocolate sandwich cookies</td>\n",
       "      <td>61</td>\n",
       "      <td>19</td>\n",
       "      <td>1104373</td>\n",
       "      <td>11</td>\n",
       "      <td>1</td>\n",
       "      <td>1 - chocolate sandwich cookies</td>\n",
       "    </tr>\n",
       "    <tr>\n",
       "      <th>1</th>\n",
       "      <td>1</td>\n",
       "      <td>chocolate sandwich cookies</td>\n",
       "      <td>61</td>\n",
       "      <td>19</td>\n",
       "      <td>1774977</td>\n",
       "      <td>4</td>\n",
       "      <td>1</td>\n",
       "      <td>1 - chocolate sandwich cookies</td>\n",
       "    </tr>\n",
       "    <tr>\n",
       "      <th>2</th>\n",
       "      <td>1</td>\n",
       "      <td>chocolate sandwich cookies</td>\n",
       "      <td>61</td>\n",
       "      <td>19</td>\n",
       "      <td>652770</td>\n",
       "      <td>10</td>\n",
       "      <td>0</td>\n",
       "      <td>1 - chocolate sandwich cookies</td>\n",
       "    </tr>\n",
       "    <tr>\n",
       "      <th>3</th>\n",
       "      <td>1</td>\n",
       "      <td>chocolate sandwich cookies</td>\n",
       "      <td>61</td>\n",
       "      <td>19</td>\n",
       "      <td>1000035</td>\n",
       "      <td>6</td>\n",
       "      <td>1</td>\n",
       "      <td>1 - chocolate sandwich cookies</td>\n",
       "    </tr>\n",
       "    <tr>\n",
       "      <th>4</th>\n",
       "      <td>1</td>\n",
       "      <td>chocolate sandwich cookies</td>\n",
       "      <td>61</td>\n",
       "      <td>19</td>\n",
       "      <td>1679949</td>\n",
       "      <td>9</td>\n",
       "      <td>0</td>\n",
       "      <td>1 - chocolate sandwich cookies</td>\n",
       "    </tr>\n",
       "    <tr>\n",
       "      <th>...</th>\n",
       "      <td>...</td>\n",
       "      <td>...</td>\n",
       "      <td>...</td>\n",
       "      <td>...</td>\n",
       "      <td>...</td>\n",
       "      <td>...</td>\n",
       "      <td>...</td>\n",
       "      <td>...</td>\n",
       "    </tr>\n",
       "    <tr>\n",
       "      <th>4545002</th>\n",
       "      <td>49694</td>\n",
       "      <td>burrito- steak &amp; cheese</td>\n",
       "      <td>38</td>\n",
       "      <td>1</td>\n",
       "      <td>3034802</td>\n",
       "      <td>10</td>\n",
       "      <td>0</td>\n",
       "      <td>49694 - burrito- steak &amp; cheese</td>\n",
       "    </tr>\n",
       "    <tr>\n",
       "      <th>4545003</th>\n",
       "      <td>49694</td>\n",
       "      <td>burrito- steak &amp; cheese</td>\n",
       "      <td>38</td>\n",
       "      <td>1</td>\n",
       "      <td>3175081</td>\n",
       "      <td>3</td>\n",
       "      <td>0</td>\n",
       "      <td>49694 - burrito- steak &amp; cheese</td>\n",
       "    </tr>\n",
       "    <tr>\n",
       "      <th>4545004</th>\n",
       "      <td>49694</td>\n",
       "      <td>burrito- steak &amp; cheese</td>\n",
       "      <td>38</td>\n",
       "      <td>1</td>\n",
       "      <td>694132</td>\n",
       "      <td>2</td>\n",
       "      <td>0</td>\n",
       "      <td>49694 - burrito- steak &amp; cheese</td>\n",
       "    </tr>\n",
       "    <tr>\n",
       "      <th>4545005</th>\n",
       "      <td>49694</td>\n",
       "      <td>burrito- steak &amp; cheese</td>\n",
       "      <td>38</td>\n",
       "      <td>1</td>\n",
       "      <td>2843165</td>\n",
       "      <td>5</td>\n",
       "      <td>0</td>\n",
       "      <td>49694 - burrito- steak &amp; cheese</td>\n",
       "    </tr>\n",
       "    <tr>\n",
       "      <th>4545006</th>\n",
       "      <td>49694</td>\n",
       "      <td>burrito- steak &amp; cheese</td>\n",
       "      <td>38</td>\n",
       "      <td>1</td>\n",
       "      <td>2077154</td>\n",
       "      <td>12</td>\n",
       "      <td>0</td>\n",
       "      <td>49694 - burrito- steak &amp; cheese</td>\n",
       "    </tr>\n",
       "  </tbody>\n",
       "</table>\n",
       "<p>4545007 rows × 8 columns</p>\n",
       "</div>"
      ],
      "text/plain": [
       "         product_id                product_name  aisle_id  department_id  \\\n",
       "0                 1  chocolate sandwich cookies        61             19   \n",
       "1                 1  chocolate sandwich cookies        61             19   \n",
       "2                 1  chocolate sandwich cookies        61             19   \n",
       "3                 1  chocolate sandwich cookies        61             19   \n",
       "4                 1  chocolate sandwich cookies        61             19   \n",
       "...             ...                         ...       ...            ...   \n",
       "4545002       49694     burrito- steak & cheese        38              1   \n",
       "4545003       49694     burrito- steak & cheese        38              1   \n",
       "4545004       49694     burrito- steak & cheese        38              1   \n",
       "4545005       49694     burrito- steak & cheese        38              1   \n",
       "4545006       49694     burrito- steak & cheese        38              1   \n",
       "\n",
       "         order_id  add_to_cart_order  reordered  \\\n",
       "0         1104373                 11          1   \n",
       "1         1774977                  4          1   \n",
       "2          652770                 10          0   \n",
       "3         1000035                  6          1   \n",
       "4         1679949                  9          0   \n",
       "...           ...                ...        ...   \n",
       "4545002   3034802                 10          0   \n",
       "4545003   3175081                  3          0   \n",
       "4545004    694132                  2          0   \n",
       "4545005   2843165                  5          0   \n",
       "4545006   2077154                 12          0   \n",
       "\n",
       "                             id_and_name  \n",
       "0         1 - chocolate sandwich cookies  \n",
       "1         1 - chocolate sandwich cookies  \n",
       "2         1 - chocolate sandwich cookies  \n",
       "3         1 - chocolate sandwich cookies  \n",
       "4         1 - chocolate sandwich cookies  \n",
       "...                                  ...  \n",
       "4545002  49694 - burrito- steak & cheese  \n",
       "4545003  49694 - burrito- steak & cheese  \n",
       "4545004  49694 - burrito- steak & cheese  \n",
       "4545005  49694 - burrito- steak & cheese  \n",
       "4545006  49694 - burrito- steak & cheese  \n",
       "\n",
       "[4545007 rows x 8 columns]"
      ]
     },
     "metadata": {},
     "output_type": "display_data"
    }
   ],
   "source": [
    "#created this merged table earlier\n",
    "display(order_data)"
   ]
  },
  {
   "cell_type": "code",
   "execution_count": 87,
   "id": "possible-change",
   "metadata": {
    "scrolled": false
   },
   "outputs": [
    {
     "data": {
      "text/plain": [
       "id_and_name\n",
       "24852 - banana                     55763\n",
       "13176 - bag of organic bananas     44450\n",
       "21137 - organic strawberries       28639\n",
       "21903 - organic baby spinach       26233\n",
       "47209 - organic hass avocado       23629\n",
       "47766 - organic avocado            18743\n",
       "27845 - organic whole milk         16251\n",
       "47626 - large lemon                15044\n",
       "27966 - organic raspberries        14748\n",
       "16797 - strawberries               13945\n",
       "26209 - limes                      13327\n",
       "22935 - organic yellow onion       11145\n",
       "24964 - organic garlic             10411\n",
       "45007 - organic zucchini           10076\n",
       "49683 - cucumber kirby              9538\n",
       "28204 - organic fuji apple          8989\n",
       "8277 - apple honeycrisp organic     8836\n",
       "39275 - organic blueberries         8799\n",
       "5876 - organic lemon                8412\n",
       "49235 - organic half & half         8389\n",
       "Name: count, dtype: int64"
      ]
     },
     "metadata": {},
     "output_type": "display_data"
    },
    {
     "data": {
      "image/png": "[encoded data removed]",
      "text/plain": [
       "<Figure size 1000x600 with 1 Axes>"
      ]
     },
     "metadata": {},
     "output_type": "display_data"
    }
   ],
   "source": [
    "#Filter out rows where reordered is 1\n",
    "reordered = order_data[order_data['reordered'] == 1]\n",
    "\n",
    "#counting number of time each product is reordered\n",
    "reordered_count = reordered['id_and_name'].value_counts()\n",
    "\n",
    "#Find the top 20\n",
    "top_20 = reordered_count[:20]\n",
    "plt.figure(figsize=(10,6))\n",
    "top_20.plot(kind='bar')\n",
    "plt.title('Top 20 Reordered')\n",
    "display(top_20)"
   ]
  },
  {
   "cell_type": "markdown",
   "id": "d5e63850",
   "metadata": {},
   "source": [
    "I believe the issue is fixed. I may have been incorrectly creating the new column in order_data incorrectly\n"
   ]
  },
  {
   "cell_type": "markdown",
   "id": "9d312b14",
   "metadata": {},
   "source": [
    "### [C3] For each product, what proportion of its orders are reorders?"
   ]
  },
  {
   "cell_type": "code",
   "execution_count": 88,
   "id": "8ae9f4b1",
   "metadata": {},
   "outputs": [
    {
     "data": {
      "text/html": [
       "<div>\n",
       "<style scoped>\n",
       "    .dataframe tbody tr th:only-of-type {\n",
       "        vertical-align: middle;\n",
       "    }\n",
       "\n",
       "    .dataframe tbody tr th {\n",
       "        vertical-align: top;\n",
       "    }\n",
       "\n",
       "    .dataframe thead th {\n",
       "        text-align: right;\n",
       "    }\n",
       "</style>\n",
       "<table border=\"1\" class=\"dataframe\">\n",
       "  <thead>\n",
       "    <tr style=\"text-align: right;\">\n",
       "      <th></th>\n",
       "      <th>product_id</th>\n",
       "      <th>product_name</th>\n",
       "      <th>aisle_id</th>\n",
       "      <th>department_id</th>\n",
       "      <th>order_id</th>\n",
       "      <th>add_to_cart_order</th>\n",
       "      <th>reordered</th>\n",
       "      <th>id_and_name</th>\n",
       "    </tr>\n",
       "  </thead>\n",
       "  <tbody>\n",
       "    <tr>\n",
       "      <th>0</th>\n",
       "      <td>1</td>\n",
       "      <td>chocolate sandwich cookies</td>\n",
       "      <td>61</td>\n",
       "      <td>19</td>\n",
       "      <td>1104373</td>\n",
       "      <td>11</td>\n",
       "      <td>1</td>\n",
       "      <td>1 - chocolate sandwich cookies</td>\n",
       "    </tr>\n",
       "    <tr>\n",
       "      <th>1</th>\n",
       "      <td>1</td>\n",
       "      <td>chocolate sandwich cookies</td>\n",
       "      <td>61</td>\n",
       "      <td>19</td>\n",
       "      <td>1774977</td>\n",
       "      <td>4</td>\n",
       "      <td>1</td>\n",
       "      <td>1 - chocolate sandwich cookies</td>\n",
       "    </tr>\n",
       "    <tr>\n",
       "      <th>2</th>\n",
       "      <td>1</td>\n",
       "      <td>chocolate sandwich cookies</td>\n",
       "      <td>61</td>\n",
       "      <td>19</td>\n",
       "      <td>652770</td>\n",
       "      <td>10</td>\n",
       "      <td>0</td>\n",
       "      <td>1 - chocolate sandwich cookies</td>\n",
       "    </tr>\n",
       "    <tr>\n",
       "      <th>3</th>\n",
       "      <td>1</td>\n",
       "      <td>chocolate sandwich cookies</td>\n",
       "      <td>61</td>\n",
       "      <td>19</td>\n",
       "      <td>1000035</td>\n",
       "      <td>6</td>\n",
       "      <td>1</td>\n",
       "      <td>1 - chocolate sandwich cookies</td>\n",
       "    </tr>\n",
       "    <tr>\n",
       "      <th>4</th>\n",
       "      <td>1</td>\n",
       "      <td>chocolate sandwich cookies</td>\n",
       "      <td>61</td>\n",
       "      <td>19</td>\n",
       "      <td>1679949</td>\n",
       "      <td>9</td>\n",
       "      <td>0</td>\n",
       "      <td>1 - chocolate sandwich cookies</td>\n",
       "    </tr>\n",
       "    <tr>\n",
       "      <th>5</th>\n",
       "      <td>1</td>\n",
       "      <td>chocolate sandwich cookies</td>\n",
       "      <td>61</td>\n",
       "      <td>19</td>\n",
       "      <td>3004237</td>\n",
       "      <td>6</td>\n",
       "      <td>1</td>\n",
       "      <td>1 - chocolate sandwich cookies</td>\n",
       "    </tr>\n",
       "    <tr>\n",
       "      <th>6</th>\n",
       "      <td>1</td>\n",
       "      <td>chocolate sandwich cookies</td>\n",
       "      <td>61</td>\n",
       "      <td>19</td>\n",
       "      <td>2811336</td>\n",
       "      <td>1</td>\n",
       "      <td>1</td>\n",
       "      <td>1 - chocolate sandwich cookies</td>\n",
       "    </tr>\n",
       "    <tr>\n",
       "      <th>7</th>\n",
       "      <td>1</td>\n",
       "      <td>chocolate sandwich cookies</td>\n",
       "      <td>61</td>\n",
       "      <td>19</td>\n",
       "      <td>2149117</td>\n",
       "      <td>1</td>\n",
       "      <td>1</td>\n",
       "      <td>1 - chocolate sandwich cookies</td>\n",
       "    </tr>\n",
       "    <tr>\n",
       "      <th>8</th>\n",
       "      <td>1</td>\n",
       "      <td>chocolate sandwich cookies</td>\n",
       "      <td>61</td>\n",
       "      <td>19</td>\n",
       "      <td>1715986</td>\n",
       "      <td>6</td>\n",
       "      <td>0</td>\n",
       "      <td>1 - chocolate sandwich cookies</td>\n",
       "    </tr>\n",
       "    <tr>\n",
       "      <th>9</th>\n",
       "      <td>1</td>\n",
       "      <td>chocolate sandwich cookies</td>\n",
       "      <td>61</td>\n",
       "      <td>19</td>\n",
       "      <td>1604797</td>\n",
       "      <td>6</td>\n",
       "      <td>1</td>\n",
       "      <td>1 - chocolate sandwich cookies</td>\n",
       "    </tr>\n",
       "  </tbody>\n",
       "</table>\n",
       "</div>"
      ],
      "text/plain": [
       "   product_id                product_name  aisle_id  department_id  order_id  \\\n",
       "0           1  chocolate sandwich cookies        61             19   1104373   \n",
       "1           1  chocolate sandwich cookies        61             19   1774977   \n",
       "2           1  chocolate sandwich cookies        61             19    652770   \n",
       "3           1  chocolate sandwich cookies        61             19   1000035   \n",
       "4           1  chocolate sandwich cookies        61             19   1679949   \n",
       "5           1  chocolate sandwich cookies        61             19   3004237   \n",
       "6           1  chocolate sandwich cookies        61             19   2811336   \n",
       "7           1  chocolate sandwich cookies        61             19   2149117   \n",
       "8           1  chocolate sandwich cookies        61             19   1715986   \n",
       "9           1  chocolate sandwich cookies        61             19   1604797   \n",
       "\n",
       "   add_to_cart_order  reordered                     id_and_name  \n",
       "0                 11          1  1 - chocolate sandwich cookies  \n",
       "1                  4          1  1 - chocolate sandwich cookies  \n",
       "2                 10          0  1 - chocolate sandwich cookies  \n",
       "3                  6          1  1 - chocolate sandwich cookies  \n",
       "4                  9          0  1 - chocolate sandwich cookies  \n",
       "5                  6          1  1 - chocolate sandwich cookies  \n",
       "6                  1          1  1 - chocolate sandwich cookies  \n",
       "7                  1          1  1 - chocolate sandwich cookies  \n",
       "8                  6          0  1 - chocolate sandwich cookies  \n",
       "9                  6          1  1 - chocolate sandwich cookies  "
      ]
     },
     "metadata": {},
     "output_type": "display_data"
    }
   ],
   "source": [
    "display(order_data.head(10))"
   ]
  },
  {
   "cell_type": "code",
   "execution_count": 89,
   "id": "103e7fe1",
   "metadata": {},
   "outputs": [
    {
     "data": {
      "text/html": [
       "<div>\n",
       "<style scoped>\n",
       "    .dataframe tbody tr th:only-of-type {\n",
       "        vertical-align: middle;\n",
       "    }\n",
       "\n",
       "    .dataframe tbody tr th {\n",
       "        vertical-align: top;\n",
       "    }\n",
       "\n",
       "    .dataframe thead th {\n",
       "        text-align: right;\n",
       "    }\n",
       "</style>\n",
       "<table border=\"1\" class=\"dataframe\">\n",
       "  <thead>\n",
       "    <tr style=\"text-align: right;\">\n",
       "      <th></th>\n",
       "      <th>sum</th>\n",
       "      <th>count</th>\n",
       "    </tr>\n",
       "    <tr>\n",
       "      <th>product_id</th>\n",
       "      <th></th>\n",
       "      <th></th>\n",
       "    </tr>\n",
       "  </thead>\n",
       "  <tbody>\n",
       "    <tr>\n",
       "      <th>1</th>\n",
       "      <td>158</td>\n",
       "      <td>280</td>\n",
       "    </tr>\n",
       "    <tr>\n",
       "      <th>2</th>\n",
       "      <td>0</td>\n",
       "      <td>11</td>\n",
       "    </tr>\n",
       "    <tr>\n",
       "      <th>3</th>\n",
       "      <td>31</td>\n",
       "      <td>42</td>\n",
       "    </tr>\n",
       "    <tr>\n",
       "      <th>4</th>\n",
       "      <td>25</td>\n",
       "      <td>49</td>\n",
       "    </tr>\n",
       "    <tr>\n",
       "      <th>7</th>\n",
       "      <td>1</td>\n",
       "      <td>2</td>\n",
       "    </tr>\n",
       "    <tr>\n",
       "      <th>...</th>\n",
       "      <td>...</td>\n",
       "      <td>...</td>\n",
       "    </tr>\n",
       "    <tr>\n",
       "      <th>49690</th>\n",
       "      <td>4</td>\n",
       "      <td>5</td>\n",
       "    </tr>\n",
       "    <tr>\n",
       "      <th>49691</th>\n",
       "      <td>31</td>\n",
       "      <td>72</td>\n",
       "    </tr>\n",
       "    <tr>\n",
       "      <th>49692</th>\n",
       "      <td>5</td>\n",
       "      <td>12</td>\n",
       "    </tr>\n",
       "    <tr>\n",
       "      <th>49693</th>\n",
       "      <td>11</td>\n",
       "      <td>25</td>\n",
       "    </tr>\n",
       "    <tr>\n",
       "      <th>49694</th>\n",
       "      <td>3</td>\n",
       "      <td>9</td>\n",
       "    </tr>\n",
       "  </tbody>\n",
       "</table>\n",
       "<p>45573 rows × 2 columns</p>\n",
       "</div>"
      ],
      "text/plain": [
       "            sum  count\n",
       "product_id            \n",
       "1           158    280\n",
       "2             0     11\n",
       "3            31     42\n",
       "4            25     49\n",
       "7             1      2\n",
       "...         ...    ...\n",
       "49690         4      5\n",
       "49691        31     72\n",
       "49692         5     12\n",
       "49693        11     25\n",
       "49694         3      9\n",
       "\n",
       "[45573 rows x 2 columns]"
      ]
     },
     "metadata": {},
     "output_type": "display_data"
    }
   ],
   "source": [
    "#grouping data by product id\n",
    "grouped = order_data.groupby('product_id')['reordered'].agg(['sum', 'count'])\n",
    "display(grouped)"
   ]
  },
  {
   "cell_type": "code",
   "execution_count": 90,
   "id": "social-individual",
   "metadata": {},
   "outputs": [
    {
     "data": {
      "text/html": [
       "<style type=\"text/css\">\n",
       "</style>\n",
       "<table id=\"T_2081b\">\n",
       "  <thead>\n",
       "    <tr>\n",
       "      <th class=\"blank level0\" >&nbsp;</th>\n",
       "      <th id=\"T_2081b_level0_col0\" class=\"col_heading level0 col0\" >product_id</th>\n",
       "      <th id=\"T_2081b_level0_col1\" class=\"col_heading level0 col1\" >sum</th>\n",
       "      <th id=\"T_2081b_level0_col2\" class=\"col_heading level0 col2\" >count</th>\n",
       "      <th id=\"T_2081b_level0_col3\" class=\"col_heading level0 col3\" >product_name</th>\n",
       "      <th id=\"T_2081b_level0_col4\" class=\"col_heading level0 col4\" >id_and_name</th>\n",
       "      <th id=\"T_2081b_level0_col5\" class=\"col_heading level0 col5\" >reorder_proportion</th>\n",
       "    </tr>\n",
       "  </thead>\n",
       "  <tbody>\n",
       "    <tr>\n",
       "      <th id=\"T_2081b_level0_row0\" class=\"row_heading level0 row0\" >0</th>\n",
       "      <td id=\"T_2081b_row0_col0\" class=\"data row0 col0\" >1</td>\n",
       "      <td id=\"T_2081b_row0_col1\" class=\"data row0 col1\" >158</td>\n",
       "      <td id=\"T_2081b_row0_col2\" class=\"data row0 col2\" >280</td>\n",
       "      <td id=\"T_2081b_row0_col3\" class=\"data row0 col3\" >chocolate sandwich cookies</td>\n",
       "      <td id=\"T_2081b_row0_col4\" class=\"data row0 col4\" >1 - chocolate sandwich cookies</td>\n",
       "      <td id=\"T_2081b_row0_col5\" class=\"data row0 col5\" >56.4%</td>\n",
       "    </tr>\n",
       "    <tr>\n",
       "      <th id=\"T_2081b_level0_row1\" class=\"row_heading level0 row1\" >1</th>\n",
       "      <td id=\"T_2081b_row1_col0\" class=\"data row1 col0\" >2</td>\n",
       "      <td id=\"T_2081b_row1_col1\" class=\"data row1 col1\" >0</td>\n",
       "      <td id=\"T_2081b_row1_col2\" class=\"data row1 col2\" >11</td>\n",
       "      <td id=\"T_2081b_row1_col3\" class=\"data row1 col3\" >all-seasons salt</td>\n",
       "      <td id=\"T_2081b_row1_col4\" class=\"data row1 col4\" >2 - all-seasons salt</td>\n",
       "      <td id=\"T_2081b_row1_col5\" class=\"data row1 col5\" >0.0%</td>\n",
       "    </tr>\n",
       "    <tr>\n",
       "      <th id=\"T_2081b_level0_row2\" class=\"row_heading level0 row2\" >2</th>\n",
       "      <td id=\"T_2081b_row2_col0\" class=\"data row2 col0\" >3</td>\n",
       "      <td id=\"T_2081b_row2_col1\" class=\"data row2 col1\" >31</td>\n",
       "      <td id=\"T_2081b_row2_col2\" class=\"data row2 col2\" >42</td>\n",
       "      <td id=\"T_2081b_row2_col3\" class=\"data row2 col3\" >robust golden unsweetened oolong tea</td>\n",
       "      <td id=\"T_2081b_row2_col4\" class=\"data row2 col4\" >3 - robust golden unsweetened oolong tea</td>\n",
       "      <td id=\"T_2081b_row2_col5\" class=\"data row2 col5\" >73.8%</td>\n",
       "    </tr>\n",
       "    <tr>\n",
       "      <th id=\"T_2081b_level0_row3\" class=\"row_heading level0 row3\" >3</th>\n",
       "      <td id=\"T_2081b_row3_col0\" class=\"data row3 col0\" >4</td>\n",
       "      <td id=\"T_2081b_row3_col1\" class=\"data row3 col1\" >25</td>\n",
       "      <td id=\"T_2081b_row3_col2\" class=\"data row3 col2\" >49</td>\n",
       "      <td id=\"T_2081b_row3_col3\" class=\"data row3 col3\" >smart ones classic favorites mini rigatoni with vodka cream sauce</td>\n",
       "      <td id=\"T_2081b_row3_col4\" class=\"data row3 col4\" >4 - smart ones classic favorites mini rigatoni with vodka cream sauce</td>\n",
       "      <td id=\"T_2081b_row3_col5\" class=\"data row3 col5\" >51.0%</td>\n",
       "    </tr>\n",
       "    <tr>\n",
       "      <th id=\"T_2081b_level0_row4\" class=\"row_heading level0 row4\" >4</th>\n",
       "      <td id=\"T_2081b_row4_col0\" class=\"data row4 col0\" >7</td>\n",
       "      <td id=\"T_2081b_row4_col1\" class=\"data row4 col1\" >1</td>\n",
       "      <td id=\"T_2081b_row4_col2\" class=\"data row4 col2\" >2</td>\n",
       "      <td id=\"T_2081b_row4_col3\" class=\"data row4 col3\" >pure coconut water with orange</td>\n",
       "      <td id=\"T_2081b_row4_col4\" class=\"data row4 col4\" >7 - pure coconut water with orange</td>\n",
       "      <td id=\"T_2081b_row4_col5\" class=\"data row4 col5\" >50.0%</td>\n",
       "    </tr>\n",
       "    <tr>\n",
       "      <th id=\"T_2081b_level0_row5\" class=\"row_heading level0 row5\" >5</th>\n",
       "      <td id=\"T_2081b_row5_col0\" class=\"data row5 col0\" >8</td>\n",
       "      <td id=\"T_2081b_row5_col1\" class=\"data row5 col1\" >6</td>\n",
       "      <td id=\"T_2081b_row5_col2\" class=\"data row5 col2\" >19</td>\n",
       "      <td id=\"T_2081b_row5_col3\" class=\"data row5 col3\" >cut russet potatoes steam n' mash</td>\n",
       "      <td id=\"T_2081b_row5_col4\" class=\"data row5 col4\" >8 - cut russet potatoes steam n' mash</td>\n",
       "      <td id=\"T_2081b_row5_col5\" class=\"data row5 col5\" >31.6%</td>\n",
       "    </tr>\n",
       "    <tr>\n",
       "      <th id=\"T_2081b_level0_row6\" class=\"row_heading level0 row6\" >6</th>\n",
       "      <td id=\"T_2081b_row6_col0\" class=\"data row6 col0\" >9</td>\n",
       "      <td id=\"T_2081b_row6_col1\" class=\"data row6 col1\" >16</td>\n",
       "      <td id=\"T_2081b_row6_col2\" class=\"data row6 col2\" >21</td>\n",
       "      <td id=\"T_2081b_row6_col3\" class=\"data row6 col3\" >light strawberry blueberry yogurt</td>\n",
       "      <td id=\"T_2081b_row6_col4\" class=\"data row6 col4\" >9 - light strawberry blueberry yogurt</td>\n",
       "      <td id=\"T_2081b_row6_col5\" class=\"data row6 col5\" >76.2%</td>\n",
       "    </tr>\n",
       "    <tr>\n",
       "      <th id=\"T_2081b_level0_row7\" class=\"row_heading level0 row7\" >7</th>\n",
       "      <td id=\"T_2081b_row7_col0\" class=\"data row7 col0\" >10</td>\n",
       "      <td id=\"T_2081b_row7_col1\" class=\"data row7 col1\" >151</td>\n",
       "      <td id=\"T_2081b_row7_col2\" class=\"data row7 col2\" >337</td>\n",
       "      <td id=\"T_2081b_row7_col3\" class=\"data row7 col3\" >sparkling orange juice & prickly pear beverage</td>\n",
       "      <td id=\"T_2081b_row7_col4\" class=\"data row7 col4\" >10 - sparkling orange juice & prickly pear beverage</td>\n",
       "      <td id=\"T_2081b_row7_col5\" class=\"data row7 col5\" >44.8%</td>\n",
       "    </tr>\n",
       "    <tr>\n",
       "      <th id=\"T_2081b_level0_row8\" class=\"row_heading level0 row8\" >8</th>\n",
       "      <td id=\"T_2081b_row8_col0\" class=\"data row8 col0\" >11</td>\n",
       "      <td id=\"T_2081b_row8_col1\" class=\"data row8 col1\" >10</td>\n",
       "      <td id=\"T_2081b_row8_col2\" class=\"data row8 col2\" >16</td>\n",
       "      <td id=\"T_2081b_row8_col3\" class=\"data row8 col3\" >peach mango juice</td>\n",
       "      <td id=\"T_2081b_row8_col4\" class=\"data row8 col4\" >11 - peach mango juice</td>\n",
       "      <td id=\"T_2081b_row8_col5\" class=\"data row8 col5\" >62.5%</td>\n",
       "    </tr>\n",
       "    <tr>\n",
       "      <th id=\"T_2081b_level0_row9\" class=\"row_heading level0 row9\" >9</th>\n",
       "      <td id=\"T_2081b_row9_col0\" class=\"data row9 col0\" >12</td>\n",
       "      <td id=\"T_2081b_row9_col1\" class=\"data row9 col1\" >16</td>\n",
       "      <td id=\"T_2081b_row9_col2\" class=\"data row9 col2\" >41</td>\n",
       "      <td id=\"T_2081b_row9_col3\" class=\"data row9 col3\" >chocolate fudge layer cake</td>\n",
       "      <td id=\"T_2081b_row9_col4\" class=\"data row9 col4\" >12 - chocolate fudge layer cake</td>\n",
       "      <td id=\"T_2081b_row9_col5\" class=\"data row9 col5\" >39.0%</td>\n",
       "    </tr>\n",
       "    <tr>\n",
       "      <th id=\"T_2081b_level0_row10\" class=\"row_heading level0 row10\" >10</th>\n",
       "      <td id=\"T_2081b_row10_col0\" class=\"data row10 col0\" >13</td>\n",
       "      <td id=\"T_2081b_row10_col1\" class=\"data row10 col1\" >1</td>\n",
       "      <td id=\"T_2081b_row10_col2\" class=\"data row10 col2\" >2</td>\n",
       "      <td id=\"T_2081b_row10_col3\" class=\"data row10 col3\" >saline nasal mist</td>\n",
       "      <td id=\"T_2081b_row10_col4\" class=\"data row10 col4\" >13 - saline nasal mist</td>\n",
       "      <td id=\"T_2081b_row10_col5\" class=\"data row10 col5\" >50.0%</td>\n",
       "    </tr>\n",
       "    <tr>\n",
       "      <th id=\"T_2081b_level0_row11\" class=\"row_heading level0 row11\" >11</th>\n",
       "      <td id=\"T_2081b_row11_col0\" class=\"data row11 col0\" >14</td>\n",
       "      <td id=\"T_2081b_row11_col1\" class=\"data row11 col1\" >0</td>\n",
       "      <td id=\"T_2081b_row11_col2\" class=\"data row11 col2\" >3</td>\n",
       "      <td id=\"T_2081b_row11_col3\" class=\"data row11 col3\" >fresh scent dishwasher cleaner</td>\n",
       "      <td id=\"T_2081b_row11_col4\" class=\"data row11 col4\" >14 - fresh scent dishwasher cleaner</td>\n",
       "      <td id=\"T_2081b_row11_col5\" class=\"data row11 col5\" >0.0%</td>\n",
       "    </tr>\n",
       "    <tr>\n",
       "      <th id=\"T_2081b_level0_row12\" class=\"row_heading level0 row12\" >12</th>\n",
       "      <td id=\"T_2081b_row12_col0\" class=\"data row12 col0\" >17</td>\n",
       "      <td id=\"T_2081b_row12_col1\" class=\"data row12 col1\" >0</td>\n",
       "      <td id=\"T_2081b_row12_col2\" class=\"data row12 col2\" >1</td>\n",
       "      <td id=\"T_2081b_row12_col3\" class=\"data row12 col3\" >rendered duck fat</td>\n",
       "      <td id=\"T_2081b_row12_col4\" class=\"data row12 col4\" >17 - rendered duck fat</td>\n",
       "      <td id=\"T_2081b_row12_col5\" class=\"data row12 col5\" >0.0%</td>\n",
       "    </tr>\n",
       "    <tr>\n",
       "      <th id=\"T_2081b_level0_row13\" class=\"row_heading level0 row13\" >13</th>\n",
       "      <td id=\"T_2081b_row13_col0\" class=\"data row13 col0\" >18</td>\n",
       "      <td id=\"T_2081b_row13_col1\" class=\"data row13 col1\" >8</td>\n",
       "      <td id=\"T_2081b_row13_col2\" class=\"data row13 col2\" >15</td>\n",
       "      <td id=\"T_2081b_row13_col3\" class=\"data row13 col3\" >pizza for one suprema  frozen pizza</td>\n",
       "      <td id=\"T_2081b_row13_col4\" class=\"data row13 col4\" >18 - pizza for one suprema  frozen pizza</td>\n",
       "      <td id=\"T_2081b_row13_col5\" class=\"data row13 col5\" >53.3%</td>\n",
       "    </tr>\n",
       "    <tr>\n",
       "      <th id=\"T_2081b_level0_row14\" class=\"row_heading level0 row14\" >14</th>\n",
       "      <td id=\"T_2081b_row14_col0\" class=\"data row14 col0\" >19</td>\n",
       "      <td id=\"T_2081b_row14_col1\" class=\"data row14 col1\" >0</td>\n",
       "      <td id=\"T_2081b_row14_col2\" class=\"data row14 col2\" >1</td>\n",
       "      <td id=\"T_2081b_row14_col3\" class=\"data row14 col3\" >gluten free quinoa three cheese & mushroom blend</td>\n",
       "      <td id=\"T_2081b_row14_col4\" class=\"data row14 col4\" >19 - gluten free quinoa three cheese & mushroom blend</td>\n",
       "      <td id=\"T_2081b_row14_col5\" class=\"data row14 col5\" >0.0%</td>\n",
       "    </tr>\n",
       "    <tr>\n",
       "      <th id=\"T_2081b_level0_row15\" class=\"row_heading level0 row15\" >15</th>\n",
       "      <td id=\"T_2081b_row15_col0\" class=\"data row15 col0\" >21</td>\n",
       "      <td id=\"T_2081b_row15_col1\" class=\"data row15 col1\" >0</td>\n",
       "      <td id=\"T_2081b_row15_col2\" class=\"data row15 col2\" >1</td>\n",
       "      <td id=\"T_2081b_row15_col3\" class=\"data row15 col3\" >small & medium dental dog treats</td>\n",
       "      <td id=\"T_2081b_row15_col4\" class=\"data row15 col4\" >21 - small & medium dental dog treats</td>\n",
       "      <td id=\"T_2081b_row15_col5\" class=\"data row15 col5\" >0.0%</td>\n",
       "    </tr>\n",
       "    <tr>\n",
       "      <th id=\"T_2081b_level0_row16\" class=\"row_heading level0 row16\" >16</th>\n",
       "      <td id=\"T_2081b_row16_col0\" class=\"data row16 col0\" >22</td>\n",
       "      <td id=\"T_2081b_row16_col1\" class=\"data row16 col1\" >3</td>\n",
       "      <td id=\"T_2081b_row16_col2\" class=\"data row16 col2\" >6</td>\n",
       "      <td id=\"T_2081b_row16_col3\" class=\"data row16 col3\" >fresh breath oral rinse mild mint</td>\n",
       "      <td id=\"T_2081b_row16_col4\" class=\"data row16 col4\" >22 - fresh breath oral rinse mild mint</td>\n",
       "      <td id=\"T_2081b_row16_col5\" class=\"data row16 col5\" >50.0%</td>\n",
       "    </tr>\n",
       "    <tr>\n",
       "      <th id=\"T_2081b_level0_row17\" class=\"row_heading level0 row17\" >17</th>\n",
       "      <td id=\"T_2081b_row17_col0\" class=\"data row17 col0\" >23</td>\n",
       "      <td id=\"T_2081b_row17_col1\" class=\"data row17 col1\" >56</td>\n",
       "      <td id=\"T_2081b_row17_col2\" class=\"data row17 col2\" >147</td>\n",
       "      <td id=\"T_2081b_row17_col3\" class=\"data row17 col3\" >organic turkey burgers</td>\n",
       "      <td id=\"T_2081b_row17_col4\" class=\"data row17 col4\" >23 - organic turkey burgers</td>\n",
       "      <td id=\"T_2081b_row17_col5\" class=\"data row17 col5\" >38.1%</td>\n",
       "    </tr>\n",
       "    <tr>\n",
       "      <th id=\"T_2081b_level0_row18\" class=\"row_heading level0 row18\" >18</th>\n",
       "      <td id=\"T_2081b_row18_col0\" class=\"data row18 col0\" >24</td>\n",
       "      <td id=\"T_2081b_row18_col1\" class=\"data row18 col1\" >0</td>\n",
       "      <td id=\"T_2081b_row18_col2\" class=\"data row18 col2\" >2</td>\n",
       "      <td id=\"T_2081b_row18_col3\" class=\"data row18 col3\" >tri-vi-sol® vitamins a-c-and d supplement drops for infants</td>\n",
       "      <td id=\"T_2081b_row18_col4\" class=\"data row18 col4\" >24 - tri-vi-sol® vitamins a-c-and d supplement drops for infants</td>\n",
       "      <td id=\"T_2081b_row18_col5\" class=\"data row18 col5\" >0.0%</td>\n",
       "    </tr>\n",
       "    <tr>\n",
       "      <th id=\"T_2081b_level0_row19\" class=\"row_heading level0 row19\" >19</th>\n",
       "      <td id=\"T_2081b_row19_col0\" class=\"data row19 col0\" >25</td>\n",
       "      <td id=\"T_2081b_row19_col1\" class=\"data row19 col1\" >199</td>\n",
       "      <td id=\"T_2081b_row19_col2\" class=\"data row19 col2\" >295</td>\n",
       "      <td id=\"T_2081b_row19_col3\" class=\"data row19 col3\" >salted caramel lean protein & fiber bar</td>\n",
       "      <td id=\"T_2081b_row19_col4\" class=\"data row19 col4\" >25 - salted caramel lean protein & fiber bar</td>\n",
       "      <td id=\"T_2081b_row19_col5\" class=\"data row19 col5\" >67.5%</td>\n",
       "    </tr>\n",
       "  </tbody>\n",
       "</table>\n"
      ],
      "text/plain": [
       "<pandas.io.formats.style.Styler at 0x211249f0080>"
      ]
     },
     "metadata": {},
     "output_type": "display_data"
    }
   ],
   "source": [
    "#resetting index of the grouped dataframe\n",
    "grouped.reset_index()\n",
    "\n",
    "#dropping duplicate in the original dataframe for a df with unique pairs\n",
    "unique_prods = order_data[['product_id', 'product_name','id_and_name']].drop_duplicates()\n",
    "#merging the two dataframes on the 'product_id' column\n",
    "merged = pd.merge(grouped, unique_prods, on='product_id')\n",
    "merged['reorder_proportion'] = merged['sum']/merged['count']\n",
    "\n",
    "display(merged.head(20).style.format({'reorder_proportion':'{:.1%}'}))"
   ]
  },
  {
   "cell_type": "markdown",
   "id": "subject-boxing",
   "metadata": {},
   "source": [
    "### [C4] For each customer, what proportion of their products ordered are reorders?"
   ]
  },
  {
   "cell_type": "code",
   "execution_count": 91,
   "id": "medical-couple",
   "metadata": {
    "scrolled": false
   },
   "outputs": [
    {
     "data": {
      "text/html": [
       "<div>\n",
       "<style scoped>\n",
       "    .dataframe tbody tr th:only-of-type {\n",
       "        vertical-align: middle;\n",
       "    }\n",
       "\n",
       "    .dataframe tbody tr th {\n",
       "        vertical-align: top;\n",
       "    }\n",
       "\n",
       "    .dataframe thead th {\n",
       "        text-align: right;\n",
       "    }\n",
       "</style>\n",
       "<table border=\"1\" class=\"dataframe\">\n",
       "  <thead>\n",
       "    <tr style=\"text-align: right;\">\n",
       "      <th></th>\n",
       "      <th>order_id</th>\n",
       "      <th>user_id</th>\n",
       "      <th>order_number</th>\n",
       "      <th>order_dow</th>\n",
       "      <th>order_hour_of_day</th>\n",
       "      <th>days_since_prior_order</th>\n",
       "    </tr>\n",
       "  </thead>\n",
       "  <tbody>\n",
       "    <tr>\n",
       "      <th>0</th>\n",
       "      <td>1515936</td>\n",
       "      <td>183418</td>\n",
       "      <td>11</td>\n",
       "      <td>6</td>\n",
       "      <td>13</td>\n",
       "      <td>30.0</td>\n",
       "    </tr>\n",
       "    <tr>\n",
       "      <th>1</th>\n",
       "      <td>1690866</td>\n",
       "      <td>163593</td>\n",
       "      <td>5</td>\n",
       "      <td>5</td>\n",
       "      <td>12</td>\n",
       "      <td>9.0</td>\n",
       "    </tr>\n",
       "    <tr>\n",
       "      <th>2</th>\n",
       "      <td>1454967</td>\n",
       "      <td>39980</td>\n",
       "      <td>4</td>\n",
       "      <td>5</td>\n",
       "      <td>19</td>\n",
       "      <td>2.0</td>\n",
       "    </tr>\n",
       "    <tr>\n",
       "      <th>3</th>\n",
       "      <td>1768857</td>\n",
       "      <td>82516</td>\n",
       "      <td>56</td>\n",
       "      <td>0</td>\n",
       "      <td>20</td>\n",
       "      <td>10.0</td>\n",
       "    </tr>\n",
       "    <tr>\n",
       "      <th>4</th>\n",
       "      <td>3007858</td>\n",
       "      <td>196724</td>\n",
       "      <td>2</td>\n",
       "      <td>4</td>\n",
       "      <td>12</td>\n",
       "      <td>17.0</td>\n",
       "    </tr>\n",
       "    <tr>\n",
       "      <th>...</th>\n",
       "      <td>...</td>\n",
       "      <td>...</td>\n",
       "      <td>...</td>\n",
       "      <td>...</td>\n",
       "      <td>...</td>\n",
       "      <td>...</td>\n",
       "    </tr>\n",
       "    <tr>\n",
       "      <th>478962</th>\n",
       "      <td>3210681</td>\n",
       "      <td>5617</td>\n",
       "      <td>5</td>\n",
       "      <td>1</td>\n",
       "      <td>14</td>\n",
       "      <td>7.0</td>\n",
       "    </tr>\n",
       "    <tr>\n",
       "      <th>478963</th>\n",
       "      <td>3270802</td>\n",
       "      <td>112087</td>\n",
       "      <td>2</td>\n",
       "      <td>3</td>\n",
       "      <td>13</td>\n",
       "      <td>6.0</td>\n",
       "    </tr>\n",
       "    <tr>\n",
       "      <th>478964</th>\n",
       "      <td>885349</td>\n",
       "      <td>82944</td>\n",
       "      <td>16</td>\n",
       "      <td>2</td>\n",
       "      <td>11</td>\n",
       "      <td>6.0</td>\n",
       "    </tr>\n",
       "    <tr>\n",
       "      <th>478965</th>\n",
       "      <td>216274</td>\n",
       "      <td>4391</td>\n",
       "      <td>3</td>\n",
       "      <td>3</td>\n",
       "      <td>8</td>\n",
       "      <td>8.0</td>\n",
       "    </tr>\n",
       "    <tr>\n",
       "      <th>478966</th>\n",
       "      <td>2071924</td>\n",
       "      <td>1730</td>\n",
       "      <td>18</td>\n",
       "      <td>1</td>\n",
       "      <td>14</td>\n",
       "      <td>15.0</td>\n",
       "    </tr>\n",
       "  </tbody>\n",
       "</table>\n",
       "<p>478952 rows × 6 columns</p>\n",
       "</div>"
      ],
      "text/plain": [
       "        order_id  user_id  order_number  order_dow  order_hour_of_day  \\\n",
       "0        1515936   183418            11          6                 13   \n",
       "1        1690866   163593             5          5                 12   \n",
       "2        1454967    39980             4          5                 19   \n",
       "3        1768857    82516            56          0                 20   \n",
       "4        3007858   196724             2          4                 12   \n",
       "...          ...      ...           ...        ...                ...   \n",
       "478962   3210681     5617             5          1                 14   \n",
       "478963   3270802   112087             2          3                 13   \n",
       "478964    885349    82944            16          2                 11   \n",
       "478965    216274     4391             3          3                  8   \n",
       "478966   2071924     1730            18          1                 14   \n",
       "\n",
       "        days_since_prior_order  \n",
       "0                         30.0  \n",
       "1                          9.0  \n",
       "2                          2.0  \n",
       "3                         10.0  \n",
       "4                         17.0  \n",
       "...                        ...  \n",
       "478962                     7.0  \n",
       "478963                     6.0  \n",
       "478964                     6.0  \n",
       "478965                     8.0  \n",
       "478966                    15.0  \n",
       "\n",
       "[478952 rows x 6 columns]"
      ]
     },
     "metadata": {},
     "output_type": "display_data"
    },
    {
     "data": {
      "text/html": [
       "<div>\n",
       "<style scoped>\n",
       "    .dataframe tbody tr th:only-of-type {\n",
       "        vertical-align: middle;\n",
       "    }\n",
       "\n",
       "    .dataframe tbody tr th {\n",
       "        vertical-align: top;\n",
       "    }\n",
       "\n",
       "    .dataframe thead th {\n",
       "        text-align: right;\n",
       "    }\n",
       "</style>\n",
       "<table border=\"1\" class=\"dataframe\">\n",
       "  <thead>\n",
       "    <tr style=\"text-align: right;\">\n",
       "      <th></th>\n",
       "      <th>product_id</th>\n",
       "      <th>product_name</th>\n",
       "      <th>aisle_id</th>\n",
       "      <th>department_id</th>\n",
       "      <th>order_id</th>\n",
       "      <th>add_to_cart_order</th>\n",
       "      <th>reordered</th>\n",
       "      <th>id_and_name</th>\n",
       "    </tr>\n",
       "  </thead>\n",
       "  <tbody>\n",
       "    <tr>\n",
       "      <th>0</th>\n",
       "      <td>1</td>\n",
       "      <td>chocolate sandwich cookies</td>\n",
       "      <td>61</td>\n",
       "      <td>19</td>\n",
       "      <td>1104373</td>\n",
       "      <td>11</td>\n",
       "      <td>1</td>\n",
       "      <td>1 - chocolate sandwich cookies</td>\n",
       "    </tr>\n",
       "    <tr>\n",
       "      <th>1</th>\n",
       "      <td>1</td>\n",
       "      <td>chocolate sandwich cookies</td>\n",
       "      <td>61</td>\n",
       "      <td>19</td>\n",
       "      <td>1774977</td>\n",
       "      <td>4</td>\n",
       "      <td>1</td>\n",
       "      <td>1 - chocolate sandwich cookies</td>\n",
       "    </tr>\n",
       "    <tr>\n",
       "      <th>2</th>\n",
       "      <td>1</td>\n",
       "      <td>chocolate sandwich cookies</td>\n",
       "      <td>61</td>\n",
       "      <td>19</td>\n",
       "      <td>652770</td>\n",
       "      <td>10</td>\n",
       "      <td>0</td>\n",
       "      <td>1 - chocolate sandwich cookies</td>\n",
       "    </tr>\n",
       "    <tr>\n",
       "      <th>3</th>\n",
       "      <td>1</td>\n",
       "      <td>chocolate sandwich cookies</td>\n",
       "      <td>61</td>\n",
       "      <td>19</td>\n",
       "      <td>1000035</td>\n",
       "      <td>6</td>\n",
       "      <td>1</td>\n",
       "      <td>1 - chocolate sandwich cookies</td>\n",
       "    </tr>\n",
       "    <tr>\n",
       "      <th>4</th>\n",
       "      <td>1</td>\n",
       "      <td>chocolate sandwich cookies</td>\n",
       "      <td>61</td>\n",
       "      <td>19</td>\n",
       "      <td>1679949</td>\n",
       "      <td>9</td>\n",
       "      <td>0</td>\n",
       "      <td>1 - chocolate sandwich cookies</td>\n",
       "    </tr>\n",
       "    <tr>\n",
       "      <th>...</th>\n",
       "      <td>...</td>\n",
       "      <td>...</td>\n",
       "      <td>...</td>\n",
       "      <td>...</td>\n",
       "      <td>...</td>\n",
       "      <td>...</td>\n",
       "      <td>...</td>\n",
       "      <td>...</td>\n",
       "    </tr>\n",
       "    <tr>\n",
       "      <th>4545002</th>\n",
       "      <td>49694</td>\n",
       "      <td>burrito- steak &amp; cheese</td>\n",
       "      <td>38</td>\n",
       "      <td>1</td>\n",
       "      <td>3034802</td>\n",
       "      <td>10</td>\n",
       "      <td>0</td>\n",
       "      <td>49694 - burrito- steak &amp; cheese</td>\n",
       "    </tr>\n",
       "    <tr>\n",
       "      <th>4545003</th>\n",
       "      <td>49694</td>\n",
       "      <td>burrito- steak &amp; cheese</td>\n",
       "      <td>38</td>\n",
       "      <td>1</td>\n",
       "      <td>3175081</td>\n",
       "      <td>3</td>\n",
       "      <td>0</td>\n",
       "      <td>49694 - burrito- steak &amp; cheese</td>\n",
       "    </tr>\n",
       "    <tr>\n",
       "      <th>4545004</th>\n",
       "      <td>49694</td>\n",
       "      <td>burrito- steak &amp; cheese</td>\n",
       "      <td>38</td>\n",
       "      <td>1</td>\n",
       "      <td>694132</td>\n",
       "      <td>2</td>\n",
       "      <td>0</td>\n",
       "      <td>49694 - burrito- steak &amp; cheese</td>\n",
       "    </tr>\n",
       "    <tr>\n",
       "      <th>4545005</th>\n",
       "      <td>49694</td>\n",
       "      <td>burrito- steak &amp; cheese</td>\n",
       "      <td>38</td>\n",
       "      <td>1</td>\n",
       "      <td>2843165</td>\n",
       "      <td>5</td>\n",
       "      <td>0</td>\n",
       "      <td>49694 - burrito- steak &amp; cheese</td>\n",
       "    </tr>\n",
       "    <tr>\n",
       "      <th>4545006</th>\n",
       "      <td>49694</td>\n",
       "      <td>burrito- steak &amp; cheese</td>\n",
       "      <td>38</td>\n",
       "      <td>1</td>\n",
       "      <td>2077154</td>\n",
       "      <td>12</td>\n",
       "      <td>0</td>\n",
       "      <td>49694 - burrito- steak &amp; cheese</td>\n",
       "    </tr>\n",
       "  </tbody>\n",
       "</table>\n",
       "<p>4545007 rows × 8 columns</p>\n",
       "</div>"
      ],
      "text/plain": [
       "         product_id                product_name  aisle_id  department_id  \\\n",
       "0                 1  chocolate sandwich cookies        61             19   \n",
       "1                 1  chocolate sandwich cookies        61             19   \n",
       "2                 1  chocolate sandwich cookies        61             19   \n",
       "3                 1  chocolate sandwich cookies        61             19   \n",
       "4                 1  chocolate sandwich cookies        61             19   \n",
       "...             ...                         ...       ...            ...   \n",
       "4545002       49694     burrito- steak & cheese        38              1   \n",
       "4545003       49694     burrito- steak & cheese        38              1   \n",
       "4545004       49694     burrito- steak & cheese        38              1   \n",
       "4545005       49694     burrito- steak & cheese        38              1   \n",
       "4545006       49694     burrito- steak & cheese        38              1   \n",
       "\n",
       "         order_id  add_to_cart_order  reordered  \\\n",
       "0         1104373                 11          1   \n",
       "1         1774977                  4          1   \n",
       "2          652770                 10          0   \n",
       "3         1000035                  6          1   \n",
       "4         1679949                  9          0   \n",
       "...           ...                ...        ...   \n",
       "4545002   3034802                 10          0   \n",
       "4545003   3175081                  3          0   \n",
       "4545004    694132                  2          0   \n",
       "4545005   2843165                  5          0   \n",
       "4545006   2077154                 12          0   \n",
       "\n",
       "                             id_and_name  \n",
       "0         1 - chocolate sandwich cookies  \n",
       "1         1 - chocolate sandwich cookies  \n",
       "2         1 - chocolate sandwich cookies  \n",
       "3         1 - chocolate sandwich cookies  \n",
       "4         1 - chocolate sandwich cookies  \n",
       "...                                  ...  \n",
       "4545002  49694 - burrito- steak & cheese  \n",
       "4545003  49694 - burrito- steak & cheese  \n",
       "4545004  49694 - burrito- steak & cheese  \n",
       "4545005  49694 - burrito- steak & cheese  \n",
       "4545006  49694 - burrito- steak & cheese  \n",
       "\n",
       "[4545007 rows x 8 columns]"
      ]
     },
     "metadata": {},
     "output_type": "display_data"
    }
   ],
   "source": [
    "#These are the two dataframes I'll be using to answer this\n",
    "\n",
    "display(orders)\n",
    "display(order_data)"
   ]
  },
  {
   "cell_type": "code",
   "execution_count": 93,
   "id": "c0c7747a",
   "metadata": {},
   "outputs": [
    {
     "data": {
      "text/html": [
       "<style type=\"text/css\">\n",
       "</style>\n",
       "<table id=\"T_d6cd8\">\n",
       "  <thead>\n",
       "    <tr>\n",
       "      <th class=\"blank level0\" >&nbsp;</th>\n",
       "      <th id=\"T_d6cd8_level0_col0\" class=\"col_heading level0 col0\" >reordered</th>\n",
       "    </tr>\n",
       "    <tr>\n",
       "      <th class=\"index_name level0\" >user_id</th>\n",
       "      <th class=\"blank col0\" >&nbsp;</th>\n",
       "    </tr>\n",
       "  </thead>\n",
       "  <tbody>\n",
       "    <tr>\n",
       "      <th id=\"T_d6cd8_level0_row0\" class=\"row_heading level0 row0\" >2</th>\n",
       "      <td id=\"T_d6cd8_row0_col0\" class=\"data row0 col0\" >3.8%</td>\n",
       "    </tr>\n",
       "    <tr>\n",
       "      <th id=\"T_d6cd8_level0_row1\" class=\"row_heading level0 row1\" >4</th>\n",
       "      <td id=\"T_d6cd8_row1_col0\" class=\"data row1 col0\" >0.0%</td>\n",
       "    </tr>\n",
       "    <tr>\n",
       "      <th id=\"T_d6cd8_level0_row2\" class=\"row_heading level0 row2\" >5</th>\n",
       "      <td id=\"T_d6cd8_row2_col0\" class=\"data row2 col0\" >66.7%</td>\n",
       "    </tr>\n",
       "    <tr>\n",
       "      <th id=\"T_d6cd8_level0_row3\" class=\"row_heading level0 row3\" >6</th>\n",
       "      <td id=\"T_d6cd8_row3_col0\" class=\"data row3 col0\" >0.0%</td>\n",
       "    </tr>\n",
       "    <tr>\n",
       "      <th id=\"T_d6cd8_level0_row4\" class=\"row_heading level0 row4\" >7</th>\n",
       "      <td id=\"T_d6cd8_row4_col0\" class=\"data row4 col0\" >92.9%</td>\n",
       "    </tr>\n",
       "    <tr>\n",
       "      <th id=\"T_d6cd8_level0_row5\" class=\"row_heading level0 row5\" >11</th>\n",
       "      <td id=\"T_d6cd8_row5_col0\" class=\"data row5 col0\" >20.0%</td>\n",
       "    </tr>\n",
       "    <tr>\n",
       "      <th id=\"T_d6cd8_level0_row6\" class=\"row_heading level0 row6\" >12</th>\n",
       "      <td id=\"T_d6cd8_row6_col0\" class=\"data row6 col0\" >25.0%</td>\n",
       "    </tr>\n",
       "    <tr>\n",
       "      <th id=\"T_d6cd8_level0_row7\" class=\"row_heading level0 row7\" >13</th>\n",
       "      <td id=\"T_d6cd8_row7_col0\" class=\"data row7 col0\" >56.5%</td>\n",
       "    </tr>\n",
       "    <tr>\n",
       "      <th id=\"T_d6cd8_level0_row8\" class=\"row_heading level0 row8\" >14</th>\n",
       "      <td id=\"T_d6cd8_row8_col0\" class=\"data row8 col0\" >36.1%</td>\n",
       "    </tr>\n",
       "    <tr>\n",
       "      <th id=\"T_d6cd8_level0_row9\" class=\"row_heading level0 row9\" >15</th>\n",
       "      <td id=\"T_d6cd8_row9_col0\" class=\"data row9 col0\" >53.8%</td>\n",
       "    </tr>\n",
       "    <tr>\n",
       "      <th id=\"T_d6cd8_level0_row10\" class=\"row_heading level0 row10\" >16</th>\n",
       "      <td id=\"T_d6cd8_row10_col0\" class=\"data row10 col0\" >53.1%</td>\n",
       "    </tr>\n",
       "    <tr>\n",
       "      <th id=\"T_d6cd8_level0_row11\" class=\"row_heading level0 row11\" >17</th>\n",
       "      <td id=\"T_d6cd8_row11_col0\" class=\"data row11 col0\" >71.7%</td>\n",
       "    </tr>\n",
       "    <tr>\n",
       "      <th id=\"T_d6cd8_level0_row12\" class=\"row_heading level0 row12\" >19</th>\n",
       "      <td id=\"T_d6cd8_row12_col0\" class=\"data row12 col0\" >29.2%</td>\n",
       "    </tr>\n",
       "    <tr>\n",
       "      <th id=\"T_d6cd8_level0_row13\" class=\"row_heading level0 row13\" >20</th>\n",
       "      <td id=\"T_d6cd8_row13_col0\" class=\"data row13 col0\" >0.0%</td>\n",
       "    </tr>\n",
       "    <tr>\n",
       "      <th id=\"T_d6cd8_level0_row14\" class=\"row_heading level0 row14\" >21</th>\n",
       "      <td id=\"T_d6cd8_row14_col0\" class=\"data row14 col0\" >40.0%</td>\n",
       "    </tr>\n",
       "    <tr>\n",
       "      <th id=\"T_d6cd8_level0_row15\" class=\"row_heading level0 row15\" >22</th>\n",
       "      <td id=\"T_d6cd8_row15_col0\" class=\"data row15 col0\" >100.0%</td>\n",
       "    </tr>\n",
       "    <tr>\n",
       "      <th id=\"T_d6cd8_level0_row16\" class=\"row_heading level0 row16\" >24</th>\n",
       "      <td id=\"T_d6cd8_row16_col0\" class=\"data row16 col0\" >50.0%</td>\n",
       "    </tr>\n",
       "    <tr>\n",
       "      <th id=\"T_d6cd8_level0_row17\" class=\"row_heading level0 row17\" >26</th>\n",
       "      <td id=\"T_d6cd8_row17_col0\" class=\"data row17 col0\" >43.8%</td>\n",
       "    </tr>\n",
       "    <tr>\n",
       "      <th id=\"T_d6cd8_level0_row18\" class=\"row_heading level0 row18\" >27</th>\n",
       "      <td id=\"T_d6cd8_row18_col0\" class=\"data row18 col0\" >65.9%</td>\n",
       "    </tr>\n",
       "    <tr>\n",
       "      <th id=\"T_d6cd8_level0_row19\" class=\"row_heading level0 row19\" >28</th>\n",
       "      <td id=\"T_d6cd8_row19_col0\" class=\"data row19 col0\" >50.0%</td>\n",
       "    </tr>\n",
       "  </tbody>\n",
       "</table>\n"
      ],
      "text/plain": [
       "<pandas.io.formats.style.Styler at 0x211249ea420>"
      ]
     },
     "execution_count": 93,
     "metadata": {},
     "output_type": "execute_result"
    }
   ],
   "source": [
    "\n",
    "reorder_pct = order_data.merge(orders)\n",
    "reorder_pct = reorder_pct.groupby('user_id')['reordered'].mean().to_frame()\n",
    "reorder_pct.head(20).style.format({'reordered': '{:.1%}'})"
   ]
  },
  {
   "cell_type": "markdown",
   "id": "92d35137",
   "metadata": {},
   "source": [
    "### [C5] What are the top 20 items that people put in their carts first? "
   ]
  },
  {
   "cell_type": "code",
   "execution_count": 94,
   "id": "0ae57274",
   "metadata": {
    "scrolled": false
   },
   "outputs": [
    {
     "data": {
      "text/html": [
       "<div>\n",
       "<style scoped>\n",
       "    .dataframe tbody tr th:only-of-type {\n",
       "        vertical-align: middle;\n",
       "    }\n",
       "\n",
       "    .dataframe tbody tr th {\n",
       "        vertical-align: top;\n",
       "    }\n",
       "\n",
       "    .dataframe thead th {\n",
       "        text-align: right;\n",
       "    }\n",
       "</style>\n",
       "<table border=\"1\" class=\"dataframe\">\n",
       "  <thead>\n",
       "    <tr style=\"text-align: right;\">\n",
       "      <th></th>\n",
       "      <th>product_id</th>\n",
       "      <th>product_name</th>\n",
       "      <th>aisle_id</th>\n",
       "      <th>department_id</th>\n",
       "      <th>order_id</th>\n",
       "      <th>add_to_cart_order</th>\n",
       "      <th>reordered</th>\n",
       "      <th>id_and_name</th>\n",
       "    </tr>\n",
       "  </thead>\n",
       "  <tbody>\n",
       "    <tr>\n",
       "      <th>0</th>\n",
       "      <td>1</td>\n",
       "      <td>chocolate sandwich cookies</td>\n",
       "      <td>61</td>\n",
       "      <td>19</td>\n",
       "      <td>1104373</td>\n",
       "      <td>11</td>\n",
       "      <td>1</td>\n",
       "      <td>1 - chocolate sandwich cookies</td>\n",
       "    </tr>\n",
       "    <tr>\n",
       "      <th>1</th>\n",
       "      <td>1</td>\n",
       "      <td>chocolate sandwich cookies</td>\n",
       "      <td>61</td>\n",
       "      <td>19</td>\n",
       "      <td>1774977</td>\n",
       "      <td>4</td>\n",
       "      <td>1</td>\n",
       "      <td>1 - chocolate sandwich cookies</td>\n",
       "    </tr>\n",
       "    <tr>\n",
       "      <th>2</th>\n",
       "      <td>1</td>\n",
       "      <td>chocolate sandwich cookies</td>\n",
       "      <td>61</td>\n",
       "      <td>19</td>\n",
       "      <td>652770</td>\n",
       "      <td>10</td>\n",
       "      <td>0</td>\n",
       "      <td>1 - chocolate sandwich cookies</td>\n",
       "    </tr>\n",
       "    <tr>\n",
       "      <th>3</th>\n",
       "      <td>1</td>\n",
       "      <td>chocolate sandwich cookies</td>\n",
       "      <td>61</td>\n",
       "      <td>19</td>\n",
       "      <td>1000035</td>\n",
       "      <td>6</td>\n",
       "      <td>1</td>\n",
       "      <td>1 - chocolate sandwich cookies</td>\n",
       "    </tr>\n",
       "    <tr>\n",
       "      <th>4</th>\n",
       "      <td>1</td>\n",
       "      <td>chocolate sandwich cookies</td>\n",
       "      <td>61</td>\n",
       "      <td>19</td>\n",
       "      <td>1679949</td>\n",
       "      <td>9</td>\n",
       "      <td>0</td>\n",
       "      <td>1 - chocolate sandwich cookies</td>\n",
       "    </tr>\n",
       "    <tr>\n",
       "      <th>...</th>\n",
       "      <td>...</td>\n",
       "      <td>...</td>\n",
       "      <td>...</td>\n",
       "      <td>...</td>\n",
       "      <td>...</td>\n",
       "      <td>...</td>\n",
       "      <td>...</td>\n",
       "      <td>...</td>\n",
       "    </tr>\n",
       "    <tr>\n",
       "      <th>4545002</th>\n",
       "      <td>49694</td>\n",
       "      <td>burrito- steak &amp; cheese</td>\n",
       "      <td>38</td>\n",
       "      <td>1</td>\n",
       "      <td>3034802</td>\n",
       "      <td>10</td>\n",
       "      <td>0</td>\n",
       "      <td>49694 - burrito- steak &amp; cheese</td>\n",
       "    </tr>\n",
       "    <tr>\n",
       "      <th>4545003</th>\n",
       "      <td>49694</td>\n",
       "      <td>burrito- steak &amp; cheese</td>\n",
       "      <td>38</td>\n",
       "      <td>1</td>\n",
       "      <td>3175081</td>\n",
       "      <td>3</td>\n",
       "      <td>0</td>\n",
       "      <td>49694 - burrito- steak &amp; cheese</td>\n",
       "    </tr>\n",
       "    <tr>\n",
       "      <th>4545004</th>\n",
       "      <td>49694</td>\n",
       "      <td>burrito- steak &amp; cheese</td>\n",
       "      <td>38</td>\n",
       "      <td>1</td>\n",
       "      <td>694132</td>\n",
       "      <td>2</td>\n",
       "      <td>0</td>\n",
       "      <td>49694 - burrito- steak &amp; cheese</td>\n",
       "    </tr>\n",
       "    <tr>\n",
       "      <th>4545005</th>\n",
       "      <td>49694</td>\n",
       "      <td>burrito- steak &amp; cheese</td>\n",
       "      <td>38</td>\n",
       "      <td>1</td>\n",
       "      <td>2843165</td>\n",
       "      <td>5</td>\n",
       "      <td>0</td>\n",
       "      <td>49694 - burrito- steak &amp; cheese</td>\n",
       "    </tr>\n",
       "    <tr>\n",
       "      <th>4545006</th>\n",
       "      <td>49694</td>\n",
       "      <td>burrito- steak &amp; cheese</td>\n",
       "      <td>38</td>\n",
       "      <td>1</td>\n",
       "      <td>2077154</td>\n",
       "      <td>12</td>\n",
       "      <td>0</td>\n",
       "      <td>49694 - burrito- steak &amp; cheese</td>\n",
       "    </tr>\n",
       "  </tbody>\n",
       "</table>\n",
       "<p>4545007 rows × 8 columns</p>\n",
       "</div>"
      ],
      "text/plain": [
       "         product_id                product_name  aisle_id  department_id  \\\n",
       "0                 1  chocolate sandwich cookies        61             19   \n",
       "1                 1  chocolate sandwich cookies        61             19   \n",
       "2                 1  chocolate sandwich cookies        61             19   \n",
       "3                 1  chocolate sandwich cookies        61             19   \n",
       "4                 1  chocolate sandwich cookies        61             19   \n",
       "...             ...                         ...       ...            ...   \n",
       "4545002       49694     burrito- steak & cheese        38              1   \n",
       "4545003       49694     burrito- steak & cheese        38              1   \n",
       "4545004       49694     burrito- steak & cheese        38              1   \n",
       "4545005       49694     burrito- steak & cheese        38              1   \n",
       "4545006       49694     burrito- steak & cheese        38              1   \n",
       "\n",
       "         order_id  add_to_cart_order  reordered  \\\n",
       "0         1104373                 11          1   \n",
       "1         1774977                  4          1   \n",
       "2          652770                 10          0   \n",
       "3         1000035                  6          1   \n",
       "4         1679949                  9          0   \n",
       "...           ...                ...        ...   \n",
       "4545002   3034802                 10          0   \n",
       "4545003   3175081                  3          0   \n",
       "4545004    694132                  2          0   \n",
       "4545005   2843165                  5          0   \n",
       "4545006   2077154                 12          0   \n",
       "\n",
       "                             id_and_name  \n",
       "0         1 - chocolate sandwich cookies  \n",
       "1         1 - chocolate sandwich cookies  \n",
       "2         1 - chocolate sandwich cookies  \n",
       "3         1 - chocolate sandwich cookies  \n",
       "4         1 - chocolate sandwich cookies  \n",
       "...                                  ...  \n",
       "4545002  49694 - burrito- steak & cheese  \n",
       "4545003  49694 - burrito- steak & cheese  \n",
       "4545004  49694 - burrito- steak & cheese  \n",
       "4545005  49694 - burrito- steak & cheese  \n",
       "4545006  49694 - burrito- steak & cheese  \n",
       "\n",
       "[4545007 rows x 8 columns]"
      ]
     },
     "metadata": {},
     "output_type": "display_data"
    }
   ],
   "source": [
    "#dataframe I'll be using\n",
    "display(order_data)"
   ]
  },
  {
   "cell_type": "code",
   "execution_count": 18,
   "id": "forty-netherlands",
   "metadata": {
    "scrolled": false
   },
   "outputs": [
    {
     "data": {
      "text/plain": [
       "Banana                         15562\n",
       "Bag of Organic Bananas         11026\n",
       "Organic Whole Milk              4363\n",
       "Organic Strawberries            3946\n",
       "Organic Hass Avocado            3390\n",
       "Organic Baby Spinach            3336\n",
       "Organic Avocado                 3044\n",
       "Spring Water                    2336\n",
       "Strawberries                    2308\n",
       "Organic Raspberries             2024\n",
       "Sparkling Water Grapefruit      1914\n",
       "Organic Half & Half             1797\n",
       "Large Lemon                     1737\n",
       "Soda                            1733\n",
       "Organic Reduced Fat Milk        1397\n",
       "Limes                           1370\n",
       "Hass Avocados                   1340\n",
       "Organic Reduced Fat 2% Milk     1310\n",
       "Half & Half                     1309\n",
       "Organic Yellow Onion            1246\n",
       "Name: product_name, dtype: int64"
      ]
     },
     "metadata": {},
     "output_type": "display_data"
    }
   ],
   "source": [
    "#Filtering dataframe to only include items that were added to the cart first\n",
    "first_items = order_data[order_data['add_to_cart_order'] == 1]\n",
    "#counting the number of times each product was added to the cart first\n",
    "item_counts = first_items['product_name'].value_counts()\n",
    "#getting the top 20 items\n",
    "top_20_first = item_counts.head(20)\n",
    "display(top_20_first)"
   ]
  },
  {
   "cell_type": "markdown",
   "id": "28ce9872",
   "metadata": {},
   "source": [
    "# Analysis of Customer Shopping Habits\n",
    "Based on the data provided, we can draw several conclusions about customer shopping habits.\n",
    "\n",
    "# Order Frequency\n",
    "Most people wait 30 days between subsequent orders. This suggests that customers are likely doing their major grocery shopping once a month.\n",
    "\n",
    "# Shopping Habits by Day of the Week\n",
    "When comparing the ‘order_hour_of_day’ distributions on Wednesdays and Saturdays, it appears that shopping habits are similar on both days. However, there is a noticeable increase in orders between 11 am and 2 pm on Saturdays compared to Wednesdays. This could be due to people having more free time to shop on weekends.\n",
    "\n",
    "# Number of Orders per Customer\n",
    "The distribution of the number of orders per customer shows that most users place 1 to 2 orders, with a significant drop-off after that. This could indicate that many users are trying the service but not continuing to use it regularly.\n",
    "\n",
    "# Items per Order\n",
    "From the distribution of items per order, it seems that people typically buy between 4-8 items per order. This suggests that customers are using the service for smaller, more frequent shops rather than large, infrequent ones.\n",
    "\n",
    "# Most Frequently Reordered Items\n",
    "The top 20 items that are reordered most frequently are primarily fresh produce such as bananas, strawberries, and avocados, as well as dairy products like organic whole milk and organic half & half. This indicates that customers are using the service to regularly restock on perishable items.\n",
    "\n",
    "# Proportion of Reorders\n",
    "For each product, the proportion of its orders that are reorders varies. Some products, like ‘Chocolate Sandwich Cookies’, have a high proportion of reorders, suggesting that they are popular and regularly purchased items. Other products, like ‘All-Seasons Salt’, have a low proportion of reorders, which could indicate that they are less popular or only purchased occasionally.\n",
    "\n",
    "# First Items in Cart\n",
    "The top 20 items that people put in their carts first are also primarily fresh produce and dairy products. This could suggest that these are the items that customers consider most important or that they are the items customers most commonly run out of and need to replace.\n",
    "\n",
    "In conclusion, this analysis provides valuable insights into customer shopping habits, which could be used to improve product recommendations, optimize delivery times, and enhance overall customer service. Further analysis could explore other factors such as seasonal trends, regional differences, and the impact of promotions on shopping habits."
   ]
  }
 ],
 "metadata": {
  "ExecuteTimeLog": [
   {
    "duration": 425,
    "start_time": "2024-05-21T12:14:00.246Z"
   },
   {
    "duration": 7,
    "start_time": "2024-05-21T12:15:11.548Z"
   },
   {
    "duration": 331,
    "start_time": "2024-05-21T12:15:18.447Z"
   },
   {
    "duration": 453,
    "start_time": "2024-05-21T12:15:55.667Z"
   },
   {
    "duration": 86,
    "start_time": "2024-05-21T12:16:21.596Z"
   },
   {
    "duration": 3347,
    "start_time": "2024-05-21T12:16:33.268Z"
   },
   {
    "duration": 121,
    "start_time": "2024-05-21T12:16:54.327Z"
   },
   {
    "duration": 3290,
    "start_time": "2024-05-21T12:16:56.867Z"
   },
   {
    "duration": 14,
    "start_time": "2024-05-21T12:17:28.667Z"
   },
   {
    "duration": 8,
    "start_time": "2024-05-21T12:17:47.047Z"
   },
   {
    "duration": 399,
    "start_time": "2024-05-21T12:18:31.131Z"
   },
   {
    "duration": 443,
    "start_time": "2024-05-21T12:18:40.007Z"
   },
   {
    "duration": 54,
    "start_time": "2024-05-21T12:18:56.987Z"
   },
   {
    "duration": 3481,
    "start_time": "2024-05-21T12:19:15.547Z"
   },
   {
    "duration": 17,
    "start_time": "2024-05-21T12:19:54.727Z"
   },
   {
    "duration": 14,
    "start_time": "2024-05-21T12:20:05.408Z"
   },
   {
    "duration": 454,
    "start_time": "2024-05-21T12:26:51.509Z"
   },
   {
    "duration": 475,
    "start_time": "2024-05-21T12:27:03.319Z"
   },
   {
    "duration": 471,
    "start_time": "2024-05-21T12:27:19.147Z"
   },
   {
    "duration": 446,
    "start_time": "2024-05-21T12:28:19.928Z"
   },
   {
    "duration": 423,
    "start_time": "2024-05-21T12:44:34.767Z"
   },
   {
    "duration": 4,
    "start_time": "2024-05-21T12:44:47.047Z"
   },
   {
    "duration": 5,
    "start_time": "2024-05-21T12:46:36.547Z"
   },
   {
    "duration": 839,
    "start_time": "2024-05-21T12:47:58.977Z"
   },
   {
    "duration": 1060,
    "start_time": "2024-05-21T12:57:14.707Z"
   },
   {
    "duration": 1054,
    "start_time": "2024-05-21T12:57:17.927Z"
   },
   {
    "duration": 1119,
    "start_time": "2024-05-21T12:57:28.007Z"
   },
   {
    "duration": 1057,
    "start_time": "2024-05-21T12:58:15.088Z"
   },
   {
    "duration": 1067,
    "start_time": "2024-05-21T12:58:29.232Z"
   },
   {
    "duration": 17,
    "start_time": "2024-05-21T12:58:46.191Z"
   },
   {
    "duration": 16,
    "start_time": "2024-05-21T12:58:56.507Z"
   },
   {
    "duration": 15,
    "start_time": "2024-05-21T12:59:21.109Z"
   },
   {
    "duration": 314,
    "start_time": "2024-05-21T15:43:15.432Z"
   },
   {
    "duration": 445,
    "start_time": "2024-05-21T15:43:32.657Z"
   },
   {
    "duration": 476,
    "start_time": "2024-05-21T15:43:34.622Z"
   },
   {
    "duration": 270,
    "start_time": "2024-05-21T15:43:39.132Z"
   },
   {
    "duration": 866,
    "start_time": "2024-05-21T15:43:43.091Z"
   },
   {
    "duration": 24,
    "start_time": "2024-05-21T15:44:26.552Z"
   },
   {
    "duration": 75,
    "start_time": "2024-05-21T15:44:37.473Z"
   },
   {
    "duration": 80,
    "start_time": "2024-05-21T15:45:20.712Z"
   },
   {
    "duration": 32,
    "start_time": "2024-05-21T15:45:29.312Z"
   },
   {
    "duration": 22,
    "start_time": "2024-05-21T15:45:49.971Z"
   },
   {
    "duration": 75,
    "start_time": "2024-05-21T15:45:54.821Z"
   },
   {
    "duration": 21,
    "start_time": "2024-05-21T15:46:03.692Z"
   },
   {
    "duration": 271,
    "start_time": "2024-05-21T15:46:10.852Z"
   },
   {
    "duration": 269,
    "start_time": "2024-05-21T15:46:22.874Z"
   },
   {
    "duration": 268,
    "start_time": "2024-05-21T15:46:44.777Z"
   },
   {
    "duration": 2940,
    "start_time": "2024-05-21T15:47:10.051Z"
   },
   {
    "duration": 2195,
    "start_time": "2024-05-21T15:47:22.912Z"
   },
   {
    "duration": 220,
    "start_time": "2024-05-21T15:58:29.053Z"
   },
   {
    "duration": 92,
    "start_time": "2024-05-21T15:58:43.871Z"
   },
   {
    "duration": 1400,
    "start_time": "2024-05-21T15:58:54.812Z"
   },
   {
    "duration": 21,
    "start_time": "2024-05-21T15:59:17.871Z"
   },
   {
    "duration": 20,
    "start_time": "2024-05-21T15:59:26.312Z"
   },
   {
    "duration": 132,
    "start_time": "2024-05-21T16:00:32.138Z"
   },
   {
    "duration": 194,
    "start_time": "2024-05-21T16:34:48.552Z"
   },
   {
    "duration": 205,
    "start_time": "2024-05-21T16:35:01.414Z"
   },
   {
    "duration": 80,
    "start_time": "2024-05-21T16:35:22.933Z"
   },
   {
    "duration": 10,
    "start_time": "2024-05-21T16:35:41.991Z"
   },
   {
    "duration": 21,
    "start_time": "2024-05-21T16:35:55.792Z"
   },
   {
    "duration": 147,
    "start_time": "2024-05-21T16:37:25.612Z"
   },
   {
    "duration": 14,
    "start_time": "2024-05-21T16:38:03.351Z"
   },
   {
    "duration": 140,
    "start_time": "2024-05-21T16:39:16.531Z"
   },
   {
    "duration": 137,
    "start_time": "2024-05-21T16:39:25.551Z"
   },
   {
    "duration": 9,
    "start_time": "2024-05-21T16:44:22.892Z"
   },
   {
    "duration": 28,
    "start_time": "2024-05-21T16:44:30.113Z"
   },
   {
    "duration": 41,
    "start_time": "2024-05-21T16:48:51.111Z"
   },
   {
    "duration": 4,
    "start_time": "2024-05-21T16:49:58.552Z"
   },
   {
    "duration": 8,
    "start_time": "2024-05-21T16:50:09.032Z"
   },
   {
    "duration": 70,
    "start_time": "2024-05-21T16:51:19.271Z"
   },
   {
    "duration": 4,
    "start_time": "2024-05-21T16:51:35.271Z"
   },
   {
    "duration": 4,
    "start_time": "2024-05-21T16:51:48.871Z"
   },
   {
    "duration": 7,
    "start_time": "2024-05-21T16:51:59.257Z"
   },
   {
    "duration": 5,
    "start_time": "2024-05-21T16:58:08.017Z"
   },
   {
    "duration": 6,
    "start_time": "2024-05-21T16:58:24.672Z"
   },
   {
    "duration": 28,
    "start_time": "2024-05-21T16:59:20.419Z"
   },
   {
    "duration": 36,
    "start_time": "2024-05-21T17:00:09.096Z"
   },
   {
    "duration": 28,
    "start_time": "2024-05-21T17:00:31.731Z"
   },
   {
    "duration": 27,
    "start_time": "2024-05-21T17:00:39.808Z"
   },
   {
    "duration": 43,
    "start_time": "2024-05-21T17:03:49.112Z"
   },
   {
    "duration": 18,
    "start_time": "2024-05-21T17:04:49.252Z"
   },
   {
    "duration": 19,
    "start_time": "2024-05-21T17:05:05.552Z"
   },
   {
    "duration": 28,
    "start_time": "2024-05-21T17:05:27.772Z"
   },
   {
    "duration": 32,
    "start_time": "2024-05-21T17:05:39.315Z"
   },
   {
    "duration": 20,
    "start_time": "2024-05-21T17:05:55.432Z"
   },
   {
    "duration": 16,
    "start_time": "2024-05-21T17:07:03.232Z"
   },
   {
    "duration": 11,
    "start_time": "2024-05-21T17:07:19.436Z"
   },
   {
    "duration": 17,
    "start_time": "2024-05-21T17:07:46.732Z"
   },
   {
    "duration": 12,
    "start_time": "2024-05-21T17:07:55.814Z"
   },
   {
    "duration": 1278,
    "start_time": "2024-05-21T17:10:01.372Z"
   },
   {
    "duration": 1228,
    "start_time": "2024-05-21T17:10:14.413Z"
   },
   {
    "duration": 5761,
    "start_time": "2024-05-21T17:11:23.752Z"
   },
   {
    "duration": 20,
    "start_time": "2024-05-21T17:11:39.732Z"
   },
   {
    "duration": 5404,
    "start_time": "2024-05-21T17:11:56.932Z"
   },
   {
    "duration": 338,
    "start_time": "2024-05-21T17:12:40.292Z"
   },
   {
    "duration": 422,
    "start_time": "2024-05-22T13:21:30.166Z"
   },
   {
    "duration": 282,
    "start_time": "2024-05-22T13:21:36.366Z"
   },
   {
    "duration": 18,
    "start_time": "2024-05-22T13:22:27.086Z"
   },
   {
    "duration": 13,
    "start_time": "2024-05-22T13:22:30.646Z"
   },
   {
    "duration": 337,
    "start_time": "2024-05-22T13:22:35.686Z"
   },
   {
    "duration": 4,
    "start_time": "2024-05-22T13:22:50.726Z"
   },
   {
    "duration": 218,
    "start_time": "2024-05-22T13:22:51.491Z"
   },
   {
    "duration": 101,
    "start_time": "2024-05-22T13:22:54.291Z"
   },
   {
    "duration": 1427,
    "start_time": "2024-05-22T13:22:57.290Z"
   },
   {
    "duration": 1321,
    "start_time": "2024-05-22T13:23:07.806Z"
   },
   {
    "duration": 322,
    "start_time": "2024-05-22T13:23:12.132Z"
   },
   {
    "duration": 87,
    "start_time": "2024-05-22T13:23:48.107Z"
   },
   {
    "duration": 14,
    "start_time": "2024-05-22T14:48:17.920Z"
   },
   {
    "duration": 24,
    "start_time": "2024-05-22T14:48:26.426Z"
   },
   {
    "duration": 18,
    "start_time": "2024-05-22T14:48:29.646Z"
   },
   {
    "duration": 29,
    "start_time": "2024-05-22T14:48:41.387Z"
   },
   {
    "duration": 19,
    "start_time": "2024-05-22T14:48:48.826Z"
   },
   {
    "duration": 21,
    "start_time": "2024-05-22T14:49:09.647Z"
   },
   {
    "duration": 482,
    "start_time": "2024-05-22T14:49:57.927Z"
   },
   {
    "duration": 4,
    "start_time": "2024-05-22T14:51:14.746Z"
   },
   {
    "duration": 13,
    "start_time": "2024-05-22T14:56:18.946Z"
   },
   {
    "duration": 12,
    "start_time": "2024-05-22T15:08:43.206Z"
   },
   {
    "duration": 13,
    "start_time": "2024-05-22T15:08:57.593Z"
   },
   {
    "duration": 28,
    "start_time": "2024-05-22T15:24:42.037Z"
   },
   {
    "duration": 12,
    "start_time": "2024-05-22T15:24:53.766Z"
   },
   {
    "duration": 10,
    "start_time": "2024-05-22T15:27:19.609Z"
   },
   {
    "duration": 10,
    "start_time": "2024-05-22T15:27:42.546Z"
   },
   {
    "duration": 12,
    "start_time": "2024-05-22T15:27:45.967Z"
   },
   {
    "duration": 4,
    "start_time": "2024-05-22T15:28:19.546Z"
   },
   {
    "duration": 11,
    "start_time": "2024-05-22T15:28:31.307Z"
   },
   {
    "duration": 16,
    "start_time": "2024-05-22T15:32:48.529Z"
   },
   {
    "duration": 207,
    "start_time": "2024-05-22T15:33:21.547Z"
   },
   {
    "duration": 66,
    "start_time": "2024-05-22T16:00:51.412Z"
   },
   {
    "duration": 76,
    "start_time": "2024-05-22T16:01:05.467Z"
   },
   {
    "duration": 90,
    "start_time": "2024-05-22T16:22:23.067Z"
   },
   {
    "duration": 103,
    "start_time": "2024-05-22T16:22:31.866Z"
   },
   {
    "duration": 73,
    "start_time": "2024-05-22T16:22:39.626Z"
   },
   {
    "duration": 99,
    "start_time": "2024-05-22T16:26:54.989Z"
   },
   {
    "duration": 95,
    "start_time": "2024-05-22T16:27:04.026Z"
   },
   {
    "duration": 87,
    "start_time": "2024-05-22T16:29:24.826Z"
   },
   {
    "duration": 100,
    "start_time": "2024-05-22T16:29:39.526Z"
   },
   {
    "duration": 99,
    "start_time": "2024-05-22T16:29:48.307Z"
   },
   {
    "duration": 97,
    "start_time": "2024-05-22T16:30:50.409Z"
   },
   {
    "duration": 1253,
    "start_time": "2024-05-22T16:33:28.766Z"
   },
   {
    "duration": 46,
    "start_time": "2024-05-22T16:40:36.526Z"
   },
   {
    "duration": 87,
    "start_time": "2024-05-22T16:41:45.007Z"
   },
   {
    "duration": 101,
    "start_time": "2024-05-22T16:42:21.906Z"
   },
   {
    "duration": 108,
    "start_time": "2024-05-22T16:42:40.447Z"
   },
   {
    "duration": 87,
    "start_time": "2024-05-22T16:42:59.561Z"
   },
   {
    "duration": 88,
    "start_time": "2024-05-22T16:43:09.586Z"
   },
   {
    "duration": 1235,
    "start_time": "2024-05-22T17:02:28.987Z"
   },
   {
    "duration": 503,
    "start_time": "2024-05-22T17:05:31.147Z"
   },
   {
    "duration": 6,
    "start_time": "2024-05-22T17:06:10.617Z"
   },
   {
    "duration": 6,
    "start_time": "2024-05-22T17:06:13.908Z"
   },
   {
    "duration": 18,
    "start_time": "2024-05-22T17:07:17.727Z"
   },
   {
    "duration": 12,
    "start_time": "2024-05-22T17:07:27.967Z"
   },
   {
    "duration": 10,
    "start_time": "2024-05-22T17:07:38.689Z"
   },
   {
    "duration": 4,
    "start_time": "2024-05-22T17:49:33.867Z"
   },
   {
    "duration": 8,
    "start_time": "2024-05-22T17:51:40.031Z"
   },
   {
    "duration": 8,
    "start_time": "2024-05-22T17:51:49.914Z"
   },
   {
    "duration": 28,
    "start_time": "2024-05-22T18:04:11.747Z"
   },
   {
    "duration": 11,
    "start_time": "2024-05-22T18:04:39.647Z"
   },
   {
    "duration": 56,
    "start_time": "2024-05-22T18:06:02.468Z"
   },
   {
    "duration": 60,
    "start_time": "2024-05-22T18:06:14.227Z"
   },
   {
    "duration": 24,
    "start_time": "2024-05-22T18:21:53.067Z"
   },
   {
    "duration": 12,
    "start_time": "2024-05-22T18:21:57.047Z"
   },
   {
    "duration": 22,
    "start_time": "2024-05-22T18:22:06.527Z"
   },
   {
    "duration": 23,
    "start_time": "2024-05-22T18:22:18.372Z"
   },
   {
    "duration": 34,
    "start_time": "2024-05-22T18:22:38.849Z"
   },
   {
    "duration": 76,
    "start_time": "2024-05-22T18:23:27.307Z"
   },
   {
    "duration": 74,
    "start_time": "2024-05-22T18:24:56.413Z"
   },
   {
    "duration": 91,
    "start_time": "2024-05-22T18:25:52.550Z"
   },
   {
    "duration": 62,
    "start_time": "2024-05-22T18:26:07.207Z"
   },
   {
    "duration": 78,
    "start_time": "2024-05-22T18:26:26.487Z"
   },
   {
    "duration": 66,
    "start_time": "2024-05-22T18:26:39.487Z"
   },
   {
    "duration": 61,
    "start_time": "2024-05-22T18:26:49.907Z"
   },
   {
    "duration": 21,
    "start_time": "2024-05-22T18:29:11.470Z"
   },
   {
    "duration": 30,
    "start_time": "2024-05-22T18:29:18.787Z"
   },
   {
    "duration": 32,
    "start_time": "2024-05-22T18:29:42.447Z"
   },
   {
    "duration": 32,
    "start_time": "2024-05-22T18:33:53.087Z"
   },
   {
    "duration": 32,
    "start_time": "2024-05-22T18:34:06.068Z"
   },
   {
    "duration": 27,
    "start_time": "2024-05-22T18:40:33.127Z"
   },
   {
    "duration": 7,
    "start_time": "2024-05-22T18:42:37.467Z"
   },
   {
    "duration": 7,
    "start_time": "2024-05-22T18:43:15.290Z"
   },
   {
    "duration": 7,
    "start_time": "2024-05-22T18:43:59.527Z"
   },
   {
    "duration": 18,
    "start_time": "2024-05-22T18:45:13.707Z"
   },
   {
    "duration": 3,
    "start_time": "2024-05-22T18:55:12.687Z"
   },
   {
    "duration": 4,
    "start_time": "2024-05-22T18:55:51.252Z"
   },
   {
    "duration": 8,
    "start_time": "2024-05-22T18:56:06.976Z"
   },
   {
    "duration": 16,
    "start_time": "2024-05-22T18:56:24.548Z"
   },
   {
    "duration": 23,
    "start_time": "2024-05-22T18:57:53.752Z"
   },
   {
    "duration": 11,
    "start_time": "2024-05-22T18:58:17.449Z"
   },
   {
    "duration": 10,
    "start_time": "2024-05-22T18:58:48.447Z"
   },
   {
    "duration": 9,
    "start_time": "2024-05-22T19:00:25.130Z"
   },
   {
    "duration": 18,
    "start_time": "2024-05-22T19:01:11.528Z"
   },
   {
    "duration": 75,
    "start_time": "2024-05-22T19:01:51.327Z"
   },
   {
    "duration": 29,
    "start_time": "2024-05-22T19:02:02.527Z"
   },
   {
    "duration": 14,
    "start_time": "2024-05-22T19:02:07.530Z"
   },
   {
    "duration": 16,
    "start_time": "2024-05-22T19:02:14.947Z"
   },
   {
    "duration": 27,
    "start_time": "2024-05-22T19:02:55.347Z"
   },
   {
    "duration": 4536,
    "start_time": "2024-05-22T19:07:48.287Z"
   },
   {
    "duration": 12,
    "start_time": "2024-05-22T19:12:16.248Z"
   },
   {
    "duration": 235,
    "start_time": "2024-05-22T19:14:26.547Z"
   },
   {
    "duration": 218,
    "start_time": "2024-05-22T19:14:52.867Z"
   },
   {
    "duration": 220,
    "start_time": "2024-05-22T19:19:01.268Z"
   },
   {
    "duration": 713,
    "start_time": "2024-05-22T20:24:09.567Z"
   },
   {
    "duration": 10,
    "start_time": "2024-05-22T20:25:07.767Z"
   },
   {
    "duration": 217,
    "start_time": "2024-05-22T20:25:23.787Z"
   },
   {
    "duration": 1413,
    "start_time": "2024-05-22T20:30:43.871Z"
   },
   {
    "duration": 229,
    "start_time": "2024-05-22T20:31:05.389Z"
   },
   {
    "duration": 254,
    "start_time": "2024-05-22T20:31:30.489Z"
   },
   {
    "duration": 219,
    "start_time": "2024-05-22T20:34:52.768Z"
   },
   {
    "duration": 221,
    "start_time": "2024-05-22T20:35:17.508Z"
   },
   {
    "duration": 220,
    "start_time": "2024-05-22T20:35:43.867Z"
   },
   {
    "duration": 219,
    "start_time": "2024-05-22T20:35:51.167Z"
   },
   {
    "duration": 240,
    "start_time": "2024-05-22T20:37:06.607Z"
   },
   {
    "duration": 216,
    "start_time": "2024-05-22T20:37:43.250Z"
   },
   {
    "duration": 342,
    "start_time": "2024-05-22T20:38:32.007Z"
   },
   {
    "duration": 232,
    "start_time": "2024-05-22T20:55:35.235Z"
   },
   {
    "duration": 244,
    "start_time": "2024-05-22T20:56:18.208Z"
   },
   {
    "duration": 227,
    "start_time": "2024-05-22T20:56:50.187Z"
   },
   {
    "duration": 232,
    "start_time": "2024-05-22T20:57:20.879Z"
   },
   {
    "duration": 227,
    "start_time": "2024-05-22T20:57:33.067Z"
   },
   {
    "duration": 227,
    "start_time": "2024-05-22T20:57:40.747Z"
   },
   {
    "duration": 4,
    "start_time": "2024-05-22T20:57:54.582Z"
   },
   {
    "duration": 239,
    "start_time": "2024-05-22T20:57:56.267Z"
   },
   {
    "duration": 246,
    "start_time": "2024-05-22T20:58:07.407Z"
   },
   {
    "duration": 235,
    "start_time": "2024-05-22T20:58:32.647Z"
   },
   {
    "duration": 228,
    "start_time": "2024-05-22T20:58:36.288Z"
   },
   {
    "duration": 227,
    "start_time": "2024-05-22T20:58:48.887Z"
   },
   {
    "duration": 220,
    "start_time": "2024-05-22T20:59:16.907Z"
   },
   {
    "duration": 213,
    "start_time": "2024-05-22T20:59:28.969Z"
   },
   {
    "duration": 232,
    "start_time": "2024-05-22T21:00:05.767Z"
   },
   {
    "duration": 242,
    "start_time": "2024-05-22T21:00:37.514Z"
   },
   {
    "duration": 240,
    "start_time": "2024-05-22T21:01:03.487Z"
   },
   {
    "duration": 232,
    "start_time": "2024-05-22T21:01:09.227Z"
   },
   {
    "duration": 254,
    "start_time": "2024-05-22T21:01:27.587Z"
   },
   {
    "duration": 180,
    "start_time": "2024-05-22T21:02:50.587Z"
   },
   {
    "duration": 634,
    "start_time": "2024-05-22T21:03:00.647Z"
   },
   {
    "duration": 233,
    "start_time": "2024-05-22T21:03:22.168Z"
   },
   {
    "duration": 231,
    "start_time": "2024-05-22T21:03:26.628Z"
   },
   {
    "duration": 207,
    "start_time": "2024-05-22T21:03:29.847Z"
   },
   {
    "duration": 6,
    "start_time": "2024-05-22T21:03:40.368Z"
   },
   {
    "duration": 230,
    "start_time": "2024-05-22T21:03:55.087Z"
   },
   {
    "duration": 212,
    "start_time": "2024-05-22T21:04:07.048Z"
   },
   {
    "duration": 223,
    "start_time": "2024-05-22T21:04:20.388Z"
   },
   {
    "duration": 287,
    "start_time": "2024-05-22T21:04:30.247Z"
   },
   {
    "duration": 211,
    "start_time": "2024-05-22T21:04:35.607Z"
   },
   {
    "duration": 227,
    "start_time": "2024-05-22T21:04:39.507Z"
   },
   {
    "duration": 201,
    "start_time": "2024-05-22T21:06:53.647Z"
   },
   {
    "duration": 212,
    "start_time": "2024-05-22T21:07:34.067Z"
   },
   {
    "duration": 215,
    "start_time": "2024-05-22T21:07:55.228Z"
   },
   {
    "duration": 270,
    "start_time": "2024-05-22T21:08:36.228Z"
   },
   {
    "duration": 274,
    "start_time": "2024-05-22T21:08:49.506Z"
   },
   {
    "duration": 426,
    "start_time": "2024-05-22T21:09:03.807Z"
   },
   {
    "duration": 320,
    "start_time": "2024-05-22T21:09:49.155Z"
   },
   {
    "duration": 351,
    "start_time": "2024-05-22T21:10:04.587Z"
   },
   {
    "duration": 319,
    "start_time": "2024-05-22T21:10:09.587Z"
   },
   {
    "duration": 59,
    "start_time": "2024-05-22T21:14:28.827Z"
   },
   {
    "duration": 246,
    "start_time": "2024-05-22T21:14:42.342Z"
   },
   {
    "duration": 222,
    "start_time": "2024-05-22T21:14:55.487Z"
   },
   {
    "duration": 221,
    "start_time": "2024-05-22T21:15:06.747Z"
   },
   {
    "duration": 19,
    "start_time": "2024-05-22T22:04:17.408Z"
   },
   {
    "duration": 30,
    "start_time": "2024-05-22T22:07:02.267Z"
   },
   {
    "duration": 1541,
    "start_time": "2024-05-22T22:09:18.860Z"
   },
   {
    "duration": 1285,
    "start_time": "2024-05-22T22:09:43.726Z"
   },
   {
    "duration": 1342,
    "start_time": "2024-05-22T22:10:07.807Z"
   },
   {
    "duration": 3056,
    "start_time": "2024-05-22T22:14:45.363Z"
   },
   {
    "duration": 3141,
    "start_time": "2024-05-22T22:14:55.467Z"
   },
   {
    "duration": 1266,
    "start_time": "2024-05-22T22:17:41.567Z"
   },
   {
    "duration": 1658,
    "start_time": "2024-05-22T22:18:09.287Z"
   },
   {
    "duration": 2135,
    "start_time": "2024-05-22T22:22:20.907Z"
   },
   {
    "duration": 186,
    "start_time": "2024-05-22T22:26:51.287Z"
   },
   {
    "duration": 511,
    "start_time": "2024-05-22T22:27:07.427Z"
   },
   {
    "duration": 456,
    "start_time": "2024-05-22T22:27:13.388Z"
   },
   {
    "duration": 2544,
    "start_time": "2024-05-22T22:28:01.727Z"
   },
   {
    "duration": 1319,
    "start_time": "2024-05-22T22:28:34.767Z"
   },
   {
    "duration": 7,
    "start_time": "2024-05-22T22:32:17.428Z"
   },
   {
    "duration": 1844,
    "start_time": "2024-05-22T22:32:24.827Z"
   },
   {
    "duration": 1238,
    "start_time": "2024-05-22T22:32:49.870Z"
   },
   {
    "duration": 1810,
    "start_time": "2024-05-22T22:33:30.552Z"
   },
   {
    "duration": 8429,
    "start_time": "2024-05-22T22:36:04.947Z"
   },
   {
    "duration": 475,
    "start_time": "2024-05-23T16:37:21.927Z"
   },
   {
    "duration": 3917,
    "start_time": "2024-05-23T16:59:04.987Z"
   },
   {
    "duration": 349,
    "start_time": "2024-05-23T16:59:21.687Z"
   },
   {
    "duration": 3,
    "start_time": "2024-05-23T16:59:54.250Z"
   },
   {
    "duration": 1408,
    "start_time": "2024-05-23T16:59:54.258Z"
   },
   {
    "duration": 24,
    "start_time": "2024-05-23T16:59:55.670Z"
   },
   {
    "duration": 0,
    "start_time": "2024-05-23T16:59:55.700Z"
   },
   {
    "duration": 0,
    "start_time": "2024-05-23T16:59:55.701Z"
   },
   {
    "duration": 0,
    "start_time": "2024-05-23T16:59:55.703Z"
   },
   {
    "duration": 0,
    "start_time": "2024-05-23T16:59:55.705Z"
   },
   {
    "duration": 0,
    "start_time": "2024-05-23T16:59:55.708Z"
   },
   {
    "duration": 0,
    "start_time": "2024-05-23T16:59:55.735Z"
   },
   {
    "duration": 0,
    "start_time": "2024-05-23T16:59:55.738Z"
   },
   {
    "duration": 0,
    "start_time": "2024-05-23T16:59:55.741Z"
   },
   {
    "duration": 0,
    "start_time": "2024-05-23T16:59:55.744Z"
   },
   {
    "duration": 0,
    "start_time": "2024-05-23T16:59:55.747Z"
   },
   {
    "duration": 0,
    "start_time": "2024-05-23T16:59:55.749Z"
   },
   {
    "duration": 0,
    "start_time": "2024-05-23T16:59:55.752Z"
   },
   {
    "duration": 0,
    "start_time": "2024-05-23T16:59:55.755Z"
   },
   {
    "duration": 0,
    "start_time": "2024-05-23T16:59:55.757Z"
   },
   {
    "duration": 0,
    "start_time": "2024-05-23T16:59:55.759Z"
   },
   {
    "duration": 0,
    "start_time": "2024-05-23T16:59:55.762Z"
   },
   {
    "duration": 0,
    "start_time": "2024-05-23T16:59:55.764Z"
   },
   {
    "duration": 0,
    "start_time": "2024-05-23T16:59:55.767Z"
   },
   {
    "duration": 0,
    "start_time": "2024-05-23T16:59:55.769Z"
   },
   {
    "duration": 0,
    "start_time": "2024-05-23T16:59:55.772Z"
   },
   {
    "duration": 0,
    "start_time": "2024-05-23T16:59:55.834Z"
   },
   {
    "duration": 0,
    "start_time": "2024-05-23T16:59:55.836Z"
   },
   {
    "duration": 0,
    "start_time": "2024-05-23T16:59:55.838Z"
   },
   {
    "duration": 0,
    "start_time": "2024-05-23T16:59:55.842Z"
   },
   {
    "duration": 0,
    "start_time": "2024-05-23T16:59:55.844Z"
   },
   {
    "duration": 0,
    "start_time": "2024-05-23T16:59:55.847Z"
   },
   {
    "duration": 0,
    "start_time": "2024-05-23T16:59:55.850Z"
   },
   {
    "duration": 0,
    "start_time": "2024-05-23T16:59:55.852Z"
   },
   {
    "duration": 0,
    "start_time": "2024-05-23T16:59:55.854Z"
   },
   {
    "duration": 0,
    "start_time": "2024-05-23T16:59:55.856Z"
   },
   {
    "duration": 0,
    "start_time": "2024-05-23T16:59:55.859Z"
   },
   {
    "duration": 0,
    "start_time": "2024-05-23T16:59:55.861Z"
   },
   {
    "duration": 0,
    "start_time": "2024-05-23T16:59:55.862Z"
   },
   {
    "duration": 0,
    "start_time": "2024-05-23T16:59:55.865Z"
   },
   {
    "duration": 0,
    "start_time": "2024-05-23T16:59:55.868Z"
   },
   {
    "duration": 0,
    "start_time": "2024-05-23T16:59:55.870Z"
   },
   {
    "duration": 0,
    "start_time": "2024-05-23T16:59:55.873Z"
   },
   {
    "duration": 0,
    "start_time": "2024-05-23T16:59:55.875Z"
   },
   {
    "duration": 0,
    "start_time": "2024-05-23T16:59:55.935Z"
   },
   {
    "duration": 0,
    "start_time": "2024-05-23T16:59:55.937Z"
   },
   {
    "duration": 0,
    "start_time": "2024-05-23T16:59:55.938Z"
   },
   {
    "duration": 25,
    "start_time": "2024-05-23T17:00:09.748Z"
   },
   {
    "duration": 29,
    "start_time": "2024-05-23T17:00:21.287Z"
   },
   {
    "duration": 25,
    "start_time": "2024-05-23T17:00:21.547Z"
   },
   {
    "duration": 16,
    "start_time": "2024-05-23T17:01:04.207Z"
   },
   {
    "duration": 8,
    "start_time": "2024-05-23T17:01:06.767Z"
   },
   {
    "duration": 825,
    "start_time": "2024-05-23T17:01:13.747Z"
   },
   {
    "duration": 20,
    "start_time": "2024-05-23T17:06:45.507Z"
   },
   {
    "duration": 3,
    "start_time": "2024-05-23T17:07:36.928Z"
   },
   {
    "duration": 1307,
    "start_time": "2024-05-23T17:07:39.427Z"
   },
   {
    "duration": 21,
    "start_time": "2024-05-23T17:07:46.491Z"
   },
   {
    "duration": 411,
    "start_time": "2024-05-23T17:11:27.547Z"
   },
   {
    "duration": 205,
    "start_time": "2024-05-23T17:11:33.372Z"
   },
   {
    "duration": 188,
    "start_time": "2024-05-23T17:11:39.467Z"
   },
   {
    "duration": 154,
    "start_time": "2024-05-23T17:12:14.427Z"
   },
   {
    "duration": 25,
    "start_time": "2024-05-23T17:13:18.407Z"
   },
   {
    "duration": 177,
    "start_time": "2024-05-23T17:13:25.589Z"
   },
   {
    "duration": 151,
    "start_time": "2024-05-23T17:13:28.386Z"
   },
   {
    "duration": 45,
    "start_time": "2024-05-23T17:13:34.627Z"
   },
   {
    "duration": 97,
    "start_time": "2024-05-23T17:13:59.427Z"
   },
   {
    "duration": 84,
    "start_time": "2024-05-23T17:14:48.133Z"
   },
   {
    "duration": 66,
    "start_time": "2024-05-23T17:14:56.596Z"
   },
   {
    "duration": 23,
    "start_time": "2024-05-23T17:15:03.777Z"
   },
   {
    "duration": 6,
    "start_time": "2024-05-23T17:15:08.887Z"
   },
   {
    "duration": 30,
    "start_time": "2024-05-23T17:15:11.314Z"
   },
   {
    "duration": 20,
    "start_time": "2024-05-23T17:15:14.467Z"
   },
   {
    "duration": 17,
    "start_time": "2024-05-23T17:15:29.531Z"
   },
   {
    "duration": 9,
    "start_time": "2024-05-23T17:16:23.087Z"
   },
   {
    "duration": 17,
    "start_time": "2024-05-23T17:16:30.848Z"
   },
   {
    "duration": 13,
    "start_time": "2024-05-23T17:16:32.109Z"
   },
   {
    "duration": 1298,
    "start_time": "2024-05-23T17:16:38.068Z"
   },
   {
    "duration": 330,
    "start_time": "2024-05-23T17:16:42.533Z"
   },
   {
    "duration": 76,
    "start_time": "2024-05-23T17:16:58.787Z"
   },
   {
    "duration": 10,
    "start_time": "2024-05-23T17:18:48.627Z"
   },
   {
    "duration": 5,
    "start_time": "2024-05-23T17:18:54.267Z"
   },
   {
    "duration": 18,
    "start_time": "2024-05-23T17:19:22.209Z"
   },
   {
    "duration": 681,
    "start_time": "2024-05-23T17:19:36.007Z"
   },
   {
    "duration": 24,
    "start_time": "2024-05-23T17:21:09.659Z"
   },
   {
    "duration": 356,
    "start_time": "2024-05-23T17:21:16.407Z"
   },
   {
    "duration": 8461,
    "start_time": "2024-05-23T17:21:30.609Z"
   },
   {
    "duration": 8270,
    "start_time": "2024-05-23T17:22:16.069Z"
   },
   {
    "duration": 8489,
    "start_time": "2024-05-23T17:22:33.430Z"
   },
   {
    "duration": 8512,
    "start_time": "2024-05-23T17:22:46.708Z"
   },
   {
    "duration": 26,
    "start_time": "2024-05-23T17:27:59.588Z"
   },
   {
    "duration": 1009,
    "start_time": "2024-05-23T17:50:42.948Z"
   },
   {
    "duration": 835,
    "start_time": "2024-05-23T17:55:50.127Z"
   },
   {
    "duration": 1049,
    "start_time": "2024-05-23T17:56:11.089Z"
   },
   {
    "duration": 17,
    "start_time": "2024-05-23T18:22:32.407Z"
   },
   {
    "duration": 22,
    "start_time": "2024-05-23T18:27:19.110Z"
   },
   {
    "duration": 347,
    "start_time": "2024-05-23T18:28:03.326Z"
   },
   {
    "duration": 9,
    "start_time": "2024-05-23T18:31:35.148Z"
   },
   {
    "duration": 220,
    "start_time": "2024-05-23T18:49:36.436Z"
   },
   {
    "duration": 1219,
    "start_time": "2024-05-23T18:49:47.996Z"
   },
   {
    "duration": 26,
    "start_time": "2024-05-23T18:50:27.987Z"
   },
   {
    "duration": 39,
    "start_time": "2024-05-23T18:50:55.932Z"
   },
   {
    "duration": 31,
    "start_time": "2024-05-23T18:51:10.852Z"
   },
   {
    "duration": 4837,
    "start_time": "2024-05-23T18:55:43.387Z"
   },
   {
    "duration": 5517,
    "start_time": "2024-05-23T18:57:12.352Z"
   },
   {
    "duration": 5600,
    "start_time": "2024-05-23T18:58:29.487Z"
   },
   {
    "duration": 16,
    "start_time": "2024-05-23T19:00:47.632Z"
   },
   {
    "duration": 30,
    "start_time": "2024-05-23T19:02:03.013Z"
   },
   {
    "duration": 115,
    "start_time": "2024-05-23T19:03:43.887Z"
   },
   {
    "duration": 134,
    "start_time": "2024-05-23T19:04:25.147Z"
   },
   {
    "duration": 151,
    "start_time": "2024-05-23T19:04:38.247Z"
   },
   {
    "duration": 130,
    "start_time": "2024-05-23T19:04:49.906Z"
   },
   {
    "duration": 416,
    "start_time": "2024-05-23T21:51:18.787Z"
   },
   {
    "duration": 1441,
    "start_time": "2024-05-23T21:51:19.207Z"
   },
   {
    "duration": 246,
    "start_time": "2024-05-23T21:51:20.651Z"
   },
   {
    "duration": 88,
    "start_time": "2024-05-23T21:51:20.900Z"
   },
   {
    "duration": 153,
    "start_time": "2024-05-23T21:51:20.993Z"
   },
   {
    "duration": 19,
    "start_time": "2024-05-23T21:51:21.149Z"
   },
   {
    "duration": 223,
    "start_time": "2024-05-23T21:51:21.171Z"
   },
   {
    "duration": 185,
    "start_time": "2024-05-23T21:51:21.397Z"
   },
   {
    "duration": 64,
    "start_time": "2024-05-23T21:51:21.586Z"
   },
   {
    "duration": 24,
    "start_time": "2024-05-23T21:51:21.653Z"
   },
   {
    "duration": 9,
    "start_time": "2024-05-23T21:51:21.680Z"
   },
   {
    "duration": 56,
    "start_time": "2024-05-23T21:51:21.692Z"
   },
   {
    "duration": 20,
    "start_time": "2024-05-23T21:51:21.751Z"
   },
   {
    "duration": 17,
    "start_time": "2024-05-23T21:51:21.778Z"
   },
   {
    "duration": 46,
    "start_time": "2024-05-23T21:51:21.798Z"
   },
   {
    "duration": 18,
    "start_time": "2024-05-23T21:51:21.846Z"
   },
   {
    "duration": 12,
    "start_time": "2024-05-23T21:51:21.867Z"
   },
   {
    "duration": 1345,
    "start_time": "2024-05-23T21:51:21.882Z"
   },
   {
    "duration": 361,
    "start_time": "2024-05-23T21:51:23.234Z"
   },
   {
    "duration": 85,
    "start_time": "2024-05-23T21:51:23.598Z"
   },
   {
    "duration": 9,
    "start_time": "2024-05-23T21:51:23.686Z"
   },
   {
    "duration": 5,
    "start_time": "2024-05-23T21:51:23.698Z"
   },
   {
    "duration": 6,
    "start_time": "2024-05-23T21:51:23.734Z"
   },
   {
    "duration": 17,
    "start_time": "2024-05-23T21:51:23.744Z"
   },
   {
    "duration": 247,
    "start_time": "2024-05-23T21:51:23.764Z"
   },
   {
    "duration": 107,
    "start_time": "2024-05-23T21:51:24.015Z"
   },
   {
    "duration": 1277,
    "start_time": "2024-05-23T21:51:24.132Z"
   },
   {
    "duration": 93,
    "start_time": "2024-05-23T21:51:25.412Z"
   },
   {
    "duration": 39,
    "start_time": "2024-05-23T21:51:25.508Z"
   },
   {
    "duration": 8,
    "start_time": "2024-05-23T21:51:25.551Z"
   },
   {
    "duration": 99,
    "start_time": "2024-05-23T21:51:25.562Z"
   },
   {
    "duration": 7,
    "start_time": "2024-05-23T21:51:25.664Z"
   },
   {
    "duration": 7,
    "start_time": "2024-05-23T21:51:25.674Z"
   },
   {
    "duration": 9,
    "start_time": "2024-05-23T21:51:25.684Z"
   },
   {
    "duration": 9,
    "start_time": "2024-05-23T21:51:25.732Z"
   },
   {
    "duration": 27,
    "start_time": "2024-05-23T21:51:25.744Z"
   },
   {
    "duration": 14,
    "start_time": "2024-05-23T21:51:25.774Z"
   },
   {
    "duration": 3898,
    "start_time": "2024-05-23T21:51:25.791Z"
   },
   {
    "duration": 240,
    "start_time": "2024-05-23T21:51:29.692Z"
   },
   {
    "duration": 217,
    "start_time": "2024-05-23T21:51:29.936Z"
   },
   {
    "duration": 351,
    "start_time": "2024-05-23T21:51:30.162Z"
   },
   {
    "duration": 77,
    "start_time": "2024-05-23T21:51:30.517Z"
   },
   {
    "duration": 224,
    "start_time": "2024-05-23T21:51:30.597Z"
   },
   {
    "duration": 1381,
    "start_time": "2024-05-23T21:51:30.823Z"
   },
   {
    "duration": 8611,
    "start_time": "2024-05-23T21:51:32.207Z"
   },
   {
    "duration": 689,
    "start_time": "2024-05-23T21:51:40.821Z"
   },
   {
    "duration": 450,
    "start_time": "2024-05-23T21:51:41.513Z"
   },
   {
    "duration": 25,
    "start_time": "2024-05-23T21:51:41.966Z"
   },
   {
    "duration": 1381,
    "start_time": "2024-05-23T21:51:41.993Z"
   },
   {
    "duration": 24,
    "start_time": "2024-05-23T21:51:43.377Z"
   },
   {
    "duration": 375,
    "start_time": "2024-05-23T21:51:43.403Z"
   },
   {
    "duration": 10,
    "start_time": "2024-05-23T21:51:43.781Z"
   },
   {
    "duration": 56,
    "start_time": "2024-05-23T21:51:43.794Z"
   },
   {
    "duration": 4987,
    "start_time": "2024-05-23T21:51:43.854Z"
   },
   {
    "duration": 22,
    "start_time": "2024-05-23T21:51:48.843Z"
   },
   {
    "duration": 159,
    "start_time": "2024-05-23T21:51:48.868Z"
   },
   {
    "duration": 10,
    "start_time": "2024-05-23T21:57:03.650Z"
   },
   {
    "duration": 3,
    "start_time": "2024-05-23T21:57:27.834Z"
   },
   {
    "duration": 4820,
    "start_time": "2024-05-23T22:26:02.134Z"
   },
   {
    "duration": 3203,
    "start_time": "2024-05-23T22:27:34.220Z"
   },
   {
    "duration": 5,
    "start_time": "2024-05-23T22:45:03.735Z"
   },
   {
    "duration": 31,
    "start_time": "2024-05-23T22:45:12.974Z"
   },
   {
    "duration": 31,
    "start_time": "2024-05-23T22:45:55.708Z"
   },
   {
    "duration": 29,
    "start_time": "2024-05-23T22:46:24.896Z"
   },
   {
    "duration": 39,
    "start_time": "2024-05-23T22:47:59.255Z"
   },
   {
    "duration": 35,
    "start_time": "2024-05-23T22:49:38.035Z"
   },
   {
    "duration": 35,
    "start_time": "2024-05-23T22:49:57.575Z"
   },
   {
    "duration": 496,
    "start_time": "2024-05-23T22:53:52.226Z"
   },
   {
    "duration": 1347,
    "start_time": "2024-05-23T22:53:52.726Z"
   },
   {
    "duration": 218,
    "start_time": "2024-05-23T22:53:54.076Z"
   },
   {
    "duration": 70,
    "start_time": "2024-05-23T22:53:54.299Z"
   },
   {
    "duration": 163,
    "start_time": "2024-05-23T22:53:54.372Z"
   },
   {
    "duration": 19,
    "start_time": "2024-05-23T22:53:54.538Z"
   },
   {
    "duration": 187,
    "start_time": "2024-05-23T22:53:54.562Z"
   },
   {
    "duration": 170,
    "start_time": "2024-05-23T22:53:54.751Z"
   },
   {
    "duration": 52,
    "start_time": "2024-05-23T22:53:54.933Z"
   },
   {
    "duration": 41,
    "start_time": "2024-05-23T22:53:54.991Z"
   },
   {
    "duration": 7,
    "start_time": "2024-05-23T22:53:55.035Z"
   },
   {
    "duration": 28,
    "start_time": "2024-05-23T22:53:55.045Z"
   },
   {
    "duration": 57,
    "start_time": "2024-05-23T22:53:55.076Z"
   },
   {
    "duration": 16,
    "start_time": "2024-05-23T22:53:55.136Z"
   },
   {
    "duration": 11,
    "start_time": "2024-05-23T22:53:55.155Z"
   },
   {
    "duration": 16,
    "start_time": "2024-05-23T22:53:55.169Z"
   },
   {
    "duration": 50,
    "start_time": "2024-05-23T22:53:55.188Z"
   },
   {
    "duration": 1327,
    "start_time": "2024-05-23T22:53:55.241Z"
   },
   {
    "duration": 332,
    "start_time": "2024-05-23T22:53:56.570Z"
   },
   {
    "duration": 85,
    "start_time": "2024-05-23T22:53:56.905Z"
   },
   {
    "duration": 10,
    "start_time": "2024-05-23T22:53:56.993Z"
   },
   {
    "duration": 26,
    "start_time": "2024-05-23T22:53:57.006Z"
   },
   {
    "duration": 6,
    "start_time": "2024-05-23T22:53:57.035Z"
   },
   {
    "duration": 16,
    "start_time": "2024-05-23T22:53:57.043Z"
   },
   {
    "duration": 272,
    "start_time": "2024-05-23T22:53:57.062Z"
   },
   {
    "duration": 115,
    "start_time": "2024-05-23T22:53:57.337Z"
   },
   {
    "duration": 35,
    "start_time": "2024-05-23T22:53:57.457Z"
   },
   {
    "duration": 1269,
    "start_time": "2024-05-23T22:53:57.501Z"
   },
   {
    "duration": 103,
    "start_time": "2024-05-23T22:53:58.773Z"
   },
   {
    "duration": 21,
    "start_time": "2024-05-23T22:53:58.879Z"
   },
   {
    "duration": 31,
    "start_time": "2024-05-23T22:53:58.904Z"
   },
   {
    "duration": 74,
    "start_time": "2024-05-23T22:53:58.938Z"
   },
   {
    "duration": 19,
    "start_time": "2024-05-23T22:53:59.015Z"
   },
   {
    "duration": 7,
    "start_time": "2024-05-23T22:53:59.038Z"
   },
   {
    "duration": 9,
    "start_time": "2024-05-23T22:53:59.048Z"
   },
   {
    "duration": 9,
    "start_time": "2024-05-23T22:53:59.060Z"
   },
   {
    "duration": 74,
    "start_time": "2024-05-23T22:53:59.072Z"
   },
   {
    "duration": 13,
    "start_time": "2024-05-23T22:53:59.148Z"
   },
   {
    "duration": 273,
    "start_time": "2024-05-23T22:53:59.164Z"
   },
   {
    "duration": 293,
    "start_time": "2024-05-23T22:53:59.440Z"
   },
   {
    "duration": 224,
    "start_time": "2024-05-23T22:53:59.736Z"
   },
   {
    "duration": 333,
    "start_time": "2024-05-23T22:53:59.963Z"
   },
   {
    "duration": 77,
    "start_time": "2024-05-23T22:54:00.300Z"
   },
   {
    "duration": 230,
    "start_time": "2024-05-23T22:54:00.380Z"
   },
   {
    "duration": 1369,
    "start_time": "2024-05-23T22:54:00.614Z"
   },
   {
    "duration": 8567,
    "start_time": "2024-05-23T22:54:01.986Z"
   },
   {
    "duration": 646,
    "start_time": "2024-05-23T22:54:10.558Z"
   },
   {
    "duration": 360,
    "start_time": "2024-05-23T22:54:11.207Z"
   },
   {
    "duration": 24,
    "start_time": "2024-05-23T22:54:11.570Z"
   },
   {
    "duration": 1360,
    "start_time": "2024-05-23T22:54:11.597Z"
   },
   {
    "duration": 21,
    "start_time": "2024-05-23T22:54:12.960Z"
   },
   {
    "duration": 374,
    "start_time": "2024-05-23T22:54:12.984Z"
   },
   {
    "duration": 11,
    "start_time": "2024-05-23T22:54:13.361Z"
   },
   {
    "duration": 61,
    "start_time": "2024-05-23T22:54:13.374Z"
   },
   {
    "duration": 5285,
    "start_time": "2024-05-23T22:54:13.438Z"
   },
   {
    "duration": 4842,
    "start_time": "2024-05-23T22:54:18.733Z"
   },
   {
    "duration": 20,
    "start_time": "2024-05-23T22:54:23.578Z"
   },
   {
    "duration": 145,
    "start_time": "2024-05-23T22:54:23.601Z"
   },
   {
    "duration": 342,
    "start_time": "2024-05-24T13:09:33.376Z"
   },
   {
    "duration": 462,
    "start_time": "2024-05-24T13:09:56.357Z"
   },
   {
    "duration": 1441,
    "start_time": "2024-05-24T13:10:05.096Z"
   },
   {
    "duration": 103,
    "start_time": "2024-05-24T13:10:08.258Z"
   },
   {
    "duration": 242,
    "start_time": "2024-05-24T13:11:43.576Z"
   },
   {
    "duration": 102,
    "start_time": "2024-05-24T13:12:35.220Z"
   },
   {
    "duration": 229,
    "start_time": "2024-05-24T13:12:44.775Z"
   },
   {
    "duration": 207,
    "start_time": "2024-05-24T13:13:05.476Z"
   },
   {
    "duration": 27,
    "start_time": "2024-05-24T13:14:05.596Z"
   },
   {
    "duration": 61,
    "start_time": "2024-05-24T13:14:48.836Z"
   },
   {
    "duration": 25,
    "start_time": "2024-05-24T13:15:06.016Z"
   },
   {
    "duration": 456,
    "start_time": "2024-05-25T15:05:48.562Z"
   },
   {
    "duration": 1491,
    "start_time": "2024-05-25T15:05:49.022Z"
   },
   {
    "duration": 122,
    "start_time": "2024-05-25T15:06:06.360Z"
   },
   {
    "duration": 25,
    "start_time": "2024-05-25T15:06:07.662Z"
   },
   {
    "duration": 6,
    "start_time": "2024-05-25T15:08:42.712Z"
   },
   {
    "duration": 6,
    "start_time": "2024-05-25T15:09:10.890Z"
   },
   {
    "duration": 11,
    "start_time": "2024-05-25T15:09:55.970Z"
   },
   {
    "duration": 341,
    "start_time": "2024-05-25T15:11:13.732Z"
   },
   {
    "duration": 331,
    "start_time": "2024-05-25T15:11:24.213Z"
   },
   {
    "duration": 204,
    "start_time": "2024-05-25T15:11:28.790Z"
   },
   {
    "duration": 326,
    "start_time": "2024-05-25T15:12:09.160Z"
   },
   {
    "duration": 183,
    "start_time": "2024-05-25T15:12:20.692Z"
   },
   {
    "duration": 184,
    "start_time": "2024-05-25T15:14:33.540Z"
   },
   {
    "duration": 156,
    "start_time": "2024-05-25T15:14:34.492Z"
   },
   {
    "duration": 43,
    "start_time": "2024-05-25T15:14:35.453Z"
   },
   {
    "duration": 24,
    "start_time": "2024-05-25T15:31:11.152Z"
   },
   {
    "duration": 62,
    "start_time": "2024-05-25T15:31:25.765Z"
   },
   {
    "duration": 22,
    "start_time": "2024-05-25T15:31:53.592Z"
   },
   {
    "duration": 26,
    "start_time": "2024-05-25T15:31:58.832Z"
   },
   {
    "duration": 10,
    "start_time": "2024-05-25T15:32:31.814Z"
   },
   {
    "duration": 8,
    "start_time": "2024-05-25T15:32:36.423Z"
   },
   {
    "duration": 34,
    "start_time": "2024-05-25T15:34:12.212Z"
   },
   {
    "duration": 29,
    "start_time": "2024-05-25T15:34:22.370Z"
   },
   {
    "duration": 38,
    "start_time": "2024-05-25T15:34:27.357Z"
   },
   {
    "duration": 32,
    "start_time": "2024-05-25T15:34:55.942Z"
   },
   {
    "duration": 34,
    "start_time": "2024-05-25T15:35:03.502Z"
   },
   {
    "duration": 18,
    "start_time": "2024-05-25T15:37:07.984Z"
   },
   {
    "duration": 21,
    "start_time": "2024-05-25T15:37:17.892Z"
   },
   {
    "duration": 21,
    "start_time": "2024-05-25T15:37:33.045Z"
   },
   {
    "duration": 20,
    "start_time": "2024-05-25T15:45:58.062Z"
   },
   {
    "duration": 23,
    "start_time": "2024-05-25T15:50:10.942Z"
   },
   {
    "duration": 27,
    "start_time": "2024-05-25T15:51:32.422Z"
   },
   {
    "duration": 7,
    "start_time": "2024-05-25T15:51:48.622Z"
   },
   {
    "duration": 12,
    "start_time": "2024-05-25T15:52:42.370Z"
   },
   {
    "duration": 13,
    "start_time": "2024-05-25T15:55:26.054Z"
   },
   {
    "duration": 1309,
    "start_time": "2024-05-25T15:57:02.402Z"
   },
   {
    "duration": 1332,
    "start_time": "2024-05-25T15:58:16.562Z"
   },
   {
    "duration": 1329,
    "start_time": "2024-05-25T15:58:22.381Z"
   },
   {
    "duration": 1126,
    "start_time": "2024-05-25T16:08:23.624Z"
   },
   {
    "duration": 1535,
    "start_time": "2024-05-25T16:09:24.832Z"
   },
   {
    "duration": 2708,
    "start_time": "2024-05-25T16:10:22.973Z"
   },
   {
    "duration": 13,
    "start_time": "2024-05-25T16:18:51.253Z"
   },
   {
    "duration": 14,
    "start_time": "2024-05-25T16:19:03.691Z"
   },
   {
    "duration": 5,
    "start_time": "2024-05-25T16:19:07.512Z"
   },
   {
    "duration": 5,
    "start_time": "2024-05-25T16:20:27.900Z"
   },
   {
    "duration": 22,
    "start_time": "2024-05-25T16:20:30.542Z"
   },
   {
    "duration": 8,
    "start_time": "2024-05-25T16:22:17.782Z"
   },
   {
    "duration": 11,
    "start_time": "2024-05-25T16:22:24.392Z"
   },
   {
    "duration": 10,
    "start_time": "2024-05-25T16:22:35.357Z"
   },
   {
    "duration": 19,
    "start_time": "2024-05-25T16:25:05.211Z"
   },
   {
    "duration": 15,
    "start_time": "2024-05-25T16:25:18.633Z"
   },
   {
    "duration": 22,
    "start_time": "2024-05-25T16:26:31.580Z"
   },
   {
    "duration": 842,
    "start_time": "2024-05-25T16:26:37.280Z"
   },
   {
    "duration": 19,
    "start_time": "2024-05-25T16:28:31.102Z"
   },
   {
    "duration": 892,
    "start_time": "2024-05-25T16:28:54.862Z"
   },
   {
    "duration": 24,
    "start_time": "2024-05-25T16:29:39.572Z"
   },
   {
    "duration": 22,
    "start_time": "2024-05-25T16:30:19.090Z"
   },
   {
    "duration": 224,
    "start_time": "2024-05-25T16:35:32.890Z"
   },
   {
    "duration": 138,
    "start_time": "2024-05-25T16:35:48.671Z"
   },
   {
    "duration": 142,
    "start_time": "2024-05-25T16:36:15.412Z"
   },
   {
    "duration": 12,
    "start_time": "2024-05-25T16:36:45.382Z"
   },
   {
    "duration": 12,
    "start_time": "2024-05-25T16:37:07.342Z"
   },
   {
    "duration": 7,
    "start_time": "2024-05-25T16:37:46.732Z"
   },
   {
    "duration": 29,
    "start_time": "2024-05-25T16:38:21.541Z"
   },
   {
    "duration": 11,
    "start_time": "2024-05-25T16:39:07.583Z"
   },
   {
    "duration": 6,
    "start_time": "2024-05-25T16:40:23.932Z"
   },
   {
    "duration": 7,
    "start_time": "2024-05-25T16:40:32.030Z"
   },
   {
    "duration": 7,
    "start_time": "2024-05-25T16:40:43.946Z"
   },
   {
    "duration": 7,
    "start_time": "2024-05-25T16:41:28.024Z"
   },
   {
    "duration": 9,
    "start_time": "2024-05-25T16:42:06.700Z"
   },
   {
    "duration": 6,
    "start_time": "2024-05-25T16:42:18.902Z"
   },
   {
    "duration": 8,
    "start_time": "2024-05-25T16:45:49.762Z"
   },
   {
    "duration": 6,
    "start_time": "2024-05-25T16:45:56.322Z"
   },
   {
    "duration": 8,
    "start_time": "2024-05-25T16:46:01.371Z"
   },
   {
    "duration": 8,
    "start_time": "2024-05-25T16:46:34.350Z"
   },
   {
    "duration": 132,
    "start_time": "2024-05-25T16:48:17.632Z"
   },
   {
    "duration": 6,
    "start_time": "2024-05-25T16:48:24.052Z"
   },
   {
    "duration": 7,
    "start_time": "2024-05-25T16:48:29.312Z"
   },
   {
    "duration": 24,
    "start_time": "2024-05-25T16:49:58.083Z"
   },
   {
    "duration": 23,
    "start_time": "2024-05-25T16:50:02.844Z"
   },
   {
    "duration": 7,
    "start_time": "2024-05-25T16:50:07.312Z"
   },
   {
    "duration": 7,
    "start_time": "2024-05-25T16:50:18.073Z"
   },
   {
    "duration": 18,
    "start_time": "2024-05-25T16:50:26.982Z"
   },
   {
    "duration": 20,
    "start_time": "2024-05-25T16:51:02.802Z"
   },
   {
    "duration": 20,
    "start_time": "2024-05-25T16:51:33.792Z"
   },
   {
    "duration": 77,
    "start_time": "2024-05-25T16:51:44.920Z"
   },
   {
    "duration": 7,
    "start_time": "2024-05-25T16:51:49.220Z"
   },
   {
    "duration": 8,
    "start_time": "2024-05-25T16:52:08.650Z"
   },
   {
    "duration": 14,
    "start_time": "2024-05-25T16:52:43.741Z"
   },
   {
    "duration": 8,
    "start_time": "2024-05-25T16:52:53.952Z"
   },
   {
    "duration": 11,
    "start_time": "2024-05-25T17:21:48.060Z"
   },
   {
    "duration": 29,
    "start_time": "2024-05-25T17:24:28.992Z"
   },
   {
    "duration": 169,
    "start_time": "2024-05-25T17:24:47.362Z"
   },
   {
    "duration": 156,
    "start_time": "2024-05-25T17:24:49.992Z"
   },
   {
    "duration": 46,
    "start_time": "2024-05-25T17:24:52.306Z"
   },
   {
    "duration": 27,
    "start_time": "2024-05-25T17:28:52.952Z"
   },
   {
    "duration": 25,
    "start_time": "2024-05-25T17:28:59.560Z"
   },
   {
    "duration": 18,
    "start_time": "2024-05-25T17:30:22.570Z"
   },
   {
    "duration": 11,
    "start_time": "2024-05-25T17:30:30.362Z"
   },
   {
    "duration": 40,
    "start_time": "2024-05-25T17:33:19.232Z"
   },
   {
    "duration": 59,
    "start_time": "2024-05-25T17:33:34.550Z"
   },
   {
    "duration": 27,
    "start_time": "2024-05-25T17:34:28.512Z"
   },
   {
    "duration": 33,
    "start_time": "2024-05-25T17:34:42.080Z"
   },
   {
    "duration": 49,
    "start_time": "2024-05-25T17:34:57.106Z"
   },
   {
    "duration": 43,
    "start_time": "2024-05-25T17:35:02.510Z"
   },
   {
    "duration": 35,
    "start_time": "2024-05-25T17:35:11.020Z"
   },
   {
    "duration": 35,
    "start_time": "2024-05-25T17:35:41.822Z"
   },
   {
    "duration": 24,
    "start_time": "2024-05-25T17:44:00.851Z"
   },
   {
    "duration": 43,
    "start_time": "2024-05-25T17:44:25.290Z"
   },
   {
    "duration": 23,
    "start_time": "2024-05-25T17:46:04.984Z"
   },
   {
    "duration": 47,
    "start_time": "2024-05-25T17:46:14.732Z"
   },
   {
    "duration": 41,
    "start_time": "2024-05-25T17:52:49.262Z"
   },
   {
    "duration": 4,
    "start_time": "2024-05-25T17:56:32.762Z"
   },
   {
    "duration": 54,
    "start_time": "2024-05-25T17:56:55.293Z"
   },
   {
    "duration": 49,
    "start_time": "2024-05-25T17:56:58.602Z"
   },
   {
    "duration": 59,
    "start_time": "2024-05-25T17:57:07.592Z"
   },
   {
    "duration": 93,
    "start_time": "2024-05-25T18:04:27.939Z"
   },
   {
    "duration": 71,
    "start_time": "2024-05-25T18:05:50.292Z"
   },
   {
    "duration": 93,
    "start_time": "2024-05-25T18:07:24.542Z"
   },
   {
    "duration": 75,
    "start_time": "2024-05-25T18:07:40.040Z"
   },
   {
    "duration": 73,
    "start_time": "2024-05-25T18:07:45.582Z"
   },
   {
    "duration": 74,
    "start_time": "2024-05-25T18:07:50.662Z"
   },
   {
    "duration": 7,
    "start_time": "2024-05-25T18:09:14.062Z"
   },
   {
    "duration": 73,
    "start_time": "2024-05-25T18:09:17.681Z"
   },
   {
    "duration": 31,
    "start_time": "2024-05-25T18:10:24.102Z"
   },
   {
    "duration": 37,
    "start_time": "2024-05-25T18:36:31.632Z"
   },
   {
    "duration": 38,
    "start_time": "2024-05-25T18:36:42.440Z"
   },
   {
    "duration": 3921,
    "start_time": "2024-05-25T18:37:07.712Z"
   },
   {
    "duration": 482,
    "start_time": "2024-05-25T18:37:32.206Z"
   },
   {
    "duration": 334,
    "start_time": "2024-05-25T18:41:05.042Z"
   },
   {
    "duration": 352,
    "start_time": "2024-05-25T18:41:22.822Z"
   },
   {
    "duration": 251,
    "start_time": "2024-05-25T18:41:31.428Z"
   },
   {
    "duration": 249,
    "start_time": "2024-05-25T18:41:40.550Z"
   },
   {
    "duration": 41,
    "start_time": "2024-05-25T18:48:46.592Z"
   },
   {
    "duration": 239,
    "start_time": "2024-05-25T18:48:55.163Z"
   },
   {
    "duration": 246,
    "start_time": "2024-05-25T18:48:58.030Z"
   },
   {
    "duration": 388,
    "start_time": "2024-05-25T18:49:04.212Z"
   },
   {
    "duration": 443,
    "start_time": "2024-05-25T18:53:00.402Z"
   },
   {
    "duration": 63,
    "start_time": "2024-05-25T18:55:08.842Z"
   },
   {
    "duration": 71,
    "start_time": "2024-05-25T18:55:23.862Z"
   },
   {
    "duration": 78,
    "start_time": "2024-05-25T18:55:29.412Z"
   },
   {
    "duration": 282,
    "start_time": "2024-05-25T19:33:00.825Z"
   },
   {
    "duration": 277,
    "start_time": "2024-05-25T19:33:54.938Z"
   },
   {
    "duration": 65,
    "start_time": "2024-05-25T19:37:45.234Z"
   },
   {
    "duration": 356,
    "start_time": "2024-05-25T19:39:59.060Z"
   },
   {
    "duration": 323,
    "start_time": "2024-05-25T19:40:05.082Z"
   },
   {
    "duration": 311,
    "start_time": "2024-05-25T19:40:17.783Z"
   },
   {
    "duration": 325,
    "start_time": "2024-05-25T19:40:36.963Z"
   },
   {
    "duration": 492,
    "start_time": "2024-05-25T19:40:51.562Z"
   },
   {
    "duration": 322,
    "start_time": "2024-05-25T19:40:57.960Z"
   },
   {
    "duration": 341,
    "start_time": "2024-05-25T19:41:10.882Z"
   },
   {
    "duration": 30,
    "start_time": "2024-05-25T19:47:51.740Z"
   },
   {
    "duration": 652,
    "start_time": "2024-05-25T19:47:56.971Z"
   },
   {
    "duration": 2807,
    "start_time": "2024-05-25T19:47:58.961Z"
   },
   {
    "duration": 2249,
    "start_time": "2024-05-25T19:48:10.586Z"
   },
   {
    "duration": 2130,
    "start_time": "2024-05-25T19:48:30.790Z"
   },
   {
    "duration": 2273,
    "start_time": "2024-05-25T19:48:52.618Z"
   },
   {
    "duration": 644,
    "start_time": "2024-05-25T19:49:06.690Z"
   },
   {
    "duration": 2154,
    "start_time": "2024-05-25T19:49:10.665Z"
   },
   {
    "duration": 326,
    "start_time": "2024-05-25T19:49:53.652Z"
   },
   {
    "duration": 1217,
    "start_time": "2024-05-25T19:50:08.692Z"
   },
   {
    "duration": 1117,
    "start_time": "2024-05-25T19:50:23.080Z"
   },
   {
    "duration": 969,
    "start_time": "2024-05-25T19:50:28.222Z"
   },
   {
    "duration": 1050,
    "start_time": "2024-05-25T19:50:39.342Z"
   },
   {
    "duration": 312,
    "start_time": "2024-05-25T19:50:44.662Z"
   },
   {
    "duration": 359,
    "start_time": "2024-05-25T19:54:42.082Z"
   },
   {
    "duration": 1065,
    "start_time": "2024-05-25T19:54:50.312Z"
   },
   {
    "duration": 548,
    "start_time": "2024-05-25T19:54:56.100Z"
   },
   {
    "duration": 332,
    "start_time": "2024-05-25T19:55:07.743Z"
   },
   {
    "duration": 336,
    "start_time": "2024-05-25T19:55:15.282Z"
   },
   {
    "duration": 345,
    "start_time": "2024-05-25T19:55:19.860Z"
   },
   {
    "duration": 1120,
    "start_time": "2024-05-25T19:55:29.271Z"
   },
   {
    "duration": 454,
    "start_time": "2024-05-25T19:55:38.491Z"
   },
   {
    "duration": 347,
    "start_time": "2024-05-25T19:55:43.013Z"
   },
   {
    "duration": 22,
    "start_time": "2024-05-25T20:04:17.245Z"
   },
   {
    "duration": 22,
    "start_time": "2024-05-25T20:04:30.572Z"
   },
   {
    "duration": 8315,
    "start_time": "2024-05-25T20:04:41.174Z"
   },
   {
    "duration": 25,
    "start_time": "2024-05-25T20:04:57.162Z"
   },
   {
    "duration": 14,
    "start_time": "2024-05-25T20:05:03.591Z"
   },
   {
    "duration": 9,
    "start_time": "2024-05-25T20:10:07.012Z"
   },
   {
    "duration": 31,
    "start_time": "2024-05-25T20:10:22.298Z"
   },
   {
    "duration": 379,
    "start_time": "2024-05-25T20:10:27.072Z"
   },
   {
    "duration": 893,
    "start_time": "2024-05-25T20:10:29.752Z"
   },
   {
    "duration": 513,
    "start_time": "2024-05-25T20:10:45.132Z"
   },
   {
    "duration": 539,
    "start_time": "2024-05-25T20:12:45.544Z"
   },
   {
    "duration": 161,
    "start_time": "2024-05-25T20:32:39.562Z"
   },
   {
    "duration": 4316,
    "start_time": "2024-05-26T03:24:21.786Z"
   },
   {
    "duration": 1358,
    "start_time": "2024-05-26T03:24:26.105Z"
   },
   {
    "duration": 251,
    "start_time": "2024-05-26T03:24:27.466Z"
   },
   {
    "duration": 106,
    "start_time": "2024-05-26T03:24:27.730Z"
   },
   {
    "duration": 25,
    "start_time": "2024-05-26T03:24:27.839Z"
   },
   {
    "duration": 25,
    "start_time": "2024-05-26T03:24:27.867Z"
   },
   {
    "duration": 193,
    "start_time": "2024-05-26T03:24:27.895Z"
   },
   {
    "duration": 20,
    "start_time": "2024-05-26T03:24:28.090Z"
   },
   {
    "duration": 186,
    "start_time": "2024-05-26T03:24:28.113Z"
   },
   {
    "duration": 163,
    "start_time": "2024-05-26T03:24:28.304Z"
   },
   {
    "duration": 45,
    "start_time": "2024-05-26T03:24:28.471Z"
   },
   {
    "duration": 28,
    "start_time": "2024-05-26T03:24:28.532Z"
   },
   {
    "duration": 7,
    "start_time": "2024-05-26T03:24:28.563Z"
   },
   {
    "duration": 69,
    "start_time": "2024-05-26T03:24:28.574Z"
   },
   {
    "duration": 19,
    "start_time": "2024-05-26T03:24:28.646Z"
   },
   {
    "duration": 12,
    "start_time": "2024-05-26T03:24:28.669Z"
   },
   {
    "duration": 52,
    "start_time": "2024-05-26T03:24:28.684Z"
   },
   {
    "duration": 1340,
    "start_time": "2024-05-26T03:24:28.738Z"
   },
   {
    "duration": 2600,
    "start_time": "2024-05-26T03:24:30.081Z"
   },
   {
    "duration": 11,
    "start_time": "2024-05-26T03:24:32.684Z"
   },
   {
    "duration": 34,
    "start_time": "2024-05-26T03:24:32.698Z"
   },
   {
    "duration": 6,
    "start_time": "2024-05-26T03:24:32.736Z"
   },
   {
    "duration": 8,
    "start_time": "2024-05-26T03:24:32.746Z"
   },
   {
    "duration": 6,
    "start_time": "2024-05-26T03:24:32.758Z"
   },
   {
    "duration": 12,
    "start_time": "2024-05-26T03:24:32.768Z"
   },
   {
    "duration": 77,
    "start_time": "2024-05-26T03:24:32.783Z"
   },
   {
    "duration": 70,
    "start_time": "2024-05-26T03:24:32.862Z"
   },
   {
    "duration": 36,
    "start_time": "2024-05-26T03:24:32.943Z"
   },
   {
    "duration": 79,
    "start_time": "2024-05-26T03:24:32.981Z"
   },
   {
    "duration": 103,
    "start_time": "2024-05-26T03:24:33.064Z"
   },
   {
    "duration": 9,
    "start_time": "2024-05-26T03:24:33.171Z"
   },
   {
    "duration": 99,
    "start_time": "2024-05-26T03:24:33.184Z"
   },
   {
    "duration": 6,
    "start_time": "2024-05-26T03:24:33.286Z"
   },
   {
    "duration": 6,
    "start_time": "2024-05-26T03:24:33.295Z"
   },
   {
    "duration": 391,
    "start_time": "2024-05-26T03:24:33.332Z"
   },
   {
    "duration": 307,
    "start_time": "2024-05-26T03:24:33.731Z"
   },
   {
    "duration": 29,
    "start_time": "2024-05-26T03:24:34.041Z"
   },
   {
    "duration": 14,
    "start_time": "2024-05-26T03:24:34.073Z"
   },
   {
    "duration": 40,
    "start_time": "2024-05-26T03:24:34.090Z"
   },
   {
    "duration": 235,
    "start_time": "2024-05-26T03:24:34.133Z"
   },
   {
    "duration": 217,
    "start_time": "2024-05-26T03:24:34.372Z"
   },
   {
    "duration": 460,
    "start_time": "2024-05-26T03:24:34.591Z"
   },
   {
    "duration": 82,
    "start_time": "2024-05-26T03:24:35.055Z"
   },
   {
    "duration": 334,
    "start_time": "2024-05-26T03:24:35.140Z"
   },
   {
    "duration": 1329,
    "start_time": "2024-05-26T03:24:35.477Z"
   },
   {
    "duration": 8610,
    "start_time": "2024-05-26T03:24:36.809Z"
   },
   {
    "duration": 679,
    "start_time": "2024-05-26T03:24:45.423Z"
   },
   {
    "duration": 369,
    "start_time": "2024-05-26T03:24:46.105Z"
   },
   {
    "duration": 23,
    "start_time": "2024-05-26T03:24:46.478Z"
   },
   {
    "duration": 1358,
    "start_time": "2024-05-26T03:24:46.504Z"
   },
   {
    "duration": 16,
    "start_time": "2024-05-26T03:24:47.866Z"
   },
   {
    "duration": 385,
    "start_time": "2024-05-26T03:24:47.885Z"
   },
   {
    "duration": 526,
    "start_time": "2024-05-26T03:24:48.273Z"
   },
   {
    "duration": 53,
    "start_time": "2024-05-26T03:24:48.802Z"
   },
   {
    "duration": 315,
    "start_time": "2024-05-26T04:04:04.816Z"
   },
   {
    "duration": 683,
    "start_time": "2024-05-26T04:04:28.949Z"
   },
   {
    "duration": 1477,
    "start_time": "2024-05-26T04:04:29.636Z"
   },
   {
    "duration": 247,
    "start_time": "2024-05-26T04:04:31.116Z"
   },
   {
    "duration": 107,
    "start_time": "2024-05-26T04:04:31.367Z"
   },
   {
    "duration": 25,
    "start_time": "2024-05-26T04:04:31.477Z"
   },
   {
    "duration": 39,
    "start_time": "2024-05-26T04:04:31.505Z"
   },
   {
    "duration": 170,
    "start_time": "2024-05-26T04:04:31.547Z"
   },
   {
    "duration": 28,
    "start_time": "2024-05-26T04:04:31.719Z"
   },
   {
    "duration": 212,
    "start_time": "2024-05-26T04:04:31.750Z"
   },
   {
    "duration": 213,
    "start_time": "2024-05-26T04:04:31.969Z"
   },
   {
    "duration": 53,
    "start_time": "2024-05-26T04:04:32.185Z"
   },
   {
    "duration": 23,
    "start_time": "2024-05-26T04:04:32.241Z"
   },
   {
    "duration": 9,
    "start_time": "2024-05-26T04:04:32.267Z"
   },
   {
    "duration": 65,
    "start_time": "2024-05-26T04:04:32.279Z"
   },
   {
    "duration": 20,
    "start_time": "2024-05-26T04:04:32.347Z"
   },
   {
    "duration": 635,
    "start_time": "2024-05-26T04:04:34.662Z"
   },
   {
    "duration": 25,
    "start_time": "2024-05-26T04:05:13.875Z"
   },
   {
    "duration": 41,
    "start_time": "2024-05-26T04:05:54.409Z"
   },
   {
    "duration": 40,
    "start_time": "2024-05-26T05:34:06.727Z"
   },
   {
    "duration": 58,
    "start_time": "2024-05-26T05:36:24.262Z"
   },
   {
    "duration": 6,
    "start_time": "2024-05-26T05:37:47.665Z"
   },
   {
    "duration": 8,
    "start_time": "2024-05-26T05:37:47.896Z"
   },
   {
    "duration": 378,
    "start_time": "2024-05-26T05:37:49.937Z"
   },
   {
    "duration": 262,
    "start_time": "2024-05-26T05:39:18.777Z"
   },
   {
    "duration": 29,
    "start_time": "2024-05-26T05:39:21.387Z"
   },
   {
    "duration": 14,
    "start_time": "2024-05-26T05:39:23.551Z"
   },
   {
    "duration": 31,
    "start_time": "2024-05-26T05:43:48.553Z"
   },
   {
    "duration": 667,
    "start_time": "2024-05-26T05:44:02.685Z"
   },
   {
    "duration": 1330,
    "start_time": "2024-05-26T05:44:03.355Z"
   },
   {
    "duration": 231,
    "start_time": "2024-05-26T05:44:04.689Z"
   },
   {
    "duration": 72,
    "start_time": "2024-05-26T05:44:04.923Z"
   },
   {
    "duration": 54,
    "start_time": "2024-05-26T05:44:04.999Z"
   },
   {
    "duration": 22,
    "start_time": "2024-05-26T05:44:05.056Z"
   },
   {
    "duration": 197,
    "start_time": "2024-05-26T05:44:05.082Z"
   },
   {
    "duration": 20,
    "start_time": "2024-05-26T05:44:05.282Z"
   },
   {
    "duration": 211,
    "start_time": "2024-05-26T05:44:05.305Z"
   },
   {
    "duration": 199,
    "start_time": "2024-05-26T05:44:05.530Z"
   },
   {
    "duration": 50,
    "start_time": "2024-05-26T05:44:05.732Z"
   },
   {
    "duration": 53,
    "start_time": "2024-05-26T05:44:05.786Z"
   },
   {
    "duration": 7,
    "start_time": "2024-05-26T05:44:05.842Z"
   },
   {
    "duration": 33,
    "start_time": "2024-05-26T05:44:05.852Z"
   },
   {
    "duration": 60,
    "start_time": "2024-05-26T05:44:05.889Z"
   },
   {
    "duration": 50,
    "start_time": "2024-05-26T05:44:05.952Z"
   },
   {
    "duration": 15,
    "start_time": "2024-05-26T05:44:06.033Z"
   },
   {
    "duration": 15,
    "start_time": "2024-05-26T05:44:06.052Z"
   },
   {
    "duration": 1386,
    "start_time": "2024-05-26T05:44:06.070Z"
   },
   {
    "duration": 2627,
    "start_time": "2024-05-26T05:44:07.459Z"
   },
   {
    "duration": 11,
    "start_time": "2024-05-26T05:44:10.089Z"
   },
   {
    "duration": 36,
    "start_time": "2024-05-26T05:44:10.103Z"
   },
   {
    "duration": 8,
    "start_time": "2024-05-26T05:44:10.142Z"
   },
   {
    "duration": 10,
    "start_time": "2024-05-26T05:44:10.153Z"
   },
   {
    "duration": 11,
    "start_time": "2024-05-26T05:44:10.166Z"
   },
   {
    "duration": 59,
    "start_time": "2024-05-26T05:44:10.180Z"
   },
   {
    "duration": 34,
    "start_time": "2024-05-26T05:44:10.242Z"
   },
   {
    "duration": 64,
    "start_time": "2024-05-26T05:44:10.284Z"
   },
   {
    "duration": 38,
    "start_time": "2024-05-26T05:44:10.351Z"
   },
   {
    "duration": 50,
    "start_time": "2024-05-26T05:44:10.431Z"
   },
   {
    "duration": 112,
    "start_time": "2024-05-26T05:44:10.485Z"
   },
   {
    "duration": 8,
    "start_time": "2024-05-26T05:44:10.600Z"
   },
   {
    "duration": 76,
    "start_time": "2024-05-26T05:44:10.630Z"
   },
   {
    "duration": 23,
    "start_time": "2024-05-26T05:44:10.708Z"
   },
   {
    "duration": 6,
    "start_time": "2024-05-26T05:44:10.734Z"
   },
   {
    "duration": 415,
    "start_time": "2024-05-26T05:44:10.743Z"
   },
   {
    "duration": 264,
    "start_time": "2024-05-26T05:44:11.162Z"
   },
   {
    "duration": 28,
    "start_time": "2024-05-26T05:44:11.429Z"
   },
   {
    "duration": 14,
    "start_time": "2024-05-26T05:44:11.461Z"
   },
   {
    "duration": 4,
    "start_time": "2024-05-26T05:44:11.478Z"
   },
   {
    "duration": 276,
    "start_time": "2024-05-26T05:44:11.485Z"
   },
   {
    "duration": 228,
    "start_time": "2024-05-26T05:44:11.765Z"
   },
   {
    "duration": 487,
    "start_time": "2024-05-26T05:44:11.996Z"
   },
   {
    "duration": 80,
    "start_time": "2024-05-26T05:44:12.487Z"
   },
   {
    "duration": 342,
    "start_time": "2024-05-26T05:44:12.570Z"
   },
   {
    "duration": 1332,
    "start_time": "2024-05-26T05:44:12.915Z"
   },
   {
    "duration": 315,
    "start_time": "2024-05-26T05:46:08.308Z"
   },
   {
    "duration": 690,
    "start_time": "2024-05-26T05:46:27.454Z"
   },
   {
    "duration": 1558,
    "start_time": "2024-05-26T05:46:28.148Z"
   },
   {
    "duration": 258,
    "start_time": "2024-05-26T05:46:29.709Z"
   },
   {
    "duration": 110,
    "start_time": "2024-05-26T05:46:29.972Z"
   },
   {
    "duration": 46,
    "start_time": "2024-05-26T05:46:30.085Z"
   },
   {
    "duration": 23,
    "start_time": "2024-05-26T05:46:30.134Z"
   },
   {
    "duration": 198,
    "start_time": "2024-05-26T05:46:30.160Z"
   },
   {
    "duration": 22,
    "start_time": "2024-05-26T05:46:30.361Z"
   },
   {
    "duration": 206,
    "start_time": "2024-05-26T05:46:30.386Z"
   },
   {
    "duration": 182,
    "start_time": "2024-05-26T05:46:30.599Z"
   },
   {
    "duration": 59,
    "start_time": "2024-05-26T05:46:30.783Z"
   },
   {
    "duration": 23,
    "start_time": "2024-05-26T05:46:30.845Z"
   },
   {
    "duration": 7,
    "start_time": "2024-05-26T05:46:30.871Z"
   },
   {
    "duration": 69,
    "start_time": "2024-05-26T05:46:30.880Z"
   },
   {
    "duration": 21,
    "start_time": "2024-05-26T05:46:30.952Z"
   },
   {
    "duration": 76,
    "start_time": "2024-05-26T05:46:30.976Z"
   },
   {
    "duration": 21,
    "start_time": "2024-05-26T05:46:31.056Z"
   },
   {
    "duration": 16,
    "start_time": "2024-05-26T05:46:31.081Z"
   },
   {
    "duration": 1392,
    "start_time": "2024-05-26T05:46:31.132Z"
   },
   {
    "duration": 2601,
    "start_time": "2024-05-26T05:46:32.531Z"
   },
   {
    "duration": 10,
    "start_time": "2024-05-26T05:46:35.135Z"
   },
   {
    "duration": 12,
    "start_time": "2024-05-26T05:46:35.149Z"
   },
   {
    "duration": 6,
    "start_time": "2024-05-26T05:46:35.164Z"
   },
   {
    "duration": 61,
    "start_time": "2024-05-26T05:46:35.172Z"
   },
   {
    "duration": 7,
    "start_time": "2024-05-26T05:46:35.237Z"
   },
   {
    "duration": 13,
    "start_time": "2024-05-26T05:46:35.247Z"
   },
   {
    "duration": 77,
    "start_time": "2024-05-26T05:46:35.262Z"
   },
   {
    "duration": 35,
    "start_time": "2024-05-26T05:46:35.346Z"
   },
   {
    "duration": 70,
    "start_time": "2024-05-26T05:46:35.384Z"
   },
   {
    "duration": 72,
    "start_time": "2024-05-26T05:46:35.458Z"
   },
   {
    "duration": 102,
    "start_time": "2024-05-26T05:46:35.533Z"
   },
   {
    "duration": 17,
    "start_time": "2024-05-26T05:46:35.640Z"
   },
   {
    "duration": 103,
    "start_time": "2024-05-26T05:46:35.661Z"
   },
   {
    "duration": 6,
    "start_time": "2024-05-26T05:46:35.767Z"
   },
   {
    "duration": 7,
    "start_time": "2024-05-26T05:46:35.776Z"
   },
   {
    "duration": 422,
    "start_time": "2024-05-26T05:46:35.786Z"
   },
   {
    "duration": 269,
    "start_time": "2024-05-26T05:46:36.211Z"
   },
   {
    "duration": 51,
    "start_time": "2024-05-26T05:46:36.483Z"
   },
   {
    "duration": 14,
    "start_time": "2024-05-26T05:46:36.537Z"
   },
   {
    "duration": 4,
    "start_time": "2024-05-26T05:46:36.553Z"
   },
   {
    "duration": 253,
    "start_time": "2024-05-26T05:46:36.560Z"
   },
   {
    "duration": 221,
    "start_time": "2024-05-26T05:46:36.816Z"
   },
   {
    "duration": 441,
    "start_time": "2024-05-26T05:46:37.040Z"
   },
   {
    "duration": 82,
    "start_time": "2024-05-26T05:46:37.484Z"
   },
   {
    "duration": 337,
    "start_time": "2024-05-26T05:46:37.569Z"
   },
   {
    "duration": 686,
    "start_time": "2024-05-26T05:48:23.454Z"
   },
   {
    "duration": 1475,
    "start_time": "2024-05-26T05:48:24.143Z"
   },
   {
    "duration": 258,
    "start_time": "2024-05-26T05:48:25.621Z"
   },
   {
    "duration": 110,
    "start_time": "2024-05-26T05:48:25.882Z"
   },
   {
    "duration": 39,
    "start_time": "2024-05-26T05:48:25.998Z"
   },
   {
    "duration": 31,
    "start_time": "2024-05-26T05:48:26.041Z"
   },
   {
    "duration": 192,
    "start_time": "2024-05-26T05:48:26.076Z"
   },
   {
    "duration": 20,
    "start_time": "2024-05-26T05:48:26.271Z"
   },
   {
    "duration": 201,
    "start_time": "2024-05-26T05:48:26.294Z"
   },
   {
    "duration": 174,
    "start_time": "2024-05-26T05:48:26.497Z"
   },
   {
    "duration": 56,
    "start_time": "2024-05-26T05:48:26.674Z"
   },
   {
    "duration": 23,
    "start_time": "2024-05-26T05:48:26.734Z"
   },
   {
    "duration": 8,
    "start_time": "2024-05-26T05:48:26.759Z"
   },
   {
    "duration": 68,
    "start_time": "2024-05-26T05:48:26.774Z"
   },
   {
    "duration": 19,
    "start_time": "2024-05-26T05:48:26.845Z"
   },
   {
    "duration": 74,
    "start_time": "2024-05-26T05:48:26.867Z"
   },
   {
    "duration": 12,
    "start_time": "2024-05-26T05:48:26.944Z"
   },
   {
    "duration": 14,
    "start_time": "2024-05-26T05:48:26.959Z"
   },
   {
    "duration": 1347,
    "start_time": "2024-05-26T05:48:26.975Z"
   },
   {
    "duration": 2601,
    "start_time": "2024-05-26T05:48:28.332Z"
   },
   {
    "duration": 11,
    "start_time": "2024-05-26T05:48:30.936Z"
   },
   {
    "duration": 11,
    "start_time": "2024-05-26T05:48:30.950Z"
   },
   {
    "duration": 5,
    "start_time": "2024-05-26T05:48:30.964Z"
   },
   {
    "duration": 58,
    "start_time": "2024-05-26T05:48:30.972Z"
   },
   {
    "duration": 7,
    "start_time": "2024-05-26T05:48:31.034Z"
   },
   {
    "duration": 12,
    "start_time": "2024-05-26T05:48:31.044Z"
   },
   {
    "duration": 75,
    "start_time": "2024-05-26T05:48:31.060Z"
   },
   {
    "duration": 38,
    "start_time": "2024-05-26T05:48:31.138Z"
   },
   {
    "duration": 73,
    "start_time": "2024-05-26T05:48:31.179Z"
   },
   {
    "duration": 76,
    "start_time": "2024-05-26T05:48:31.255Z"
   },
   {
    "duration": 101,
    "start_time": "2024-05-26T05:48:31.334Z"
   },
   {
    "duration": 8,
    "start_time": "2024-05-26T05:48:31.438Z"
   },
   {
    "duration": 110,
    "start_time": "2024-05-26T05:48:31.449Z"
   },
   {
    "duration": 7,
    "start_time": "2024-05-26T05:48:31.563Z"
   },
   {
    "duration": 8,
    "start_time": "2024-05-26T05:48:31.574Z"
   },
   {
    "duration": 440,
    "start_time": "2024-05-26T05:48:31.585Z"
   },
   {
    "duration": 265,
    "start_time": "2024-05-26T05:48:32.038Z"
   },
   {
    "duration": 42,
    "start_time": "2024-05-26T05:48:32.306Z"
   },
   {
    "duration": 14,
    "start_time": "2024-05-26T05:48:32.350Z"
   },
   {
    "duration": 6,
    "start_time": "2024-05-26T05:48:32.368Z"
   },
   {
    "duration": 260,
    "start_time": "2024-05-26T05:48:32.385Z"
   },
   {
    "duration": 242,
    "start_time": "2024-05-26T05:48:32.649Z"
   },
   {
    "duration": 451,
    "start_time": "2024-05-26T05:48:32.893Z"
   },
   {
    "duration": 84,
    "start_time": "2024-05-26T05:48:33.348Z"
   },
   {
    "duration": 337,
    "start_time": "2024-05-26T05:48:33.435Z"
   },
   {
    "duration": 632,
    "start_time": "2024-05-26T05:48:53.290Z"
   },
   {
    "duration": 356,
    "start_time": "2024-05-26T05:48:53.930Z"
   },
   {
    "duration": 418,
    "start_time": "2024-05-26T05:48:56.534Z"
   },
   {
    "duration": 25,
    "start_time": "2024-05-26T05:48:57.009Z"
   },
   {
    "duration": 22,
    "start_time": "2024-05-26T05:49:13.886Z"
   },
   {
    "duration": 28,
    "start_time": "2024-05-26T05:49:14.116Z"
   },
   {
    "duration": 28,
    "start_time": "2024-05-26T05:49:14.362Z"
   },
   {
    "duration": 34,
    "start_time": "2024-05-26T05:49:16.834Z"
   },
   {
    "duration": 26,
    "start_time": "2024-05-26T05:49:17.076Z"
   },
   {
    "duration": 24,
    "start_time": "2024-05-26T05:49:17.562Z"
   },
   {
    "duration": 22,
    "start_time": "2024-05-26T05:49:18.393Z"
   },
   {
    "duration": 24,
    "start_time": "2024-05-26T05:49:19.165Z"
   },
   {
    "duration": 924,
    "start_time": "2024-05-26T05:50:28.796Z"
   },
   {
    "duration": 641,
    "start_time": "2024-05-26T05:50:35.848Z"
   },
   {
    "duration": 356,
    "start_time": "2024-05-26T05:50:36.492Z"
   },
   {
    "duration": 19,
    "start_time": "2024-05-26T05:50:37.164Z"
   },
   {
    "duration": 1083,
    "start_time": "2024-05-26T05:50:37.402Z"
   },
   {
    "duration": 13,
    "start_time": "2024-05-26T05:50:38.492Z"
   },
   {
    "duration": 371,
    "start_time": "2024-05-26T05:50:38.763Z"
   },
   {
    "duration": 511,
    "start_time": "2024-05-26T05:50:39.137Z"
   },
   {
    "duration": 37,
    "start_time": "2024-05-26T05:50:40.079Z"
   },
   {
    "duration": 338,
    "start_time": "2024-05-26T05:50:44.131Z"
   },
   {
    "duration": 0,
    "start_time": "2024-05-26T05:50:44.473Z"
   },
   {
    "duration": 0,
    "start_time": "2024-05-26T05:50:44.474Z"
   },
   {
    "duration": 847,
    "start_time": "2024-05-26T05:52:27.524Z"
   },
   {
    "duration": 1505,
    "start_time": "2024-05-26T05:52:28.375Z"
   },
   {
    "duration": 261,
    "start_time": "2024-05-26T05:52:29.885Z"
   },
   {
    "duration": 115,
    "start_time": "2024-05-26T05:52:30.151Z"
   },
   {
    "duration": 34,
    "start_time": "2024-05-26T05:52:30.270Z"
   },
   {
    "duration": 43,
    "start_time": "2024-05-26T05:52:30.311Z"
   },
   {
    "duration": 226,
    "start_time": "2024-05-26T05:52:30.363Z"
   },
   {
    "duration": 39,
    "start_time": "2024-05-26T05:52:30.595Z"
   },
   {
    "duration": 221,
    "start_time": "2024-05-26T05:52:30.639Z"
   },
   {
    "duration": 200,
    "start_time": "2024-05-26T05:52:30.868Z"
   },
   {
    "duration": 63,
    "start_time": "2024-05-26T05:52:31.072Z"
   },
   {
    "duration": 33,
    "start_time": "2024-05-26T05:52:31.139Z"
   },
   {
    "duration": 10,
    "start_time": "2024-05-26T05:52:31.178Z"
   },
   {
    "duration": 68,
    "start_time": "2024-05-26T05:52:31.192Z"
   },
   {
    "duration": 30,
    "start_time": "2024-05-26T05:52:31.265Z"
   },
   {
    "duration": 75,
    "start_time": "2024-05-26T05:52:31.298Z"
   },
   {
    "duration": 18,
    "start_time": "2024-05-26T05:52:31.382Z"
   },
   {
    "duration": 40,
    "start_time": "2024-05-26T05:52:31.405Z"
   },
   {
    "duration": 1638,
    "start_time": "2024-05-26T05:52:31.448Z"
   },
   {
    "duration": 2953,
    "start_time": "2024-05-26T05:52:33.090Z"
   },
   {
    "duration": 15,
    "start_time": "2024-05-26T05:52:36.047Z"
   },
   {
    "duration": 12,
    "start_time": "2024-05-26T05:52:36.066Z"
   },
   {
    "duration": 9,
    "start_time": "2024-05-26T05:52:36.080Z"
   },
   {
    "duration": 47,
    "start_time": "2024-05-26T05:52:36.093Z"
   },
   {
    "duration": 21,
    "start_time": "2024-05-26T05:52:36.142Z"
   },
   {
    "duration": 13,
    "start_time": "2024-05-26T05:52:36.167Z"
   },
   {
    "duration": 71,
    "start_time": "2024-05-26T05:52:36.183Z"
   },
   {
    "duration": 72,
    "start_time": "2024-05-26T05:52:36.261Z"
   },
   {
    "duration": 47,
    "start_time": "2024-05-26T05:52:36.337Z"
   },
   {
    "duration": 90,
    "start_time": "2024-05-26T05:52:36.388Z"
   },
   {
    "duration": 112,
    "start_time": "2024-05-26T05:52:36.482Z"
   },
   {
    "duration": 10,
    "start_time": "2024-05-26T05:52:36.597Z"
   },
   {
    "duration": 103,
    "start_time": "2024-05-26T05:52:36.631Z"
   },
   {
    "duration": 7,
    "start_time": "2024-05-26T05:52:36.737Z"
   },
   {
    "duration": 8,
    "start_time": "2024-05-26T05:52:36.746Z"
   },
   {
    "duration": 454,
    "start_time": "2024-05-26T05:52:36.757Z"
   },
   {
    "duration": 267,
    "start_time": "2024-05-26T05:52:37.215Z"
   },
   {
    "duration": 48,
    "start_time": "2024-05-26T05:52:37.485Z"
   },
   {
    "duration": 14,
    "start_time": "2024-05-26T05:52:37.536Z"
   },
   {
    "duration": 4,
    "start_time": "2024-05-26T05:52:37.553Z"
   },
   {
    "duration": 248,
    "start_time": "2024-05-26T05:52:37.560Z"
   },
   {
    "duration": 221,
    "start_time": "2024-05-26T05:52:37.812Z"
   },
   {
    "duration": 445,
    "start_time": "2024-05-26T05:52:38.036Z"
   },
   {
    "duration": 82,
    "start_time": "2024-05-26T05:52:38.484Z"
   },
   {
    "duration": 335,
    "start_time": "2024-05-26T05:52:38.568Z"
   },
   {
    "duration": 1342,
    "start_time": "2024-05-26T05:52:38.907Z"
   },
   {
    "duration": 1115,
    "start_time": "2024-05-26T05:52:40.252Z"
   },
   {
    "duration": 324,
    "start_time": "2024-05-26T05:54:40.345Z"
   },
   {
    "duration": 325,
    "start_time": "2024-05-26T11:40:33.142Z"
   },
   {
    "duration": 22,
    "start_time": "2024-05-26T11:40:49.787Z"
   },
   {
    "duration": 4265,
    "start_time": "2024-05-26T11:40:59.845Z"
   },
   {
    "duration": 160,
    "start_time": "2024-05-26T11:41:08.883Z"
   },
   {
    "duration": 9,
    "start_time": "2024-05-26T11:41:19.987Z"
   },
   {
    "duration": 7,
    "start_time": "2024-05-26T11:41:22.287Z"
   },
   {
    "duration": 72,
    "start_time": "2024-05-26T11:42:06.862Z"
   },
   {
    "duration": 1389,
    "start_time": "2024-05-26T11:42:18.788Z"
   },
   {
    "duration": 244,
    "start_time": "2024-05-26T11:42:22.837Z"
   },
   {
    "duration": 26,
    "start_time": "2024-05-26T11:42:30.427Z"
   },
   {
    "duration": 26,
    "start_time": "2024-05-26T11:42:33.248Z"
   },
   {
    "duration": 58,
    "start_time": "2024-05-26T11:48:12.827Z"
   },
   {
    "duration": 49,
    "start_time": "2024-05-26T11:48:40.767Z"
   },
   {
    "duration": 13,
    "start_time": "2024-05-26T11:49:53.569Z"
   },
   {
    "duration": 8,
    "start_time": "2024-05-26T11:50:38.407Z"
   },
   {
    "duration": 5,
    "start_time": "2024-05-26T11:50:58.947Z"
   },
   {
    "duration": 266,
    "start_time": "2024-05-26T11:51:25.467Z"
   },
   {
    "duration": 19,
    "start_time": "2024-05-26T12:03:59.043Z"
   },
   {
    "duration": 21,
    "start_time": "2024-05-26T12:04:18.969Z"
   },
   {
    "duration": 20,
    "start_time": "2024-05-26T12:04:31.189Z"
   },
   {
    "duration": 26,
    "start_time": "2024-05-26T12:12:44.054Z"
   },
   {
    "duration": 282,
    "start_time": "2024-05-26T12:12:53.527Z"
   },
   {
    "duration": 12,
    "start_time": "2024-05-26T12:13:23.403Z"
   },
   {
    "duration": 271,
    "start_time": "2024-05-26T12:17:19.467Z"
   },
   {
    "duration": 272,
    "start_time": "2024-05-26T12:17:25.947Z"
   },
   {
    "duration": 1077,
    "start_time": "2024-05-26T12:18:58.068Z"
   },
   {
    "duration": 5968,
    "start_time": "2024-05-26T12:19:02.207Z"
   },
   {
    "duration": 22,
    "start_time": "2024-05-26T12:20:09.142Z"
   },
   {
    "duration": 1455,
    "start_time": "2024-05-26T12:20:12.162Z"
   },
   {
    "duration": 27,
    "start_time": "2024-05-26T12:21:48.587Z"
   },
   {
    "duration": 366,
    "start_time": "2024-05-26T12:21:52.427Z"
   },
   {
    "duration": 757,
    "start_time": "2024-05-26T12:21:55.147Z"
   },
   {
    "duration": 337,
    "start_time": "2024-05-26T12:23:42.388Z"
   },
   {
    "duration": 22,
    "start_time": "2024-05-26T12:24:13.187Z"
   },
   {
    "duration": 741,
    "start_time": "2024-05-26T12:24:28.307Z"
   },
   {
    "duration": 69,
    "start_time": "2024-05-26T12:25:01.167Z"
   },
   {
    "duration": 5,
    "start_time": "2024-05-26T12:25:13.307Z"
   },
   {
    "duration": 1404,
    "start_time": "2024-05-26T12:25:13.317Z"
   },
   {
    "duration": 255,
    "start_time": "2024-05-26T12:25:14.723Z"
   },
   {
    "duration": 107,
    "start_time": "2024-05-26T12:25:14.981Z"
   },
   {
    "duration": 25,
    "start_time": "2024-05-26T12:25:15.092Z"
   },
   {
    "duration": 23,
    "start_time": "2024-05-26T12:25:15.132Z"
   },
   {
    "duration": 192,
    "start_time": "2024-05-26T12:25:15.158Z"
   },
   {
    "duration": 24,
    "start_time": "2024-05-26T12:25:15.353Z"
   },
   {
    "duration": 195,
    "start_time": "2024-05-26T12:25:15.379Z"
   },
   {
    "duration": 161,
    "start_time": "2024-05-26T12:25:15.577Z"
   },
   {
    "duration": 38,
    "start_time": "2024-05-26T12:25:15.741Z"
   },
   {
    "duration": 24,
    "start_time": "2024-05-26T12:25:15.782Z"
   },
   {
    "duration": 7,
    "start_time": "2024-05-26T12:25:15.833Z"
   },
   {
    "duration": 31,
    "start_time": "2024-05-26T12:25:15.847Z"
   },
   {
    "duration": 54,
    "start_time": "2024-05-26T12:25:15.880Z"
   },
   {
    "duration": 40,
    "start_time": "2024-05-26T12:25:15.937Z"
   },
   {
    "duration": 13,
    "start_time": "2024-05-26T12:25:15.980Z"
   },
   {
    "duration": 45,
    "start_time": "2024-05-26T12:25:15.997Z"
   },
   {
    "duration": 1353,
    "start_time": "2024-05-26T12:25:16.045Z"
   },
   {
    "duration": 2609,
    "start_time": "2024-05-26T12:25:17.401Z"
   },
   {
    "duration": 21,
    "start_time": "2024-05-26T12:25:20.013Z"
   },
   {
    "duration": 12,
    "start_time": "2024-05-26T12:25:20.037Z"
   },
   {
    "duration": 5,
    "start_time": "2024-05-26T12:25:20.052Z"
   },
   {
    "duration": 9,
    "start_time": "2024-05-26T12:25:20.060Z"
   },
   {
    "duration": 7,
    "start_time": "2024-05-26T12:25:20.072Z"
   },
   {
    "duration": 59,
    "start_time": "2024-05-26T12:25:20.082Z"
   },
   {
    "duration": 34,
    "start_time": "2024-05-26T12:25:20.143Z"
   },
   {
    "duration": 66,
    "start_time": "2024-05-26T12:25:20.179Z"
   },
   {
    "duration": 35,
    "start_time": "2024-05-26T12:25:20.248Z"
   },
   {
    "duration": 81,
    "start_time": "2024-05-26T12:25:20.286Z"
   },
   {
    "duration": 69,
    "start_time": "2024-05-26T12:25:20.369Z"
   },
   {
    "duration": 6,
    "start_time": "2024-05-26T12:25:20.441Z"
   },
   {
    "duration": 98,
    "start_time": "2024-05-26T12:25:20.450Z"
   },
   {
    "duration": 7,
    "start_time": "2024-05-26T12:25:20.551Z"
   },
   {
    "duration": 7,
    "start_time": "2024-05-26T12:25:20.560Z"
   },
   {
    "duration": 429,
    "start_time": "2024-05-26T12:25:20.570Z"
   },
   {
    "duration": 264,
    "start_time": "2024-05-26T12:25:21.003Z"
   },
   {
    "duration": 11,
    "start_time": "2024-05-26T12:25:21.270Z"
   },
   {
    "duration": 320,
    "start_time": "2024-05-26T12:25:21.283Z"
   },
   {
    "duration": 230,
    "start_time": "2024-05-26T12:25:21.606Z"
   },
   {
    "duration": 242,
    "start_time": "2024-05-26T12:25:21.846Z"
   },
   {
    "duration": 448,
    "start_time": "2024-05-26T12:25:22.091Z"
   },
   {
    "duration": 66,
    "start_time": "2024-05-26T12:25:22.542Z"
   },
   {
    "duration": 407,
    "start_time": "2024-05-26T12:25:22.611Z"
   },
   {
    "duration": 946,
    "start_time": "2024-05-26T12:25:23.032Z"
   },
   {
    "duration": 6215,
    "start_time": "2024-05-26T12:25:23.981Z"
   },
   {
    "duration": 1122,
    "start_time": "2024-05-26T12:25:30.199Z"
   },
   {
    "duration": 802,
    "start_time": "2024-05-26T12:25:31.324Z"
   },
   {
    "duration": 396,
    "start_time": "2024-05-26T12:25:32.129Z"
   },
   {
    "duration": 34,
    "start_time": "2024-05-26T12:25:32.535Z"
   },
   {
    "duration": 1387,
    "start_time": "2024-05-26T12:25:32.572Z"
   },
   {
    "duration": 13,
    "start_time": "2024-05-26T12:25:33.963Z"
   },
   {
    "duration": 391,
    "start_time": "2024-05-26T12:25:33.979Z"
   },
   {
    "duration": 715,
    "start_time": "2024-05-26T12:25:34.374Z"
   },
   {
    "duration": 46,
    "start_time": "2024-05-26T12:25:35.093Z"
   },
   {
    "duration": 660,
    "start_time": "2024-05-26T12:31:20.491Z"
   },
   {
    "duration": 1452,
    "start_time": "2024-05-26T12:31:21.154Z"
   },
   {
    "duration": 250,
    "start_time": "2024-05-26T12:31:22.609Z"
   },
   {
    "duration": 107,
    "start_time": "2024-05-26T12:31:22.862Z"
   },
   {
    "duration": 25,
    "start_time": "2024-05-26T12:31:22.975Z"
   },
   {
    "duration": 45,
    "start_time": "2024-05-26T12:31:23.003Z"
   },
   {
    "duration": 172,
    "start_time": "2024-05-26T12:31:23.051Z"
   },
   {
    "duration": 27,
    "start_time": "2024-05-26T12:31:23.234Z"
   },
   {
    "duration": 214,
    "start_time": "2024-05-26T12:31:23.265Z"
   },
   {
    "duration": 168,
    "start_time": "2024-05-26T12:31:23.482Z"
   },
   {
    "duration": 44,
    "start_time": "2024-05-26T12:31:23.653Z"
   },
   {
    "duration": 47,
    "start_time": "2024-05-26T12:31:23.700Z"
   },
   {
    "duration": 7,
    "start_time": "2024-05-26T12:31:23.750Z"
   },
   {
    "duration": 31,
    "start_time": "2024-05-26T12:31:23.764Z"
   },
   {
    "duration": 45,
    "start_time": "2024-05-26T12:31:23.798Z"
   },
   {
    "duration": 41,
    "start_time": "2024-05-26T12:31:23.846Z"
   },
   {
    "duration": 42,
    "start_time": "2024-05-26T12:31:23.890Z"
   },
   {
    "duration": 15,
    "start_time": "2024-05-26T12:31:23.936Z"
   },
   {
    "duration": 1350,
    "start_time": "2024-05-26T12:31:23.954Z"
   },
   {
    "duration": 2595,
    "start_time": "2024-05-26T12:31:25.307Z"
   },
   {
    "duration": 11,
    "start_time": "2024-05-26T12:31:27.905Z"
   },
   {
    "duration": 12,
    "start_time": "2024-05-26T12:31:27.933Z"
   },
   {
    "duration": 6,
    "start_time": "2024-05-26T12:31:27.947Z"
   },
   {
    "duration": 9,
    "start_time": "2024-05-26T12:31:27.957Z"
   },
   {
    "duration": 8,
    "start_time": "2024-05-26T12:31:27.969Z"
   },
   {
    "duration": 55,
    "start_time": "2024-05-26T12:31:27.981Z"
   },
   {
    "duration": 30,
    "start_time": "2024-05-26T12:31:28.040Z"
   },
   {
    "duration": 65,
    "start_time": "2024-05-26T12:31:28.072Z"
   },
   {
    "duration": 35,
    "start_time": "2024-05-26T12:31:28.140Z"
   },
   {
    "duration": 81,
    "start_time": "2024-05-26T12:31:28.177Z"
   },
   {
    "duration": 57,
    "start_time": "2024-05-26T12:31:28.260Z"
   },
   {
    "duration": 6,
    "start_time": "2024-05-26T12:31:28.333Z"
   },
   {
    "duration": 95,
    "start_time": "2024-05-26T12:31:28.343Z"
   },
   {
    "duration": 6,
    "start_time": "2024-05-26T12:31:28.441Z"
   },
   {
    "duration": 6,
    "start_time": "2024-05-26T12:31:28.450Z"
   },
   {
    "duration": 420,
    "start_time": "2024-05-26T12:31:28.459Z"
   },
   {
    "duration": 265,
    "start_time": "2024-05-26T12:31:28.883Z"
   },
   {
    "duration": 10,
    "start_time": "2024-05-26T12:31:29.151Z"
   },
   {
    "duration": 301,
    "start_time": "2024-05-26T12:31:29.165Z"
   },
   {
    "duration": 245,
    "start_time": "2024-05-26T12:31:29.469Z"
   },
   {
    "duration": 219,
    "start_time": "2024-05-26T12:31:29.722Z"
   },
   {
    "duration": 454,
    "start_time": "2024-05-26T12:31:29.944Z"
   },
   {
    "duration": 85,
    "start_time": "2024-05-26T12:31:30.401Z"
   },
   {
    "duration": 330,
    "start_time": "2024-05-26T12:31:30.489Z"
   },
   {
    "duration": 951,
    "start_time": "2024-05-26T12:31:30.822Z"
   },
   {
    "duration": 5864,
    "start_time": "2024-05-26T12:31:31.776Z"
   },
   {
    "duration": 1123,
    "start_time": "2024-05-26T12:31:37.643Z"
   },
   {
    "duration": 638,
    "start_time": "2024-05-26T12:31:38.769Z"
   },
   {
    "duration": 451,
    "start_time": "2024-05-26T12:31:39.409Z"
   },
   {
    "duration": 20,
    "start_time": "2024-05-26T12:31:39.864Z"
   },
   {
    "duration": 1353,
    "start_time": "2024-05-26T12:31:39.888Z"
   },
   {
    "duration": 14,
    "start_time": "2024-05-26T12:31:41.244Z"
   },
   {
    "duration": 404,
    "start_time": "2024-05-26T12:31:41.261Z"
   },
   {
    "duration": 734,
    "start_time": "2024-05-26T12:31:41.668Z"
   },
   {
    "duration": 46,
    "start_time": "2024-05-26T12:31:42.405Z"
   },
   {
    "duration": 4391,
    "start_time": "2024-05-26T13:00:53.629Z"
   },
   {
    "duration": 1391,
    "start_time": "2024-05-26T13:00:58.033Z"
   },
   {
    "duration": 246,
    "start_time": "2024-05-26T13:00:59.432Z"
   },
   {
    "duration": 97,
    "start_time": "2024-05-26T13:00:59.681Z"
   },
   {
    "duration": 29,
    "start_time": "2024-05-26T13:00:59.783Z"
   },
   {
    "duration": 24,
    "start_time": "2024-05-26T13:00:59.832Z"
   },
   {
    "duration": 174,
    "start_time": "2024-05-26T13:00:59.860Z"
   },
   {
    "duration": 19,
    "start_time": "2024-05-26T13:01:00.036Z"
   },
   {
    "duration": 188,
    "start_time": "2024-05-26T13:01:00.058Z"
   },
   {
    "duration": 168,
    "start_time": "2024-05-26T13:01:00.249Z"
   },
   {
    "duration": 51,
    "start_time": "2024-05-26T13:01:00.420Z"
   },
   {
    "duration": 27,
    "start_time": "2024-05-26T13:01:00.474Z"
   },
   {
    "duration": 33,
    "start_time": "2024-05-26T13:01:00.504Z"
   },
   {
    "duration": 40,
    "start_time": "2024-05-26T13:01:00.545Z"
   },
   {
    "duration": 55,
    "start_time": "2024-05-26T13:01:00.588Z"
   },
   {
    "duration": 41,
    "start_time": "2024-05-26T13:01:00.648Z"
   },
   {
    "duration": 42,
    "start_time": "2024-05-26T13:01:00.692Z"
   },
   {
    "duration": 15,
    "start_time": "2024-05-26T13:01:00.737Z"
   },
   {
    "duration": 1379,
    "start_time": "2024-05-26T13:01:00.754Z"
   },
   {
    "duration": 2585,
    "start_time": "2024-05-26T13:01:02.136Z"
   },
   {
    "duration": 16,
    "start_time": "2024-05-26T13:01:04.724Z"
   },
   {
    "duration": 10,
    "start_time": "2024-05-26T13:01:04.743Z"
   },
   {
    "duration": 5,
    "start_time": "2024-05-26T13:01:04.757Z"
   },
   {
    "duration": 8,
    "start_time": "2024-05-26T13:01:04.765Z"
   },
   {
    "duration": 57,
    "start_time": "2024-05-26T13:01:04.777Z"
   },
   {
    "duration": 12,
    "start_time": "2024-05-26T13:01:04.837Z"
   },
   {
    "duration": 33,
    "start_time": "2024-05-26T13:01:04.852Z"
   },
   {
    "duration": 69,
    "start_time": "2024-05-26T13:01:04.888Z"
   },
   {
    "duration": 37,
    "start_time": "2024-05-26T13:01:04.960Z"
   },
   {
    "duration": 82,
    "start_time": "2024-05-26T13:01:05.000Z"
   },
   {
    "duration": 78,
    "start_time": "2024-05-26T13:01:05.085Z"
   },
   {
    "duration": 6,
    "start_time": "2024-05-26T13:01:05.166Z"
   },
   {
    "duration": 99,
    "start_time": "2024-05-26T13:01:05.175Z"
   },
   {
    "duration": 7,
    "start_time": "2024-05-26T13:01:05.276Z"
   },
   {
    "duration": 7,
    "start_time": "2024-05-26T13:01:05.286Z"
   },
   {
    "duration": 418,
    "start_time": "2024-05-26T13:01:05.297Z"
   },
   {
    "duration": 260,
    "start_time": "2024-05-26T13:01:05.718Z"
   },
   {
    "duration": 10,
    "start_time": "2024-05-26T13:01:05.981Z"
   },
   {
    "duration": 299,
    "start_time": "2024-05-26T13:01:05.994Z"
   },
   {
    "duration": 227,
    "start_time": "2024-05-26T13:01:06.296Z"
   },
   {
    "duration": 229,
    "start_time": "2024-05-26T13:01:06.538Z"
   },
   {
    "duration": 508,
    "start_time": "2024-05-26T13:01:06.771Z"
   },
   {
    "duration": 86,
    "start_time": "2024-05-26T13:01:07.282Z"
   },
   {
    "duration": 331,
    "start_time": "2024-05-26T13:01:07.372Z"
   },
   {
    "duration": 957,
    "start_time": "2024-05-26T13:01:07.707Z"
   },
   {
    "duration": 5798,
    "start_time": "2024-05-26T13:01:08.668Z"
   },
   {
    "duration": 1138,
    "start_time": "2024-05-26T13:01:14.468Z"
   },
   {
    "duration": 656,
    "start_time": "2024-05-26T13:01:15.619Z"
   },
   {
    "duration": 356,
    "start_time": "2024-05-26T13:01:16.279Z"
   },
   {
    "duration": 22,
    "start_time": "2024-05-26T13:01:16.638Z"
   },
   {
    "duration": 1354,
    "start_time": "2024-05-26T13:01:16.663Z"
   },
   {
    "duration": 18,
    "start_time": "2024-05-26T13:01:18.020Z"
   },
   {
    "duration": 380,
    "start_time": "2024-05-26T13:01:18.041Z"
   },
   {
    "duration": 710,
    "start_time": "2024-05-26T13:01:18.424Z"
   },
   {
    "duration": 30,
    "start_time": "2024-05-26T13:01:19.137Z"
   },
   {
    "duration": 685,
    "start_time": "2024-05-26T13:02:29.708Z"
   },
   {
    "duration": 1439,
    "start_time": "2024-05-26T13:02:33.505Z"
   },
   {
    "duration": 257,
    "start_time": "2024-05-26T13:02:36.193Z"
   },
   {
    "duration": 90,
    "start_time": "2024-05-26T13:02:40.072Z"
   },
   {
    "duration": 24,
    "start_time": "2024-05-26T13:02:44.858Z"
   },
   {
    "duration": 34,
    "start_time": "2024-05-26T13:02:47.134Z"
   },
   {
    "duration": 1105,
    "start_time": "2024-05-26T13:03:04.808Z"
   },
   {
    "duration": 6425,
    "start_time": "2024-05-26T13:03:09.142Z"
   },
   {
    "duration": 1123,
    "start_time": "2024-05-26T13:03:29.486Z"
   },
   {
    "duration": 395,
    "start_time": "2024-05-26T13:05:07.558Z"
   },
   {
    "duration": 911,
    "start_time": "2024-05-26T13:05:10.256Z"
   },
   {
    "duration": 564,
    "start_time": "2024-05-26T13:11:01.424Z"
   },
   {
    "duration": 1091,
    "start_time": "2024-05-26T13:11:32.927Z"
   },
   {
    "duration": 527,
    "start_time": "2024-05-26T13:12:18.114Z"
   },
   {
    "duration": 1798,
    "start_time": "2024-05-26T13:14:22.541Z"
   },
   {
    "duration": 596,
    "start_time": "2024-05-26T13:14:49.729Z"
   },
   {
    "duration": 515,
    "start_time": "2024-05-26T13:15:27.298Z"
   },
   {
    "duration": 507,
    "start_time": "2024-05-26T13:15:40.282Z"
   },
   {
    "duration": 522,
    "start_time": "2024-05-26T13:16:01.008Z"
   },
   {
    "duration": 6,
    "start_time": "2024-05-26T13:16:28.708Z"
   },
   {
    "duration": 357,
    "start_time": "2024-05-26T13:17:09.716Z"
   },
   {
    "duration": 150,
    "start_time": "2024-05-26T13:17:29.768Z"
   },
   {
    "duration": 526,
    "start_time": "2024-05-26T13:17:41.712Z"
   },
   {
    "duration": 509,
    "start_time": "2024-05-26T13:17:47.751Z"
   },
   {
    "duration": 537,
    "start_time": "2024-05-26T13:17:51.776Z"
   },
   {
    "duration": 548,
    "start_time": "2024-05-26T13:24:30.602Z"
   },
   {
    "duration": 585,
    "start_time": "2024-05-26T13:24:37.898Z"
   },
   {
    "duration": 310,
    "start_time": "2024-05-26T13:25:48.395Z"
   },
   {
    "duration": 756,
    "start_time": "2024-05-26T13:26:27.015Z"
   },
   {
    "duration": 1356,
    "start_time": "2024-05-26T13:26:28.470Z"
   },
   {
    "duration": 413,
    "start_time": "2024-05-26T13:26:30.957Z"
   },
   {
    "duration": 98,
    "start_time": "2024-05-26T13:26:36.158Z"
   },
   {
    "duration": 26,
    "start_time": "2024-05-26T13:26:38.829Z"
   },
   {
    "duration": 25,
    "start_time": "2024-05-26T13:26:41.558Z"
   },
   {
    "duration": 162,
    "start_time": "2024-05-26T13:26:46.272Z"
   },
   {
    "duration": 2689,
    "start_time": "2024-05-26T13:27:09.589Z"
   },
   {
    "duration": 399,
    "start_time": "2024-05-26T13:27:53.496Z"
   },
   {
    "duration": 1094,
    "start_time": "2024-05-26T13:29:38.256Z"
   },
   {
    "duration": 1147,
    "start_time": "2024-05-26T13:29:53.959Z"
   },
   {
    "duration": 451,
    "start_time": "2024-05-26T13:30:49.638Z"
   },
   {
    "duration": 6265,
    "start_time": "2024-05-26T13:31:25.392Z"
   },
   {
    "duration": 6376,
    "start_time": "2024-05-26T13:31:47.838Z"
   },
   {
    "duration": 1194,
    "start_time": "2024-05-26T13:33:01.439Z"
   },
   {
    "duration": 16,
    "start_time": "2024-05-26T13:33:17.446Z"
   },
   {
    "duration": 377,
    "start_time": "2024-05-26T13:33:22.784Z"
   },
   {
    "duration": 1068,
    "start_time": "2024-05-26T13:33:29.288Z"
   },
   {
    "duration": 560,
    "start_time": "2024-05-26T13:33:54.836Z"
   },
   {
    "duration": 318,
    "start_time": "2024-05-26T13:38:08.796Z"
   },
   {
    "duration": 22,
    "start_time": "2024-05-26T13:39:31.246Z"
   },
   {
    "duration": 713,
    "start_time": "2024-05-26T13:39:41.478Z"
   },
   {
    "duration": 1403,
    "start_time": "2024-05-26T13:39:44.978Z"
   },
   {
    "duration": 245,
    "start_time": "2024-05-26T13:39:48.498Z"
   },
   {
    "duration": 93,
    "start_time": "2024-05-26T13:39:51.832Z"
   },
   {
    "duration": 27,
    "start_time": "2024-05-26T13:39:54.218Z"
   },
   {
    "duration": 25,
    "start_time": "2024-05-26T13:39:56.227Z"
   },
   {
    "duration": 1108,
    "start_time": "2024-05-26T13:40:08.038Z"
   },
   {
    "duration": 2553,
    "start_time": "2024-05-26T13:40:49.516Z"
   },
   {
    "duration": 1173,
    "start_time": "2024-05-26T13:41:27.089Z"
   },
   {
    "duration": 22,
    "start_time": "2024-05-26T13:42:07.288Z"
   },
   {
    "duration": 262,
    "start_time": "2024-05-26T13:42:13.938Z"
   },
   {
    "duration": 5849,
    "start_time": "2024-05-26T13:42:49.958Z"
   },
   {
    "duration": 1185,
    "start_time": "2024-05-26T13:43:00.504Z"
   },
   {
    "duration": 1266,
    "start_time": "2024-05-26T13:43:10.110Z"
   },
   {
    "duration": 5,
    "start_time": "2024-05-26T13:43:24.630Z"
   },
   {
    "duration": 1532,
    "start_time": "2024-05-26T13:43:24.640Z"
   },
   {
    "duration": 265,
    "start_time": "2024-05-26T13:43:26.175Z"
   },
   {
    "duration": 67,
    "start_time": "2024-05-26T13:43:26.446Z"
   },
   {
    "duration": 27,
    "start_time": "2024-05-26T13:43:26.534Z"
   },
   {
    "duration": 31,
    "start_time": "2024-05-26T13:43:26.565Z"
   },
   {
    "duration": 244,
    "start_time": "2024-05-26T13:43:26.600Z"
   },
   {
    "duration": 24,
    "start_time": "2024-05-26T13:43:26.848Z"
   },
   {
    "duration": 220,
    "start_time": "2024-05-26T13:43:26.875Z"
   },
   {
    "duration": 191,
    "start_time": "2024-05-26T13:43:27.101Z"
   },
   {
    "duration": 62,
    "start_time": "2024-05-26T13:43:27.297Z"
   },
   {
    "duration": 29,
    "start_time": "2024-05-26T13:43:27.364Z"
   },
   {
    "duration": 35,
    "start_time": "2024-05-26T13:43:27.398Z"
   },
   {
    "duration": 35,
    "start_time": "2024-05-26T13:43:27.436Z"
   },
   {
    "duration": 24,
    "start_time": "2024-05-26T13:43:27.475Z"
   },
   {
    "duration": 54,
    "start_time": "2024-05-26T13:43:27.532Z"
   },
   {
    "duration": 14,
    "start_time": "2024-05-26T13:43:27.588Z"
   },
   {
    "duration": 42,
    "start_time": "2024-05-26T13:43:27.605Z"
   },
   {
    "duration": 1387,
    "start_time": "2024-05-26T13:43:27.650Z"
   },
   {
    "duration": 2613,
    "start_time": "2024-05-26T13:43:29.041Z"
   },
   {
    "duration": 11,
    "start_time": "2024-05-26T13:43:31.657Z"
   },
   {
    "duration": 12,
    "start_time": "2024-05-26T13:43:31.670Z"
   },
   {
    "duration": 6,
    "start_time": "2024-05-26T13:43:31.684Z"
   },
   {
    "duration": 47,
    "start_time": "2024-05-26T13:43:31.693Z"
   },
   {
    "duration": 7,
    "start_time": "2024-05-26T13:43:31.743Z"
   },
   {
    "duration": 13,
    "start_time": "2024-05-26T13:43:31.753Z"
   },
   {
    "duration": 69,
    "start_time": "2024-05-26T13:43:31.769Z"
   },
   {
    "duration": 35,
    "start_time": "2024-05-26T13:43:31.848Z"
   },
   {
    "duration": 69,
    "start_time": "2024-05-26T13:43:31.886Z"
   },
   {
    "duration": 51,
    "start_time": "2024-05-26T13:43:31.958Z"
   },
   {
    "duration": 75,
    "start_time": "2024-05-26T13:43:32.012Z"
   },
   {
    "duration": 6,
    "start_time": "2024-05-26T13:43:32.090Z"
   },
   {
    "duration": 106,
    "start_time": "2024-05-26T13:43:32.100Z"
   },
   {
    "duration": 24,
    "start_time": "2024-05-26T13:43:32.209Z"
   },
   {
    "duration": 9,
    "start_time": "2024-05-26T13:43:32.236Z"
   },
   {
    "duration": 425,
    "start_time": "2024-05-26T13:43:32.249Z"
   },
   {
    "duration": 300,
    "start_time": "2024-05-26T13:43:32.677Z"
   },
   {
    "duration": 12,
    "start_time": "2024-05-26T13:43:32.980Z"
   },
   {
    "duration": 320,
    "start_time": "2024-05-26T13:43:32.996Z"
   },
   {
    "duration": 407,
    "start_time": "2024-05-26T13:43:33.319Z"
   },
   {
    "duration": 250,
    "start_time": "2024-05-26T13:43:33.729Z"
   },
   {
    "duration": 432,
    "start_time": "2024-05-26T13:43:33.983Z"
   },
   {
    "duration": 396,
    "start_time": "2024-05-26T13:43:34.418Z"
   },
   {
    "duration": 1037,
    "start_time": "2024-05-26T13:43:34.818Z"
   },
   {
    "duration": 667,
    "start_time": "2024-05-26T13:44:16.177Z"
   },
   {
    "duration": 1402,
    "start_time": "2024-05-26T13:44:17.915Z"
   },
   {
    "duration": 242,
    "start_time": "2024-05-26T13:44:20.345Z"
   },
   {
    "duration": 104,
    "start_time": "2024-05-26T13:44:31.245Z"
   },
   {
    "duration": 24,
    "start_time": "2024-05-26T13:44:34.705Z"
   },
   {
    "duration": 22,
    "start_time": "2024-05-26T13:44:37.587Z"
   },
   {
    "duration": 161,
    "start_time": "2024-05-26T13:44:42.657Z"
   },
   {
    "duration": 19,
    "start_time": "2024-05-26T13:44:47.835Z"
   },
   {
    "duration": 177,
    "start_time": "2024-05-26T13:44:50.477Z"
   },
   {
    "duration": 181,
    "start_time": "2024-05-26T13:44:53.337Z"
   },
   {
    "duration": 41,
    "start_time": "2024-05-26T13:44:54.547Z"
   },
   {
    "duration": 22,
    "start_time": "2024-05-26T13:44:58.267Z"
   },
   {
    "duration": 7,
    "start_time": "2024-05-26T13:45:00.527Z"
   },
   {
    "duration": 31,
    "start_time": "2024-05-26T13:45:02.687Z"
   },
   {
    "duration": 20,
    "start_time": "2024-05-26T13:45:05.028Z"
   },
   {
    "duration": 40,
    "start_time": "2024-05-26T13:45:09.419Z"
   },
   {
    "duration": 40,
    "start_time": "2024-05-26T13:47:14.649Z"
   },
   {
    "duration": 42,
    "start_time": "2024-05-26T13:47:38.453Z"
   },
   {
    "duration": 8,
    "start_time": "2024-05-26T13:48:03.104Z"
   },
   {
    "duration": 40,
    "start_time": "2024-05-26T13:48:09.328Z"
   },
   {
    "duration": 12,
    "start_time": "2024-05-26T13:48:17.878Z"
   },
   {
    "duration": 20,
    "start_time": "2024-05-26T13:48:21.665Z"
   },
   {
    "duration": 1311,
    "start_time": "2024-05-26T13:48:24.653Z"
   },
   {
    "duration": 2600,
    "start_time": "2024-05-26T13:48:29.289Z"
   },
   {
    "duration": 12,
    "start_time": "2024-05-26T13:48:39.827Z"
   },
   {
    "duration": 10,
    "start_time": "2024-05-26T13:48:42.767Z"
   },
   {
    "duration": 6,
    "start_time": "2024-05-26T13:48:45.405Z"
   },
   {
    "duration": 8,
    "start_time": "2024-05-26T13:49:34.620Z"
   },
   {
    "duration": 10,
    "start_time": "2024-05-26T13:49:42.795Z"
   },
   {
    "duration": 18,
    "start_time": "2024-05-26T13:49:57.688Z"
   },
   {
    "duration": 1151,
    "start_time": "2024-05-26T13:50:09.908Z"
   },
   {
    "duration": 8,
    "start_time": "2024-05-26T13:50:20.425Z"
   },
   {
    "duration": 19,
    "start_time": "2024-05-26T13:50:38.198Z"
   },
   {
    "duration": 21,
    "start_time": "2024-05-26T13:51:13.770Z"
   },
   {
    "duration": 11,
    "start_time": "2024-05-26T13:51:20.348Z"
   },
   {
    "duration": 39,
    "start_time": "2024-05-26T13:51:32.331Z"
   },
   {
    "duration": 34,
    "start_time": "2024-05-26T13:51:35.776Z"
   },
   {
    "duration": 36,
    "start_time": "2024-05-26T13:51:39.983Z"
   },
   {
    "duration": 47,
    "start_time": "2024-05-26T13:51:44.847Z"
   },
   {
    "duration": 49,
    "start_time": "2024-05-26T13:52:20.267Z"
   },
   {
    "duration": 64,
    "start_time": "2024-05-26T13:52:23.507Z"
   },
   {
    "duration": 6,
    "start_time": "2024-05-26T13:52:35.327Z"
   },
   {
    "duration": 76,
    "start_time": "2024-05-26T13:52:38.415Z"
   },
   {
    "duration": 6,
    "start_time": "2024-05-26T13:52:43.815Z"
   },
   {
    "duration": 6,
    "start_time": "2024-05-26T13:52:46.387Z"
   },
   {
    "duration": 398,
    "start_time": "2024-05-26T13:52:51.427Z"
   },
   {
    "duration": 259,
    "start_time": "2024-05-26T13:52:55.718Z"
   },
   {
    "duration": 10,
    "start_time": "2024-05-26T13:53:00.337Z"
   },
   {
    "duration": 272,
    "start_time": "2024-05-26T13:53:05.747Z"
   },
   {
    "duration": 227,
    "start_time": "2024-05-26T13:53:12.530Z"
   },
   {
    "duration": 204,
    "start_time": "2024-05-26T13:53:15.117Z"
   },
   {
    "duration": 447,
    "start_time": "2024-05-26T13:53:20.227Z"
   },
   {
    "duration": 463,
    "start_time": "2024-05-26T13:53:31.407Z"
   },
   {
    "duration": 918,
    "start_time": "2024-05-26T13:53:41.587Z"
   },
   {
    "duration": 6068,
    "start_time": "2024-05-26T13:54:33.627Z"
   },
   {
    "duration": 7491,
    "start_time": "2024-05-26T13:56:41.737Z"
   },
   {
    "duration": 736,
    "start_time": "2024-05-26T13:59:21.578Z"
   },
   {
    "duration": 1615,
    "start_time": "2024-05-26T13:59:22.318Z"
   },
   {
    "duration": 245,
    "start_time": "2024-05-26T13:59:23.937Z"
   },
   {
    "duration": 93,
    "start_time": "2024-05-26T13:59:25.258Z"
   },
   {
    "duration": 26,
    "start_time": "2024-05-26T13:59:26.416Z"
   },
   {
    "duration": 24,
    "start_time": "2024-05-26T13:59:27.477Z"
   },
   {
    "duration": 1089,
    "start_time": "2024-05-26T13:59:39.646Z"
   },
   {
    "duration": 5590,
    "start_time": "2024-05-26T14:02:18.899Z"
   },
   {
    "duration": 9084,
    "start_time": "2024-05-26T14:03:59.146Z"
   },
   {
    "duration": 6921,
    "start_time": "2024-05-26T14:04:22.147Z"
   },
   {
    "duration": 6917,
    "start_time": "2024-05-26T14:04:45.202Z"
   },
   {
    "duration": 30,
    "start_time": "2024-05-26T14:07:41.935Z"
   },
   {
    "duration": 1245,
    "start_time": "2024-05-26T14:07:45.778Z"
   },
   {
    "duration": 497,
    "start_time": "2024-05-26T14:08:25.687Z"
   },
   {
    "duration": 911,
    "start_time": "2024-05-26T14:08:58.038Z"
   },
   {
    "duration": 360,
    "start_time": "2024-05-26T14:09:30.117Z"
   },
   {
    "duration": 843,
    "start_time": "2024-05-26T14:09:35.960Z"
   },
   {
    "duration": 6927,
    "start_time": "2024-05-26T14:11:59.543Z"
   },
   {
    "duration": 7138,
    "start_time": "2024-05-26T14:12:15.189Z"
   },
   {
    "duration": 1203,
    "start_time": "2024-05-26T14:12:38.515Z"
   },
   {
    "duration": 27,
    "start_time": "2024-05-26T14:13:21.598Z"
   },
   {
    "duration": 1435,
    "start_time": "2024-05-26T14:13:27.626Z"
   },
   {
    "duration": 395,
    "start_time": "2024-05-26T14:27:54.731Z"
   },
   {
    "duration": 595,
    "start_time": "2024-05-26T14:27:56.595Z"
   },
   {
    "duration": 38,
    "start_time": "2024-05-26T14:28:02.651Z"
   },
   {
    "duration": 406,
    "start_time": "2024-05-26T14:29:27.998Z"
   },
   {
    "duration": 27,
    "start_time": "2024-05-26T14:29:54.310Z"
   },
   {
    "duration": 789,
    "start_time": "2024-05-26T14:30:04.194Z"
   },
   {
    "duration": 1465,
    "start_time": "2024-05-26T14:30:05.777Z"
   },
   {
    "duration": 283,
    "start_time": "2024-05-26T14:30:07.419Z"
   },
   {
    "duration": 126,
    "start_time": "2024-05-26T14:30:09.922Z"
   },
   {
    "duration": 38,
    "start_time": "2024-05-26T14:30:11.174Z"
   },
   {
    "duration": 33,
    "start_time": "2024-05-26T14:30:12.219Z"
   },
   {
    "duration": 1437,
    "start_time": "2024-05-26T14:30:24.313Z"
   },
   {
    "duration": 6897,
    "start_time": "2024-05-26T14:30:29.214Z"
   },
   {
    "duration": 86,
    "start_time": "2024-05-26T14:31:56.150Z"
   },
   {
    "duration": 441,
    "start_time": "2024-05-26T14:32:01.140Z"
   },
   {
    "duration": 1796,
    "start_time": "2024-05-26T14:32:04.120Z"
   },
   {
    "duration": 44,
    "start_time": "2024-05-26T14:32:25.066Z"
   },
   {
    "duration": 5393,
    "start_time": "2024-05-26T14:32:54.758Z"
   },
   {
    "duration": 5478,
    "start_time": "2024-05-26T14:33:28.158Z"
   },
   {
    "duration": 27,
    "start_time": "2024-05-26T14:33:39.789Z"
   },
   {
    "duration": 136,
    "start_time": "2024-05-26T14:33:49.406Z"
   },
   {
    "duration": 2125,
    "start_time": "2024-09-24T14:35:55.092Z"
   },
   {
    "duration": 820,
    "start_time": "2024-09-24T14:35:58.552Z"
   },
   {
    "duration": 715,
    "start_time": "2024-09-24T14:37:03.153Z"
   },
   {
    "duration": 9,
    "start_time": "2024-09-24T14:37:14.226Z"
   },
   {
    "duration": 167,
    "start_time": "2024-09-24T14:37:32.327Z"
   }
  ],
  "kernelspec": {
   "display_name": "Python 3 (ipykernel)",
   "language": "python",
   "name": "python3"
  },
  "language_info": {
   "codemirror_mode": {
    "name": "ipython",
    "version": 3
   },
   "file_extension": ".py",
   "mimetype": "text/x-python",
   "name": "python",
   "nbconvert_exporter": "python",
   "pygments_lexer": "ipython3",
   "version": "3.12.3"
  },
  "toc": {
   "base_numbering": 1,
   "nav_menu": {},
   "number_sections": true,
   "sideBar": true,
   "skip_h1_title": true,
   "title_cell": "Table of Contents",
   "title_sidebar": "Contents",
   "toc_cell": false,
   "toc_position": {},
   "toc_section_display": true,
   "toc_window_display": false
  },
  "vscode": {
   "interpreter": {
    "hash": "01a7be9ec63e704a62cefc5fe7a4756944464ee731be31632bdf42a4cb4688cf"
   }
  }
 },
 "nbformat": 4,
 "nbformat_minor": 5
}
